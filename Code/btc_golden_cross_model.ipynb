{
 "cells": [
  {
   "cell_type": "markdown",
   "metadata": {},
   "source": [
    "# Bitcoin Machine Learning Golden Cross Algorithmic Trading\n",
    "\n",
    "## Background\n",
    "\n",
    "In this workbook, we've trained support vector machine (SVM) model to make trading predictions, backtested the results, and then evaluated its performance compared to that of a logistic regression model for BTC.\n",
    "\n",
    "## References\n",
    "\n",
    "* [SKLearn SVM - SVC Classifier](https://scikit-learn.org/stable/modules/generated/sklearn.svm.SVC.html)\n",
    "\n",
    "* [SKLearn LogisticRegression](https://scikit-learn.org/stable/modules/generated/sklearn.linear_model.LogisticRegression.html)\n",
    "\n",
    "---"
   ]
  },
  {
   "cell_type": "code",
   "execution_count": 2,
   "metadata": {},
   "outputs": [],
   "source": [
    "# Imports\n",
    "import pandas as pd\n",
    "import numpy as np\n",
    "import hvplot.pandas\n",
    "from pathlib import Path\n",
    "import san"
   ]
  },
  {
   "cell_type": "markdown",
   "metadata": {},
   "source": [
    "### Read the CSV file into Pandas DataFrame"
   ]
  },
  {
   "cell_type": "code",
   "execution_count": 3,
   "metadata": {},
   "outputs": [
    {
     "data": {
      "text/html": [
       "<div>\n",
       "<style scoped>\n",
       "    .dataframe tbody tr th:only-of-type {\n",
       "        vertical-align: middle;\n",
       "    }\n",
       "\n",
       "    .dataframe tbody tr th {\n",
       "        vertical-align: top;\n",
       "    }\n",
       "\n",
       "    .dataframe thead th {\n",
       "        text-align: right;\n",
       "    }\n",
       "</style>\n",
       "<table border=\"1\" class=\"dataframe\">\n",
       "  <thead>\n",
       "    <tr style=\"text-align: right;\">\n",
       "      <th></th>\n",
       "      <th>open</th>\n",
       "      <th>close</th>\n",
       "      <th>high</th>\n",
       "      <th>low</th>\n",
       "      <th>volume</th>\n",
       "      <th>marketcap</th>\n",
       "    </tr>\n",
       "    <tr>\n",
       "      <th>datetime</th>\n",
       "      <th></th>\n",
       "      <th></th>\n",
       "      <th></th>\n",
       "      <th></th>\n",
       "      <th></th>\n",
       "      <th></th>\n",
       "    </tr>\n",
       "  </thead>\n",
       "  <tbody>\n",
       "    <tr>\n",
       "      <th>2018-12-01 00:00:00+00:00</th>\n",
       "      <td>4024.464242</td>\n",
       "      <td>4214.671932</td>\n",
       "      <td>4309.377312</td>\n",
       "      <td>3967.385777</td>\n",
       "      <td>5.375314e+09</td>\n",
       "      <td>7.334619e+10</td>\n",
       "    </tr>\n",
       "    <tr>\n",
       "      <th>2018-12-02 00:00:00+00:00</th>\n",
       "      <td>4200.733180</td>\n",
       "      <td>4139.878064</td>\n",
       "      <td>4302.308536</td>\n",
       "      <td>4110.978473</td>\n",
       "      <td>5.262698e+09</td>\n",
       "      <td>7.205049e+10</td>\n",
       "    </tr>\n",
       "    <tr>\n",
       "      <th>2018-12-03 00:00:00+00:00</th>\n",
       "      <td>4140.968062</td>\n",
       "      <td>3894.130907</td>\n",
       "      <td>4155.979284</td>\n",
       "      <td>3839.515704</td>\n",
       "      <td>5.089571e+09</td>\n",
       "      <td>6.777905e+10</td>\n",
       "    </tr>\n",
       "    <tr>\n",
       "      <th>2018-12-04 00:00:00+00:00</th>\n",
       "      <td>3889.157782</td>\n",
       "      <td>3956.893870</td>\n",
       "      <td>4075.627655</td>\n",
       "      <td>3832.749938</td>\n",
       "      <td>5.028069e+09</td>\n",
       "      <td>6.887829e+10</td>\n",
       "    </tr>\n",
       "    <tr>\n",
       "      <th>2018-12-05 00:00:00+00:00</th>\n",
       "      <td>3958.894725</td>\n",
       "      <td>3753.994827</td>\n",
       "      <td>3969.535852</td>\n",
       "      <td>3753.994827</td>\n",
       "      <td>5.302482e+09</td>\n",
       "      <td>6.535250e+10</td>\n",
       "    </tr>\n",
       "  </tbody>\n",
       "</table>\n",
       "</div>"
      ],
      "text/plain": [
       "                                  open        close         high          low  \\\n",
       "datetime                                                                        \n",
       "2018-12-01 00:00:00+00:00  4024.464242  4214.671932  4309.377312  3967.385777   \n",
       "2018-12-02 00:00:00+00:00  4200.733180  4139.878064  4302.308536  4110.978473   \n",
       "2018-12-03 00:00:00+00:00  4140.968062  3894.130907  4155.979284  3839.515704   \n",
       "2018-12-04 00:00:00+00:00  3889.157782  3956.893870  4075.627655  3832.749938   \n",
       "2018-12-05 00:00:00+00:00  3958.894725  3753.994827  3969.535852  3753.994827   \n",
       "\n",
       "                                 volume     marketcap  \n",
       "datetime                                               \n",
       "2018-12-01 00:00:00+00:00  5.375314e+09  7.334619e+10  \n",
       "2018-12-02 00:00:00+00:00  5.262698e+09  7.205049e+10  \n",
       "2018-12-03 00:00:00+00:00  5.089571e+09  6.777905e+10  \n",
       "2018-12-04 00:00:00+00:00  5.028069e+09  6.887829e+10  \n",
       "2018-12-05 00:00:00+00:00  5.302482e+09  6.535250e+10  "
      ]
     },
     "execution_count": 3,
     "metadata": {},
     "output_type": "execute_result"
    }
   ],
   "source": [
    "# Pull the OHLCV dataset from Santiment into a Pandas Dataframe\n",
    "trading_df = san.get(\n",
    "    \"ohlcv/bitcoin\",\n",
    "    from_date=\"2018-12-01\",\n",
    "    to_date=\"2021-12-01\",\n",
    "    interval=\"1d\"\n",
    ")\n",
    "\n",
    "trading_df.columns = ['open', 'close', 'high', 'low', 'volume', 'marketcap']\n",
    "\n",
    "# Review the DataFrame\n",
    "trading_df.head()"
   ]
  },
  {
   "cell_type": "markdown",
   "metadata": {},
   "source": [
    "### Add a daily return values column to the DataFrame"
   ]
  },
  {
   "cell_type": "code",
   "execution_count": 4,
   "metadata": {},
   "outputs": [
    {
     "data": {
      "text/html": [
       "<div>\n",
       "<style scoped>\n",
       "    .dataframe tbody tr th:only-of-type {\n",
       "        vertical-align: middle;\n",
       "    }\n",
       "\n",
       "    .dataframe tbody tr th {\n",
       "        vertical-align: top;\n",
       "    }\n",
       "\n",
       "    .dataframe thead th {\n",
       "        text-align: right;\n",
       "    }\n",
       "</style>\n",
       "<table border=\"1\" class=\"dataframe\">\n",
       "  <thead>\n",
       "    <tr style=\"text-align: right;\">\n",
       "      <th></th>\n",
       "      <th>open</th>\n",
       "      <th>close</th>\n",
       "      <th>high</th>\n",
       "      <th>low</th>\n",
       "      <th>volume</th>\n",
       "      <th>marketcap</th>\n",
       "      <th>actual_returns</th>\n",
       "    </tr>\n",
       "    <tr>\n",
       "      <th>datetime</th>\n",
       "      <th></th>\n",
       "      <th></th>\n",
       "      <th></th>\n",
       "      <th></th>\n",
       "      <th></th>\n",
       "      <th></th>\n",
       "      <th></th>\n",
       "    </tr>\n",
       "  </thead>\n",
       "  <tbody>\n",
       "    <tr>\n",
       "      <th>2018-12-02 00:00:00+00:00</th>\n",
       "      <td>4200.733180</td>\n",
       "      <td>4139.878064</td>\n",
       "      <td>4302.308536</td>\n",
       "      <td>4110.978473</td>\n",
       "      <td>5.262698e+09</td>\n",
       "      <td>7.205049e+10</td>\n",
       "      <td>-0.017746</td>\n",
       "    </tr>\n",
       "    <tr>\n",
       "      <th>2018-12-03 00:00:00+00:00</th>\n",
       "      <td>4140.968062</td>\n",
       "      <td>3894.130907</td>\n",
       "      <td>4155.979284</td>\n",
       "      <td>3839.515704</td>\n",
       "      <td>5.089571e+09</td>\n",
       "      <td>6.777905e+10</td>\n",
       "      <td>-0.059361</td>\n",
       "    </tr>\n",
       "    <tr>\n",
       "      <th>2018-12-04 00:00:00+00:00</th>\n",
       "      <td>3889.157782</td>\n",
       "      <td>3956.893870</td>\n",
       "      <td>4075.627655</td>\n",
       "      <td>3832.749938</td>\n",
       "      <td>5.028069e+09</td>\n",
       "      <td>6.887829e+10</td>\n",
       "      <td>0.016117</td>\n",
       "    </tr>\n",
       "    <tr>\n",
       "      <th>2018-12-05 00:00:00+00:00</th>\n",
       "      <td>3958.894725</td>\n",
       "      <td>3753.994827</td>\n",
       "      <td>3969.535852</td>\n",
       "      <td>3753.994827</td>\n",
       "      <td>5.302482e+09</td>\n",
       "      <td>6.535250e+10</td>\n",
       "      <td>-0.051277</td>\n",
       "    </tr>\n",
       "    <tr>\n",
       "      <th>2018-12-06 00:00:00+00:00</th>\n",
       "      <td>3752.957618</td>\n",
       "      <td>3523.587653</td>\n",
       "      <td>3877.217892</td>\n",
       "      <td>3521.101724</td>\n",
       "      <td>5.881809e+09</td>\n",
       "      <td>6.134725e+10</td>\n",
       "      <td>-0.061377</td>\n",
       "    </tr>\n",
       "  </tbody>\n",
       "</table>\n",
       "</div>"
      ],
      "text/plain": [
       "                                  open        close         high          low  \\\n",
       "datetime                                                                        \n",
       "2018-12-02 00:00:00+00:00  4200.733180  4139.878064  4302.308536  4110.978473   \n",
       "2018-12-03 00:00:00+00:00  4140.968062  3894.130907  4155.979284  3839.515704   \n",
       "2018-12-04 00:00:00+00:00  3889.157782  3956.893870  4075.627655  3832.749938   \n",
       "2018-12-05 00:00:00+00:00  3958.894725  3753.994827  3969.535852  3753.994827   \n",
       "2018-12-06 00:00:00+00:00  3752.957618  3523.587653  3877.217892  3521.101724   \n",
       "\n",
       "                                 volume     marketcap  actual_returns  \n",
       "datetime                                                               \n",
       "2018-12-02 00:00:00+00:00  5.262698e+09  7.205049e+10       -0.017746  \n",
       "2018-12-03 00:00:00+00:00  5.089571e+09  6.777905e+10       -0.059361  \n",
       "2018-12-04 00:00:00+00:00  5.028069e+09  6.887829e+10        0.016117  \n",
       "2018-12-05 00:00:00+00:00  5.302482e+09  6.535250e+10       -0.051277  \n",
       "2018-12-06 00:00:00+00:00  5.881809e+09  6.134725e+10       -0.061377  "
      ]
     },
     "metadata": {},
     "output_type": "display_data"
    },
    {
     "data": {
      "text/html": [
       "<div>\n",
       "<style scoped>\n",
       "    .dataframe tbody tr th:only-of-type {\n",
       "        vertical-align: middle;\n",
       "    }\n",
       "\n",
       "    .dataframe tbody tr th {\n",
       "        vertical-align: top;\n",
       "    }\n",
       "\n",
       "    .dataframe thead th {\n",
       "        text-align: right;\n",
       "    }\n",
       "</style>\n",
       "<table border=\"1\" class=\"dataframe\">\n",
       "  <thead>\n",
       "    <tr style=\"text-align: right;\">\n",
       "      <th></th>\n",
       "      <th>open</th>\n",
       "      <th>close</th>\n",
       "      <th>high</th>\n",
       "      <th>low</th>\n",
       "      <th>volume</th>\n",
       "      <th>marketcap</th>\n",
       "      <th>actual_returns</th>\n",
       "    </tr>\n",
       "    <tr>\n",
       "      <th>datetime</th>\n",
       "      <th></th>\n",
       "      <th></th>\n",
       "      <th></th>\n",
       "      <th></th>\n",
       "      <th></th>\n",
       "      <th></th>\n",
       "      <th></th>\n",
       "    </tr>\n",
       "  </thead>\n",
       "  <tbody>\n",
       "    <tr>\n",
       "      <th>2021-11-27 00:00:00+00:00</th>\n",
       "      <td>53788.100861</td>\n",
       "      <td>54815.079305</td>\n",
       "      <td>55278.488924</td>\n",
       "      <td>53741.326475</td>\n",
       "      <td>3.056086e+10</td>\n",
       "      <td>1.035176e+12</td>\n",
       "      <td>0.023247</td>\n",
       "    </tr>\n",
       "    <tr>\n",
       "      <th>2021-11-28 00:00:00+00:00</th>\n",
       "      <td>54813.024702</td>\n",
       "      <td>57248.458376</td>\n",
       "      <td>57393.843751</td>\n",
       "      <td>53680.466521</td>\n",
       "      <td>2.811689e+10</td>\n",
       "      <td>1.081180e+12</td>\n",
       "      <td>0.044393</td>\n",
       "    </tr>\n",
       "    <tr>\n",
       "      <th>2021-11-29 00:00:00+00:00</th>\n",
       "      <td>57291.904735</td>\n",
       "      <td>57806.566215</td>\n",
       "      <td>58758.660146</td>\n",
       "      <td>56856.369563</td>\n",
       "      <td>3.237084e+10</td>\n",
       "      <td>1.091774e+12</td>\n",
       "      <td>0.009749</td>\n",
       "    </tr>\n",
       "    <tr>\n",
       "      <th>2021-11-30 00:00:00+00:00</th>\n",
       "      <td>57792.231501</td>\n",
       "      <td>57005.425474</td>\n",
       "      <td>59020.328590</td>\n",
       "      <td>56089.483383</td>\n",
       "      <td>3.670859e+10</td>\n",
       "      <td>1.076689e+12</td>\n",
       "      <td>-0.013859</td>\n",
       "    </tr>\n",
       "    <tr>\n",
       "      <th>2021-12-01 00:00:00+00:00</th>\n",
       "      <td>56907.966734</td>\n",
       "      <td>57229.829899</td>\n",
       "      <td>59039.431694</td>\n",
       "      <td>56553.080774</td>\n",
       "      <td>3.685820e+10</td>\n",
       "      <td>1.080978e+12</td>\n",
       "      <td>0.003937</td>\n",
       "    </tr>\n",
       "  </tbody>\n",
       "</table>\n",
       "</div>"
      ],
      "text/plain": [
       "                                   open         close          high  \\\n",
       "datetime                                                              \n",
       "2021-11-27 00:00:00+00:00  53788.100861  54815.079305  55278.488924   \n",
       "2021-11-28 00:00:00+00:00  54813.024702  57248.458376  57393.843751   \n",
       "2021-11-29 00:00:00+00:00  57291.904735  57806.566215  58758.660146   \n",
       "2021-11-30 00:00:00+00:00  57792.231501  57005.425474  59020.328590   \n",
       "2021-12-01 00:00:00+00:00  56907.966734  57229.829899  59039.431694   \n",
       "\n",
       "                                    low        volume     marketcap  \\\n",
       "datetime                                                              \n",
       "2021-11-27 00:00:00+00:00  53741.326475  3.056086e+10  1.035176e+12   \n",
       "2021-11-28 00:00:00+00:00  53680.466521  2.811689e+10  1.081180e+12   \n",
       "2021-11-29 00:00:00+00:00  56856.369563  3.237084e+10  1.091774e+12   \n",
       "2021-11-30 00:00:00+00:00  56089.483383  3.670859e+10  1.076689e+12   \n",
       "2021-12-01 00:00:00+00:00  56553.080774  3.685820e+10  1.080978e+12   \n",
       "\n",
       "                           actual_returns  \n",
       "datetime                                   \n",
       "2021-11-27 00:00:00+00:00        0.023247  \n",
       "2021-11-28 00:00:00+00:00        0.044393  \n",
       "2021-11-29 00:00:00+00:00        0.009749  \n",
       "2021-11-30 00:00:00+00:00       -0.013859  \n",
       "2021-12-01 00:00:00+00:00        0.003937  "
      ]
     },
     "metadata": {},
     "output_type": "display_data"
    }
   ],
   "source": [
    "# Calculate the daily returns using the closing prices and the pct_change function\n",
    "trading_df[\"actual_returns\"] = trading_df[\"close\"].pct_change()\n",
    "\n",
    "# Drop all NaN values from the DataFrame\n",
    "trading_df = trading_df.dropna()\n",
    "\n",
    "# Review the DataFrame\n",
    "display(trading_df.head())\n",
    "display(trading_df.tail())"
   ]
  },
  {
   "cell_type": "markdown",
   "metadata": {},
   "source": [
    "---\n",
    "\n",
    "### Visualize Entries and Exits"
   ]
  },
  {
   "cell_type": "code",
   "execution_count": 5,
   "metadata": {},
   "outputs": [],
   "source": [
    "# Import the finta Python library and the TA module\n",
    "from finta import TA"
   ]
  },
  {
   "cell_type": "code",
   "execution_count": 6,
   "metadata": {},
   "outputs": [],
   "source": [
    "# Create a signals_df DataFrame\n",
    "signals_df = trading_df.copy()\n",
    "\n",
    "# Set the short window and long windows\n",
    "short_window = 50\n",
    "long_window = 200\n",
    "\n",
    "# Add the SMA technical indicators for the short and long windows\n",
    "signals_df[\"sma_fast\"] = TA.SMA(signals_df, short_window)\n",
    "signals_df[\"sma_slow\"] = TA.SMA(signals_df, long_window)"
   ]
  },
  {
   "cell_type": "code",
   "execution_count": 7,
   "metadata": {},
   "outputs": [
    {
     "data": {
      "text/html": [
       "<div>\n",
       "<style scoped>\n",
       "    .dataframe tbody tr th:only-of-type {\n",
       "        vertical-align: middle;\n",
       "    }\n",
       "\n",
       "    .dataframe tbody tr th {\n",
       "        vertical-align: top;\n",
       "    }\n",
       "\n",
       "    .dataframe thead th {\n",
       "        text-align: right;\n",
       "    }\n",
       "</style>\n",
       "<table border=\"1\" class=\"dataframe\">\n",
       "  <thead>\n",
       "    <tr style=\"text-align: right;\">\n",
       "      <th></th>\n",
       "      <th>open</th>\n",
       "      <th>close</th>\n",
       "      <th>high</th>\n",
       "      <th>low</th>\n",
       "      <th>volume</th>\n",
       "      <th>marketcap</th>\n",
       "      <th>actual_returns</th>\n",
       "      <th>sma_fast</th>\n",
       "      <th>sma_slow</th>\n",
       "    </tr>\n",
       "    <tr>\n",
       "      <th>datetime</th>\n",
       "      <th></th>\n",
       "      <th></th>\n",
       "      <th></th>\n",
       "      <th></th>\n",
       "      <th></th>\n",
       "      <th></th>\n",
       "      <th></th>\n",
       "      <th></th>\n",
       "      <th></th>\n",
       "    </tr>\n",
       "  </thead>\n",
       "  <tbody>\n",
       "    <tr>\n",
       "      <th>2019-06-19 00:00:00+00:00</th>\n",
       "      <td>9080.823672</td>\n",
       "      <td>9273.521766</td>\n",
       "      <td>9287.188201</td>\n",
       "      <td>9070.395994</td>\n",
       "      <td>1.554681e+10</td>\n",
       "      <td>1.647809e+11</td>\n",
       "      <td>0.021115</td>\n",
       "      <td>7713.055810</td>\n",
       "      <td>4969.832575</td>\n",
       "    </tr>\n",
       "    <tr>\n",
       "      <th>2019-06-20 00:00:00+00:00</th>\n",
       "      <td>9286.328862</td>\n",
       "      <td>9527.160350</td>\n",
       "      <td>9584.462069</td>\n",
       "      <td>9233.407251</td>\n",
       "      <td>1.784682e+10</td>\n",
       "      <td>1.693048e+11</td>\n",
       "      <td>0.027351</td>\n",
       "      <td>7795.545075</td>\n",
       "      <td>4996.768986</td>\n",
       "    </tr>\n",
       "    <tr>\n",
       "      <th>2019-06-21 00:00:00+00:00</th>\n",
       "      <td>9526.185593</td>\n",
       "      <td>10144.556717</td>\n",
       "      <td>10144.556717</td>\n",
       "      <td>9526.185593</td>\n",
       "      <td>2.062401e+10</td>\n",
       "      <td>1.802932e+11</td>\n",
       "      <td>0.064804</td>\n",
       "      <td>7888.325162</td>\n",
       "      <td>5028.021115</td>\n",
       "    </tr>\n",
       "    <tr>\n",
       "      <th>2019-06-22 00:00:00+00:00</th>\n",
       "      <td>10193.173489</td>\n",
       "      <td>10701.691013</td>\n",
       "      <td>11157.345516</td>\n",
       "      <td>10116.124501</td>\n",
       "      <td>2.999520e+10</td>\n",
       "      <td>1.902141e+11</td>\n",
       "      <td>0.054920</td>\n",
       "      <td>7986.993194</td>\n",
       "      <td>5061.745101</td>\n",
       "    </tr>\n",
       "    <tr>\n",
       "      <th>2019-06-23 00:00:00+00:00</th>\n",
       "      <td>10693.383969</td>\n",
       "      <td>10855.371016</td>\n",
       "      <td>11234.592857</td>\n",
       "      <td>10556.944449</td>\n",
       "      <td>2.099833e+10</td>\n",
       "      <td>1.929701e+11</td>\n",
       "      <td>0.014360</td>\n",
       "      <td>8087.477265</td>\n",
       "      <td>5097.251982</td>\n",
       "    </tr>\n",
       "  </tbody>\n",
       "</table>\n",
       "</div>"
      ],
      "text/plain": [
       "                                   open         close          high  \\\n",
       "datetime                                                              \n",
       "2019-06-19 00:00:00+00:00   9080.823672   9273.521766   9287.188201   \n",
       "2019-06-20 00:00:00+00:00   9286.328862   9527.160350   9584.462069   \n",
       "2019-06-21 00:00:00+00:00   9526.185593  10144.556717  10144.556717   \n",
       "2019-06-22 00:00:00+00:00  10193.173489  10701.691013  11157.345516   \n",
       "2019-06-23 00:00:00+00:00  10693.383969  10855.371016  11234.592857   \n",
       "\n",
       "                                    low        volume     marketcap  \\\n",
       "datetime                                                              \n",
       "2019-06-19 00:00:00+00:00   9070.395994  1.554681e+10  1.647809e+11   \n",
       "2019-06-20 00:00:00+00:00   9233.407251  1.784682e+10  1.693048e+11   \n",
       "2019-06-21 00:00:00+00:00   9526.185593  2.062401e+10  1.802932e+11   \n",
       "2019-06-22 00:00:00+00:00  10116.124501  2.999520e+10  1.902141e+11   \n",
       "2019-06-23 00:00:00+00:00  10556.944449  2.099833e+10  1.929701e+11   \n",
       "\n",
       "                           actual_returns     sma_fast     sma_slow  \n",
       "datetime                                                             \n",
       "2019-06-19 00:00:00+00:00        0.021115  7713.055810  4969.832575  \n",
       "2019-06-20 00:00:00+00:00        0.027351  7795.545075  4996.768986  \n",
       "2019-06-21 00:00:00+00:00        0.064804  7888.325162  5028.021115  \n",
       "2019-06-22 00:00:00+00:00        0.054920  7986.993194  5061.745101  \n",
       "2019-06-23 00:00:00+00:00        0.014360  8087.477265  5097.251982  "
      ]
     },
     "execution_count": 7,
     "metadata": {},
     "output_type": "execute_result"
    }
   ],
   "source": [
    "# Drop the NaNs using dropna()\n",
    "signals_df = signals_df.dropna()\n",
    "signals_df.head()"
   ]
  },
  {
   "cell_type": "code",
   "execution_count": 8,
   "metadata": {},
   "outputs": [
    {
     "data": {
      "text/html": [
       "<div>\n",
       "<style scoped>\n",
       "    .dataframe tbody tr th:only-of-type {\n",
       "        vertical-align: middle;\n",
       "    }\n",
       "\n",
       "    .dataframe tbody tr th {\n",
       "        vertical-align: top;\n",
       "    }\n",
       "\n",
       "    .dataframe thead th {\n",
       "        text-align: right;\n",
       "    }\n",
       "</style>\n",
       "<table border=\"1\" class=\"dataframe\">\n",
       "  <thead>\n",
       "    <tr style=\"text-align: right;\">\n",
       "      <th></th>\n",
       "      <th>open</th>\n",
       "      <th>close</th>\n",
       "      <th>high</th>\n",
       "      <th>low</th>\n",
       "      <th>volume</th>\n",
       "      <th>marketcap</th>\n",
       "      <th>actual_returns</th>\n",
       "      <th>sma_fast</th>\n",
       "      <th>sma_slow</th>\n",
       "      <th>Signal</th>\n",
       "      <th>Entry/Exit</th>\n",
       "    </tr>\n",
       "    <tr>\n",
       "      <th>datetime</th>\n",
       "      <th></th>\n",
       "      <th></th>\n",
       "      <th></th>\n",
       "      <th></th>\n",
       "      <th></th>\n",
       "      <th></th>\n",
       "      <th></th>\n",
       "      <th></th>\n",
       "      <th></th>\n",
       "      <th></th>\n",
       "      <th></th>\n",
       "    </tr>\n",
       "  </thead>\n",
       "  <tbody>\n",
       "    <tr>\n",
       "      <th>2019-09-22 00:00:00+00:00</th>\n",
       "      <td>10024.647738</td>\n",
       "      <td>10067.962651</td>\n",
       "      <td>10073.875964</td>\n",
       "      <td>9922.533395</td>\n",
       "      <td>1.320564e+10</td>\n",
       "      <td>1.807404e+11</td>\n",
       "      <td>0.004815</td>\n",
       "      <td>10495.424404</td>\n",
       "      <td>8258.779991</td>\n",
       "      <td>1.0</td>\n",
       "      <td>0.0</td>\n",
       "    </tr>\n",
       "    <tr>\n",
       "      <th>2019-09-23 00:00:00+00:00</th>\n",
       "      <td>10070.054672</td>\n",
       "      <td>9729.323764</td>\n",
       "      <td>10070.054672</td>\n",
       "      <td>9727.143574</td>\n",
       "      <td>1.514493e+10</td>\n",
       "      <td>1.746746e+11</td>\n",
       "      <td>-0.033635</td>\n",
       "      <td>10470.607194</td>\n",
       "      <td>8287.869189</td>\n",
       "      <td>1.0</td>\n",
       "      <td>0.0</td>\n",
       "    </tr>\n",
       "    <tr>\n",
       "      <th>2019-09-24 00:00:00+00:00</th>\n",
       "      <td>9728.995177</td>\n",
       "      <td>8620.566427</td>\n",
       "      <td>9803.319779</td>\n",
       "      <td>8370.801382</td>\n",
       "      <td>2.500289e+10</td>\n",
       "      <td>1.547858e+11</td>\n",
       "      <td>-0.113960</td>\n",
       "      <td>10406.787622</td>\n",
       "      <td>8311.474760</td>\n",
       "      <td>1.0</td>\n",
       "      <td>0.0</td>\n",
       "    </tr>\n",
       "    <tr>\n",
       "      <th>2019-09-25 00:00:00+00:00</th>\n",
       "      <td>8605.701900</td>\n",
       "      <td>8486.992972</td>\n",
       "      <td>8740.531170</td>\n",
       "      <td>8325.402358</td>\n",
       "      <td>2.174473e+10</td>\n",
       "      <td>1.524040e+11</td>\n",
       "      <td>-0.015495</td>\n",
       "      <td>10346.964095</td>\n",
       "      <td>8334.093156</td>\n",
       "      <td>1.0</td>\n",
       "      <td>0.0</td>\n",
       "    </tr>\n",
       "    <tr>\n",
       "      <th>2019-09-26 00:00:00+00:00</th>\n",
       "      <td>8474.726713</td>\n",
       "      <td>8118.967568</td>\n",
       "      <td>8515.685285</td>\n",
       "      <td>7895.629623</td>\n",
       "      <td>1.925821e+10</td>\n",
       "      <td>1.458125e+11</td>\n",
       "      <td>-0.043363</td>\n",
       "      <td>10270.504080</td>\n",
       "      <td>8354.929995</td>\n",
       "      <td>1.0</td>\n",
       "      <td>0.0</td>\n",
       "    </tr>\n",
       "    <tr>\n",
       "      <th>2019-09-27 00:00:00+00:00</th>\n",
       "      <td>8112.357703</td>\n",
       "      <td>8251.845557</td>\n",
       "      <td>8271.269202</td>\n",
       "      <td>7965.922654</td>\n",
       "      <td>1.640894e+10</td>\n",
       "      <td>1.482126e+11</td>\n",
       "      <td>0.016366</td>\n",
       "      <td>10196.212843</td>\n",
       "      <td>8376.657167</td>\n",
       "      <td>1.0</td>\n",
       "      <td>0.0</td>\n",
       "    </tr>\n",
       "    <tr>\n",
       "      <th>2019-09-28 00:00:00+00:00</th>\n",
       "      <td>8249.052612</td>\n",
       "      <td>8245.915155</td>\n",
       "      <td>8284.027321</td>\n",
       "      <td>8125.431663</td>\n",
       "      <td>1.414115e+10</td>\n",
       "      <td>1.481225e+11</td>\n",
       "      <td>-0.000719</td>\n",
       "      <td>10123.900012</td>\n",
       "      <td>8398.340961</td>\n",
       "      <td>1.0</td>\n",
       "      <td>0.0</td>\n",
       "    </tr>\n",
       "    <tr>\n",
       "      <th>2019-09-29 00:00:00+00:00</th>\n",
       "      <td>8256.404809</td>\n",
       "      <td>8104.226367</td>\n",
       "      <td>8256.404809</td>\n",
       "      <td>7990.497160</td>\n",
       "      <td>1.303415e+10</td>\n",
       "      <td>1.455911e+11</td>\n",
       "      <td>-0.017183</td>\n",
       "      <td>10058.904055</td>\n",
       "      <td>8419.328507</td>\n",
       "      <td>1.0</td>\n",
       "      <td>0.0</td>\n",
       "    </tr>\n",
       "    <tr>\n",
       "      <th>2019-09-30 00:00:00+00:00</th>\n",
       "      <td>8099.885072</td>\n",
       "      <td>8293.867741</td>\n",
       "      <td>8314.230997</td>\n",
       "      <td>7832.472354</td>\n",
       "      <td>1.711547e+10</td>\n",
       "      <td>1.490116e+11</td>\n",
       "      <td>0.023400</td>\n",
       "      <td>9994.309822</td>\n",
       "      <td>8441.176001</td>\n",
       "      <td>1.0</td>\n",
       "      <td>0.0</td>\n",
       "    </tr>\n",
       "    <tr>\n",
       "      <th>2019-10-01 00:00:00+00:00</th>\n",
       "      <td>8295.019594</td>\n",
       "      <td>8343.276681</td>\n",
       "      <td>8497.692035</td>\n",
       "      <td>8232.807081</td>\n",
       "      <td>1.530534e+10</td>\n",
       "      <td>1.499140e+11</td>\n",
       "      <td>0.005957</td>\n",
       "      <td>9933.523037</td>\n",
       "      <td>8463.087828</td>\n",
       "      <td>1.0</td>\n",
       "      <td>0.0</td>\n",
       "    </tr>\n",
       "  </tbody>\n",
       "</table>\n",
       "</div>"
      ],
      "text/plain": [
       "                                   open         close          high  \\\n",
       "datetime                                                              \n",
       "2019-09-22 00:00:00+00:00  10024.647738  10067.962651  10073.875964   \n",
       "2019-09-23 00:00:00+00:00  10070.054672   9729.323764  10070.054672   \n",
       "2019-09-24 00:00:00+00:00   9728.995177   8620.566427   9803.319779   \n",
       "2019-09-25 00:00:00+00:00   8605.701900   8486.992972   8740.531170   \n",
       "2019-09-26 00:00:00+00:00   8474.726713   8118.967568   8515.685285   \n",
       "2019-09-27 00:00:00+00:00   8112.357703   8251.845557   8271.269202   \n",
       "2019-09-28 00:00:00+00:00   8249.052612   8245.915155   8284.027321   \n",
       "2019-09-29 00:00:00+00:00   8256.404809   8104.226367   8256.404809   \n",
       "2019-09-30 00:00:00+00:00   8099.885072   8293.867741   8314.230997   \n",
       "2019-10-01 00:00:00+00:00   8295.019594   8343.276681   8497.692035   \n",
       "\n",
       "                                   low        volume     marketcap  \\\n",
       "datetime                                                             \n",
       "2019-09-22 00:00:00+00:00  9922.533395  1.320564e+10  1.807404e+11   \n",
       "2019-09-23 00:00:00+00:00  9727.143574  1.514493e+10  1.746746e+11   \n",
       "2019-09-24 00:00:00+00:00  8370.801382  2.500289e+10  1.547858e+11   \n",
       "2019-09-25 00:00:00+00:00  8325.402358  2.174473e+10  1.524040e+11   \n",
       "2019-09-26 00:00:00+00:00  7895.629623  1.925821e+10  1.458125e+11   \n",
       "2019-09-27 00:00:00+00:00  7965.922654  1.640894e+10  1.482126e+11   \n",
       "2019-09-28 00:00:00+00:00  8125.431663  1.414115e+10  1.481225e+11   \n",
       "2019-09-29 00:00:00+00:00  7990.497160  1.303415e+10  1.455911e+11   \n",
       "2019-09-30 00:00:00+00:00  7832.472354  1.711547e+10  1.490116e+11   \n",
       "2019-10-01 00:00:00+00:00  8232.807081  1.530534e+10  1.499140e+11   \n",
       "\n",
       "                           actual_returns      sma_fast     sma_slow  Signal  \\\n",
       "datetime                                                                       \n",
       "2019-09-22 00:00:00+00:00        0.004815  10495.424404  8258.779991     1.0   \n",
       "2019-09-23 00:00:00+00:00       -0.033635  10470.607194  8287.869189     1.0   \n",
       "2019-09-24 00:00:00+00:00       -0.113960  10406.787622  8311.474760     1.0   \n",
       "2019-09-25 00:00:00+00:00       -0.015495  10346.964095  8334.093156     1.0   \n",
       "2019-09-26 00:00:00+00:00       -0.043363  10270.504080  8354.929995     1.0   \n",
       "2019-09-27 00:00:00+00:00        0.016366  10196.212843  8376.657167     1.0   \n",
       "2019-09-28 00:00:00+00:00       -0.000719  10123.900012  8398.340961     1.0   \n",
       "2019-09-29 00:00:00+00:00       -0.017183  10058.904055  8419.328507     1.0   \n",
       "2019-09-30 00:00:00+00:00        0.023400   9994.309822  8441.176001     1.0   \n",
       "2019-10-01 00:00:00+00:00        0.005957   9933.523037  8463.087828     1.0   \n",
       "\n",
       "                           Entry/Exit  \n",
       "datetime                               \n",
       "2019-09-22 00:00:00+00:00         0.0  \n",
       "2019-09-23 00:00:00+00:00         0.0  \n",
       "2019-09-24 00:00:00+00:00         0.0  \n",
       "2019-09-25 00:00:00+00:00         0.0  \n",
       "2019-09-26 00:00:00+00:00         0.0  \n",
       "2019-09-27 00:00:00+00:00         0.0  \n",
       "2019-09-28 00:00:00+00:00         0.0  \n",
       "2019-09-29 00:00:00+00:00         0.0  \n",
       "2019-09-30 00:00:00+00:00         0.0  \n",
       "2019-10-01 00:00:00+00:00         0.0  "
      ]
     },
     "execution_count": 8,
     "metadata": {},
     "output_type": "execute_result"
    }
   ],
   "source": [
    "# Set the Signal column\n",
    "signals_df[\"Signal\"] = 0.0\n",
    "\n",
    "# Generate the trading signal 1 or 0,\n",
    "# where 1 is when the Short window is greater than (or crosses over) the Long Window\n",
    "# where 0 is when the Short window is under the Long window\n",
    "signals_df[\"Signal\"][short_window:] = np.where(\n",
    "    signals_df[\"sma_fast\"][short_window:] > signals_df[\"sma_slow\"][short_window:], 1.0, 0.0\n",
    ")\n",
    "\n",
    "# Calculate the points in time at which a position should be taken, 1 or -1\n",
    "signals_df[\"Entry/Exit\"] = signals_df[\"Signal\"].diff()\n",
    "\n",
    "# Review the DataFrame\n",
    "signals_df.iloc[95:105, :]"
   ]
  },
  {
   "cell_type": "code",
   "execution_count": 9,
   "metadata": {},
   "outputs": [
    {
     "data": {},
     "metadata": {},
     "output_type": "display_data"
    },
    {
     "data": {
      "application/vnd.holoviews_exec.v0+json": "",
      "text/html": [
       "<div id='1002'>\n",
       "\n",
       "\n",
       "\n",
       "\n",
       "\n",
       "  <div class=\"bk-root\" id=\"8eceda7a-2550-47a4-8713-368777bf3988\" data-root-id=\"1002\"></div>\n",
       "</div>\n",
       "<script type=\"application/javascript\">(function(root) {\n",
       "  function embed_document(root) {\n",
       "    var docs_json = {\"39f98758-25ee-4a7d-9285-0d5729521f44\":{\"defs\":[{\"extends\":null,\"module\":null,\"name\":\"ReactiveHTML1\",\"overrides\":[],\"properties\":[]},{\"extends\":null,\"module\":null,\"name\":\"FlexBox1\",\"overrides\":[],\"properties\":[{\"default\":\"flex-start\",\"kind\":null,\"name\":\"align_content\"},{\"default\":\"flex-start\",\"kind\":null,\"name\":\"align_items\"},{\"default\":\"row\",\"kind\":null,\"name\":\"flex_direction\"},{\"default\":\"wrap\",\"kind\":null,\"name\":\"flex_wrap\"},{\"default\":\"flex-start\",\"kind\":null,\"name\":\"justify_content\"}]},{\"extends\":null,\"module\":null,\"name\":\"TemplateActions1\",\"overrides\":[],\"properties\":[{\"default\":0,\"kind\":null,\"name\":\"open_modal\"},{\"default\":0,\"kind\":null,\"name\":\"close_modal\"}]},{\"extends\":null,\"module\":null,\"name\":\"MaterialTemplateActions1\",\"overrides\":[],\"properties\":[{\"default\":0,\"kind\":null,\"name\":\"open_modal\"},{\"default\":0,\"kind\":null,\"name\":\"close_modal\"}]}],\"roots\":{\"references\":[{\"attributes\":{\"coordinates\":null,\"group\":null,\"text_color\":\"black\",\"text_font_size\":\"12pt\"},\"id\":\"1012\",\"type\":\"Title\"},{\"attributes\":{\"axis_label\":\"Price in $\",\"coordinates\":null,\"formatter\":{\"id\":\"1046\"},\"group\":null,\"major_label_policy\":{\"id\":\"1047\"},\"ticker\":{\"id\":\"1025\"}},\"id\":\"1024\",\"type\":\"LinearAxis\"},{\"attributes\":{\"line_alpha\":0.1,\"line_color\":\"#e5ae38\",\"line_width\":2,\"x\":{\"field\":\"datetime\"},\"y\":{\"field\":\"value\"}},\"id\":\"1096\",\"type\":\"Line\"},{\"attributes\":{\"axis\":{\"id\":\"1020\"},\"coordinates\":null,\"grid_line_color\":null,\"group\":null,\"ticker\":null},\"id\":\"1023\",\"type\":\"Grid\"},{\"attributes\":{\"line_color\":\"#e5ae38\",\"line_width\":2,\"x\":{\"field\":\"datetime\"},\"y\":{\"field\":\"value\"}},\"id\":\"1095\",\"type\":\"Line\"},{\"attributes\":{\"num_minor_ticks\":5,\"tickers\":[{\"id\":\"1077\"},{\"id\":\"1078\"},{\"id\":\"1079\"},{\"id\":\"1080\"},{\"id\":\"1081\"},{\"id\":\"1082\"},{\"id\":\"1083\"},{\"id\":\"1084\"},{\"id\":\"1085\"},{\"id\":\"1086\"},{\"id\":\"1087\"},{\"id\":\"1088\"}]},\"id\":\"1021\",\"type\":\"DatetimeTicker\"},{\"attributes\":{\"label\":{\"value\":\"sma_slow\"},\"renderers\":[{\"id\":\"1098\"}]},\"id\":\"1126\",\"type\":\"LegendItem\"},{\"attributes\":{},\"id\":\"1029\",\"type\":\"PanTool\"},{\"attributes\":{\"line_alpha\":0.2,\"line_color\":\"#e5ae38\",\"line_width\":2,\"x\":{\"field\":\"datetime\"},\"y\":{\"field\":\"value\"}},\"id\":\"1097\",\"type\":\"Line\"},{\"attributes\":{},\"id\":\"1044\",\"type\":\"AllLabels\"},{\"attributes\":{},\"id\":\"1343\",\"type\":\"UnionRenderers\"},{\"attributes\":{\"source\":{\"id\":\"1092\"}},\"id\":\"1099\",\"type\":\"CDSView\"},{\"attributes\":{\"axis\":{\"id\":\"1024\"},\"coordinates\":null,\"dimension\":1,\"grid_line_color\":null,\"group\":null,\"ticker\":null},\"id\":\"1027\",\"type\":\"Grid\"},{\"attributes\":{},\"id\":\"1025\",\"type\":\"BasicTicker\"},{\"attributes\":{},\"id\":\"1111\",\"type\":\"UnionRenderers\"},{\"attributes\":{},\"id\":\"1030\",\"type\":\"WheelZoomTool\"},{\"attributes\":{\"mantissas\":[1,2,5],\"max_interval\":500.0,\"num_minor_ticks\":0},\"id\":\"1077\",\"type\":\"AdaptiveTicker\"},{\"attributes\":{\"base\":60,\"mantissas\":[1,2,5,10,15,20,30],\"max_interval\":1800000.0,\"min_interval\":1000.0,\"num_minor_ticks\":0},\"id\":\"1078\",\"type\":\"AdaptiveTicker\"},{\"attributes\":{\"line_color\":\"#e5ae38\",\"line_width\":2,\"x\":{\"field\":\"datetime\"},\"y\":{\"field\":\"value\"}},\"id\":\"1127\",\"type\":\"Line\"},{\"attributes\":{},\"id\":\"1028\",\"type\":\"SaveTool\"},{\"attributes\":{\"days\":[1,2,3,4,5,6,7,8,9,10,11,12,13,14,15,16,17,18,19,20,21,22,23,24,25,26,27,28,29,30,31]},\"id\":\"1080\",\"type\":\"DaysTicker\"},{\"attributes\":{\"base\":24,\"mantissas\":[1,2,4,6,8,12],\"max_interval\":43200000.0,\"min_interval\":3600000.0,\"num_minor_ticks\":0},\"id\":\"1079\",\"type\":\"AdaptiveTicker\"},{\"attributes\":{\"overlay\":{\"id\":\"1033\"}},\"id\":\"1031\",\"type\":\"BoxZoomTool\"},{\"attributes\":{},\"id\":\"1093\",\"type\":\"Selection\"},{\"attributes\":{\"months\":[0,1,2,3,4,5,6,7,8,9,10,11]},\"id\":\"1084\",\"type\":\"MonthsTicker\"},{\"attributes\":{},\"id\":\"1032\",\"type\":\"ResetTool\"},{\"attributes\":{\"months\":[0,2,4,6,8,10]},\"id\":\"1085\",\"type\":\"MonthsTicker\"},{\"attributes\":{\"days\":[1,4,7,10,13,16,19,22,25,28]},\"id\":\"1081\",\"type\":\"DaysTicker\"},{\"attributes\":{\"bottom_units\":\"screen\",\"coordinates\":null,\"fill_alpha\":0.5,\"fill_color\":\"lightgrey\",\"group\":null,\"left_units\":\"screen\",\"level\":\"overlay\",\"line_alpha\":1.0,\"line_color\":\"black\",\"line_dash\":[4,4],\"line_width\":2,\"right_units\":\"screen\",\"syncable\":false,\"top_units\":\"screen\"},\"id\":\"1033\",\"type\":\"BoxAnnotation\"},{\"attributes\":{\"days\":[1,15]},\"id\":\"1083\",\"type\":\"DaysTicker\"},{\"attributes\":{\"months\":[0,6]},\"id\":\"1087\",\"type\":\"MonthsTicker\"},{\"attributes\":{},\"id\":\"1043\",\"type\":\"DatetimeTickFormatter\"},{\"attributes\":{\"days\":[1,8,15,22]},\"id\":\"1082\",\"type\":\"DaysTicker\"},{\"attributes\":{},\"id\":\"1088\",\"type\":\"YearsTicker\"},{\"attributes\":{\"months\":[0,4,8]},\"id\":\"1086\",\"type\":\"MonthsTicker\"},{\"attributes\":{},\"id\":\"1074\",\"type\":\"UnionRenderers\"},{\"attributes\":{\"line_color\":\"lightgray\",\"line_width\":2,\"x\":{\"field\":\"datetime\"},\"y\":{\"field\":\"close\"}},\"id\":\"1051\",\"type\":\"Line\"},{\"attributes\":{\"margin\":[5,5,5,5],\"name\":\"HSpacer01885\",\"sizing_mode\":\"stretch_width\"},\"id\":\"1598\",\"type\":\"Spacer\"},{\"attributes\":{},\"id\":\"1341\",\"type\":\"UnionRenderers\"},{\"attributes\":{\"coordinates\":null,\"data_source\":{\"id\":\"1057\"},\"glyph\":{\"id\":\"1060\"},\"group\":null,\"hover_glyph\":null,\"muted_glyph\":{\"id\":\"1062\"},\"nonselection_glyph\":{\"id\":\"1061\"},\"selection_glyph\":{\"id\":\"1091\"},\"view\":{\"id\":\"1064\"}},\"id\":\"1063\",\"type\":\"GlyphRenderer\"},{\"attributes\":{\"line_color\":\"lightgray\",\"line_width\":2,\"x\":{\"field\":\"datetime\"},\"y\":{\"field\":\"close\"}},\"id\":\"1056\",\"type\":\"Line\"},{\"attributes\":{},\"id\":\"1072\",\"type\":\"UnionRenderers\"},{\"attributes\":{\"tools\":[{\"id\":\"1006\"},{\"id\":\"1007\"},{\"id\":\"1028\"},{\"id\":\"1029\"},{\"id\":\"1030\"},{\"id\":\"1031\"},{\"id\":\"1032\"}]},\"id\":\"1034\",\"type\":\"Toolbar\"},{\"attributes\":{\"line_alpha\":0.1,\"line_color\":\"#fc4f30\",\"line_width\":2,\"x\":{\"field\":\"datetime\"},\"y\":{\"field\":\"value\"}},\"id\":\"1061\",\"type\":\"Line\"},{\"attributes\":{\"fill_alpha\":{\"value\":0.1},\"fill_color\":{\"value\":\"purple\"},\"hatch_alpha\":{\"value\":0.1},\"hatch_color\":{\"value\":\"purple\"},\"line_alpha\":{\"value\":0.1},\"line_color\":{\"value\":\"purple\"},\"marker\":{\"value\":\"triangle\"},\"size\":{\"value\":14.142135623730951},\"x\":{\"field\":\"datetime\"},\"y\":{\"field\":\"close\"}},\"id\":\"1314\",\"type\":\"Scatter\"},{\"attributes\":{\"line_color\":\"#fc4f30\",\"line_width\":2,\"x\":{\"field\":\"datetime\"},\"y\":{\"field\":\"value\"}},\"id\":\"1060\",\"type\":\"Line\"},{\"attributes\":{\"angle\":{\"value\":3.141592653589793},\"fill_alpha\":{\"value\":1.0},\"fill_color\":{\"value\":\"orange\"},\"hatch_alpha\":{\"value\":1.0},\"hatch_color\":{\"value\":\"orange\"},\"hatch_scale\":{\"value\":12.0},\"hatch_weight\":{\"value\":1.0},\"line_alpha\":{\"value\":1.0},\"line_cap\":{\"value\":\"butt\"},\"line_color\":{\"value\":\"orange\"},\"line_dash\":{\"value\":[]},\"line_dash_offset\":{\"value\":0},\"line_join\":{\"value\":\"bevel\"},\"line_width\":{\"value\":1},\"marker\":{\"value\":\"triangle\"},\"size\":{\"value\":14.142135623730951},\"x\":{\"field\":\"datetime\"},\"y\":{\"field\":\"close\"}},\"id\":\"1327\",\"type\":\"Scatter\"},{\"attributes\":{\"coordinates\":null,\"data_source\":{\"id\":\"1319\"},\"glyph\":{\"id\":\"1322\"},\"group\":null,\"hover_glyph\":null,\"muted_glyph\":{\"id\":\"1324\"},\"nonselection_glyph\":{\"id\":\"1323\"},\"selection_glyph\":{\"id\":\"1327\"},\"view\":{\"id\":\"1326\"}},\"id\":\"1325\",\"type\":\"GlyphRenderer\"},{\"attributes\":{\"data\":{\"close\":{\"__ndarray__\":\"ndfYJTRfx0C0HXSFsdDCQBw19InhvMFAijymFQuG50A=\",\"dtype\":\"float64\",\"order\":\"little\",\"shape\":[4]},\"datetime\":{\"__ndarray__\":\"AAAAZ+jGdkIAAEDoqwV3QgAAQHlII3dCAADADGy+d0I=\",\"dtype\":\"float64\",\"order\":\"little\",\"shape\":[4]}},\"selected\":{\"id\":\"1311\"},\"selection_policy\":{\"id\":\"1341\"}},\"id\":\"1310\",\"type\":\"ColumnDataSource\"},{\"attributes\":{\"angle\":{\"value\":3.141592653589793},\"fill_color\":{\"value\":\"orange\"},\"hatch_color\":{\"value\":\"orange\"},\"line_color\":{\"value\":\"orange\"},\"marker\":{\"value\":\"triangle\"},\"size\":{\"value\":14.142135623730951},\"x\":{\"field\":\"datetime\"},\"y\":{\"field\":\"close\"}},\"id\":\"1322\",\"type\":\"Scatter\"},{\"attributes\":{\"source\":{\"id\":\"1319\"}},\"id\":\"1326\",\"type\":\"CDSView\"},{\"attributes\":{\"data\":{\"Variable\":[\"sma_slow\",\"sma_slow\",\"sma_slow\",\"sma_slow\",\"sma_slow\",\"sma_slow\",\"sma_slow\",\"sma_slow\",\"sma_slow\",\"sma_slow\",\"sma_slow\",\"sma_slow\",\"sma_slow\",\"sma_slow\",\"sma_slow\",\"sma_slow\",\"sma_slow\",\"sma_slow\",\"sma_slow\",\"sma_slow\",\"sma_slow\",\"sma_slow\",\"sma_slow\",\"sma_slow\",\"sma_slow\",\"sma_slow\",\"sma_slow\",\"sma_slow\",\"sma_slow\",\"sma_slow\",\"sma_slow\",\"sma_slow\",\"sma_slow\",\"sma_slow\",\"sma_slow\",\"sma_slow\",\"sma_slow\",\"sma_slow\",\"sma_slow\",\"sma_slow\",\"sma_slow\",\"sma_slow\",\"sma_slow\",\"sma_slow\",\"sma_slow\",\"sma_slow\",\"sma_slow\",\"sma_slow\",\"sma_slow\",\"sma_slow\",\"sma_slow\",\"sma_slow\",\"sma_slow\",\"sma_slow\",\"sma_slow\",\"sma_slow\",\"sma_slow\",\"sma_slow\",\"sma_slow\",\"sma_slow\",\"sma_slow\",\"sma_slow\",\"sma_slow\",\"sma_slow\",\"sma_slow\",\"sma_slow\",\"sma_slow\",\"sma_slow\",\"sma_slow\",\"sma_slow\",\"sma_slow\",\"sma_slow\",\"sma_slow\",\"sma_slow\",\"sma_slow\",\"sma_slow\",\"sma_slow\",\"sma_slow\",\"sma_slow\",\"sma_slow\",\"sma_slow\",\"sma_slow\",\"sma_slow\",\"sma_slow\",\"sma_slow\",\"sma_slow\",\"sma_slow\",\"sma_slow\",\"sma_slow\",\"sma_slow\",\"sma_slow\",\"sma_slow\",\"sma_slow\",\"sma_slow\",\"sma_slow\",\"sma_slow\",\"sma_slow\",\"sma_slow\",\"sma_slow\",\"sma_slow\",\"sma_slow\",\"sma_slow\",\"sma_slow\",\"sma_slow\",\"sma_slow\",\"sma_slow\",\"sma_slow\",\"sma_slow\",\"sma_slow\",\"sma_slow\",\"sma_slow\",\"sma_slow\",\"sma_slow\",\"sma_slow\",\"sma_slow\",\"sma_slow\",\"sma_slow\",\"sma_slow\",\"sma_slow\",\"sma_slow\",\"sma_slow\",\"sma_slow\",\"sma_slow\",\"sma_slow\",\"sma_slow\",\"sma_slow\",\"sma_slow\",\"sma_slow\",\"sma_slow\",\"sma_slow\",\"sma_slow\",\"sma_slow\",\"sma_slow\",\"sma_slow\",\"sma_slow\",\"sma_slow\",\"sma_slow\",\"sma_slow\",\"sma_slow\",\"sma_slow\",\"sma_slow\",\"sma_slow\",\"sma_slow\",\"sma_slow\",\"sma_slow\",\"sma_slow\",\"sma_slow\",\"sma_slow\",\"sma_slow\",\"sma_slow\",\"sma_slow\",\"sma_slow\",\"sma_slow\",\"sma_slow\",\"sma_slow\",\"sma_slow\",\"sma_slow\",\"sma_slow\",\"sma_slow\",\"sma_slow\",\"sma_slow\",\"sma_slow\",\"sma_slow\",\"sma_slow\",\"sma_slow\",\"sma_slow\",\"sma_slow\",\"sma_slow\",\"sma_slow\",\"sma_slow\",\"sma_slow\",\"sma_slow\",\"sma_slow\",\"sma_slow\",\"sma_slow\",\"sma_slow\",\"sma_slow\",\"sma_slow\",\"sma_slow\",\"sma_slow\",\"sma_slow\",\"sma_slow\",\"sma_slow\",\"sma_slow\",\"sma_slow\",\"sma_slow\",\"sma_slow\",\"sma_slow\",\"sma_slow\",\"sma_slow\",\"sma_slow\",\"sma_slow\",\"sma_slow\",\"sma_slow\",\"sma_slow\",\"sma_slow\",\"sma_slow\",\"sma_slow\",\"sma_slow\",\"sma_slow\",\"sma_slow\",\"sma_slow\",\"sma_slow\",\"sma_slow\",\"sma_slow\",\"sma_slow\",\"sma_slow\",\"sma_slow\",\"sma_slow\",\"sma_slow\",\"sma_slow\",\"sma_slow\",\"sma_slow\",\"sma_slow\",\"sma_slow\",\"sma_slow\",\"sma_slow\",\"sma_slow\",\"sma_slow\",\"sma_slow\",\"sma_slow\",\"sma_slow\",\"sma_slow\",\"sma_slow\",\"sma_slow\",\"sma_slow\",\"sma_slow\",\"sma_slow\",\"sma_slow\",\"sma_slow\",\"sma_slow\",\"sma_slow\",\"sma_slow\",\"sma_slow\",\"sma_slow\",\"sma_slow\",\"sma_slow\",\"sma_slow\",\"sma_slow\",\"sma_slow\",\"sma_slow\",\"sma_slow\",\"sma_slow\",\"sma_slow\",\"sma_slow\",\"sma_slow\",\"sma_slow\",\"sma_slow\",\"sma_slow\",\"sma_slow\",\"sma_slow\",\"sma_slow\",\"sma_slow\",\"sma_slow\",\"sma_slow\",\"sma_slow\",\"sma_slow\",\"sma_slow\",\"sma_slow\",\"sma_slow\",\"sma_slow\",\"sma_slow\",\"sma_slow\",\"sma_slow\",\"sma_slow\",\"sma_slow\",\"sma_slow\",\"sma_slow\",\"sma_slow\",\"sma_slow\",\"sma_slow\",\"sma_slow\",\"sma_slow\",\"sma_slow\",\"sma_slow\",\"sma_slow\",\"sma_slow\",\"sma_slow\",\"sma_slow\",\"sma_slow\",\"sma_slow\",\"sma_slow\",\"sma_slow\",\"sma_slow\",\"sma_slow\",\"sma_slow\",\"sma_slow\",\"sma_slow\",\"sma_slow\",\"sma_slow\",\"sma_slow\",\"sma_slow\",\"sma_slow\",\"sma_slow\",\"sma_slow\",\"sma_slow\",\"sma_slow\",\"sma_slow\",\"sma_slow\",\"sma_slow\",\"sma_slow\",\"sma_slow\",\"sma_slow\",\"sma_slow\",\"sma_slow\",\"sma_slow\",\"sma_slow\",\"sma_slow\",\"sma_slow\",\"sma_slow\",\"sma_slow\",\"sma_slow\",\"sma_slow\",\"sma_slow\",\"sma_slow\",\"sma_slow\",\"sma_slow\",\"sma_slow\",\"sma_slow\",\"sma_slow\",\"sma_slow\",\"sma_slow\",\"sma_slow\",\"sma_slow\",\"sma_slow\",\"sma_slow\",\"sma_slow\",\"sma_slow\",\"sma_slow\",\"sma_slow\",\"sma_slow\",\"sma_slow\",\"sma_slow\",\"sma_slow\",\"sma_slow\",\"sma_slow\",\"sma_slow\",\"sma_slow\",\"sma_slow\",\"sma_slow\",\"sma_slow\",\"sma_slow\",\"sma_slow\",\"sma_slow\",\"sma_slow\",\"sma_slow\",\"sma_slow\",\"sma_slow\",\"sma_slow\",\"sma_slow\",\"sma_slow\",\"sma_slow\",\"sma_slow\",\"sma_slow\",\"sma_slow\",\"sma_slow\",\"sma_slow\",\"sma_slow\",\"sma_slow\",\"sma_slow\",\"sma_slow\",\"sma_slow\",\"sma_slow\",\"sma_slow\",\"sma_slow\",\"sma_slow\",\"sma_slow\",\"sma_slow\",\"sma_slow\",\"sma_slow\",\"sma_slow\",\"sma_slow\",\"sma_slow\",\"sma_slow\",\"sma_slow\",\"sma_slow\",\"sma_slow\",\"sma_slow\",\"sma_slow\",\"sma_slow\",\"sma_slow\",\"sma_slow\",\"sma_slow\",\"sma_slow\",\"sma_slow\",\"sma_slow\",\"sma_slow\",\"sma_slow\",\"sma_slow\",\"sma_slow\",\"sma_slow\",\"sma_slow\",\"sma_slow\",\"sma_slow\",\"sma_slow\",\"sma_slow\",\"sma_slow\",\"sma_slow\",\"sma_slow\",\"sma_slow\",\"sma_slow\",\"sma_slow\",\"sma_slow\",\"sma_slow\",\"sma_slow\",\"sma_slow\",\"sma_slow\",\"sma_slow\",\"sma_slow\",\"sma_slow\",\"sma_slow\",\"sma_slow\",\"sma_slow\",\"sma_slow\",\"sma_slow\",\"sma_slow\",\"sma_slow\",\"sma_slow\",\"sma_slow\",\"sma_slow\",\"sma_slow\",\"sma_slow\",\"sma_slow\",\"sma_slow\",\"sma_slow\",\"sma_slow\",\"sma_slow\",\"sma_slow\",\"sma_slow\",\"sma_slow\",\"sma_slow\",\"sma_slow\",\"sma_slow\",\"sma_slow\",\"sma_slow\",\"sma_slow\",\"sma_slow\",\"sma_slow\",\"sma_slow\",\"sma_slow\",\"sma_slow\",\"sma_slow\",\"sma_slow\",\"sma_slow\",\"sma_slow\",\"sma_slow\",\"sma_slow\",\"sma_slow\",\"sma_slow\",\"sma_slow\",\"sma_slow\",\"sma_slow\",\"sma_slow\",\"sma_slow\",\"sma_slow\",\"sma_slow\",\"sma_slow\",\"sma_slow\",\"sma_slow\",\"sma_slow\",\"sma_slow\",\"sma_slow\",\"sma_slow\",\"sma_slow\",\"sma_slow\",\"sma_slow\",\"sma_slow\",\"sma_slow\",\"sma_slow\",\"sma_slow\",\"sma_slow\",\"sma_slow\",\"sma_slow\",\"sma_slow\",\"sma_slow\",\"sma_slow\",\"sma_slow\",\"sma_slow\",\"sma_slow\",\"sma_slow\",\"sma_slow\",\"sma_slow\",\"sma_slow\",\"sma_slow\",\"sma_slow\",\"sma_slow\",\"sma_slow\",\"sma_slow\",\"sma_slow\",\"sma_slow\",\"sma_slow\",\"sma_slow\",\"sma_slow\",\"sma_slow\",\"sma_slow\",\"sma_slow\",\"sma_slow\",\"sma_slow\",\"sma_slow\",\"sma_slow\",\"sma_slow\",\"sma_slow\",\"sma_slow\",\"sma_slow\",\"sma_slow\",\"sma_slow\",\"sma_slow\",\"sma_slow\",\"sma_slow\",\"sma_slow\",\"sma_slow\",\"sma_slow\",\"sma_slow\",\"sma_slow\",\"sma_slow\",\"sma_slow\",\"sma_slow\",\"sma_slow\",\"sma_slow\",\"sma_slow\",\"sma_slow\",\"sma_slow\",\"sma_slow\",\"sma_slow\",\"sma_slow\",\"sma_slow\",\"sma_slow\",\"sma_slow\",\"sma_slow\",\"sma_slow\",\"sma_slow\",\"sma_slow\",\"sma_slow\",\"sma_slow\",\"sma_slow\",\"sma_slow\",\"sma_slow\",\"sma_slow\",\"sma_slow\",\"sma_slow\",\"sma_slow\",\"sma_slow\",\"sma_slow\",\"sma_slow\",\"sma_slow\",\"sma_slow\",\"sma_slow\",\"sma_slow\",\"sma_slow\",\"sma_slow\",\"sma_slow\",\"sma_slow\",\"sma_slow\",\"sma_slow\",\"sma_slow\",\"sma_slow\",\"sma_slow\",\"sma_slow\",\"sma_slow\",\"sma_slow\",\"sma_slow\",\"sma_slow\",\"sma_slow\",\"sma_slow\",\"sma_slow\",\"sma_slow\",\"sma_slow\",\"sma_slow\",\"sma_slow\",\"sma_slow\",\"sma_slow\",\"sma_slow\",\"sma_slow\",\"sma_slow\",\"sma_slow\",\"sma_slow\",\"sma_slow\",\"sma_slow\",\"sma_slow\",\"sma_slow\",\"sma_slow\",\"sma_slow\",\"sma_slow\",\"sma_slow\",\"sma_slow\",\"sma_slow\",\"sma_slow\",\"sma_slow\",\"sma_slow\",\"sma_slow\",\"sma_slow\",\"sma_slow\",\"sma_slow\",\"sma_slow\",\"sma_slow\",\"sma_slow\",\"sma_slow\",\"sma_slow\",\"sma_slow\",\"sma_slow\",\"sma_slow\",\"sma_slow\",\"sma_slow\",\"sma_slow\",\"sma_slow\",\"sma_slow\",\"sma_slow\",\"sma_slow\",\"sma_slow\",\"sma_slow\",\"sma_slow\",\"sma_slow\",\"sma_slow\",\"sma_slow\",\"sma_slow\",\"sma_slow\",\"sma_slow\",\"sma_slow\",\"sma_slow\",\"sma_slow\",\"sma_slow\",\"sma_slow\",\"sma_slow\",\"sma_slow\",\"sma_slow\",\"sma_slow\",\"sma_slow\",\"sma_slow\",\"sma_slow\",\"sma_slow\",\"sma_slow\",\"sma_slow\",\"sma_slow\",\"sma_slow\",\"sma_slow\",\"sma_slow\",\"sma_slow\",\"sma_slow\",\"sma_slow\",\"sma_slow\",\"sma_slow\",\"sma_slow\",\"sma_slow\",\"sma_slow\",\"sma_slow\",\"sma_slow\",\"sma_slow\",\"sma_slow\",\"sma_slow\",\"sma_slow\",\"sma_slow\",\"sma_slow\",\"sma_slow\",\"sma_slow\",\"sma_slow\",\"sma_slow\",\"sma_slow\",\"sma_slow\",\"sma_slow\",\"sma_slow\",\"sma_slow\",\"sma_slow\",\"sma_slow\",\"sma_slow\",\"sma_slow\",\"sma_slow\",\"sma_slow\",\"sma_slow\",\"sma_slow\",\"sma_slow\",\"sma_slow\",\"sma_slow\",\"sma_slow\",\"sma_slow\",\"sma_slow\",\"sma_slow\",\"sma_slow\",\"sma_slow\",\"sma_slow\",\"sma_slow\",\"sma_slow\",\"sma_slow\",\"sma_slow\",\"sma_slow\",\"sma_slow\",\"sma_slow\",\"sma_slow\",\"sma_slow\",\"sma_slow\",\"sma_slow\",\"sma_slow\",\"sma_slow\",\"sma_slow\",\"sma_slow\",\"sma_slow\",\"sma_slow\",\"sma_slow\",\"sma_slow\",\"sma_slow\",\"sma_slow\",\"sma_slow\",\"sma_slow\",\"sma_slow\",\"sma_slow\",\"sma_slow\",\"sma_slow\",\"sma_slow\",\"sma_slow\",\"sma_slow\",\"sma_slow\",\"sma_slow\",\"sma_slow\",\"sma_slow\",\"sma_slow\",\"sma_slow\",\"sma_slow\",\"sma_slow\",\"sma_slow\",\"sma_slow\",\"sma_slow\",\"sma_slow\",\"sma_slow\",\"sma_slow\",\"sma_slow\",\"sma_slow\",\"sma_slow\",\"sma_slow\",\"sma_slow\",\"sma_slow\",\"sma_slow\",\"sma_slow\",\"sma_slow\",\"sma_slow\",\"sma_slow\",\"sma_slow\",\"sma_slow\",\"sma_slow\",\"sma_slow\",\"sma_slow\",\"sma_slow\",\"sma_slow\",\"sma_slow\",\"sma_slow\",\"sma_slow\",\"sma_slow\",\"sma_slow\",\"sma_slow\",\"sma_slow\",\"sma_slow\",\"sma_slow\",\"sma_slow\",\"sma_slow\",\"sma_slow\",\"sma_slow\",\"sma_slow\",\"sma_slow\",\"sma_slow\",\"sma_slow\",\"sma_slow\",\"sma_slow\",\"sma_slow\",\"sma_slow\",\"sma_slow\",\"sma_slow\",\"sma_slow\",\"sma_slow\",\"sma_slow\",\"sma_slow\",\"sma_slow\",\"sma_slow\",\"sma_slow\",\"sma_slow\",\"sma_slow\",\"sma_slow\",\"sma_slow\",\"sma_slow\",\"sma_slow\",\"sma_slow\",\"sma_slow\",\"sma_slow\",\"sma_slow\",\"sma_slow\",\"sma_slow\",\"sma_slow\",\"sma_slow\",\"sma_slow\",\"sma_slow\",\"sma_slow\",\"sma_slow\",\"sma_slow\",\"sma_slow\",\"sma_slow\",\"sma_slow\",\"sma_slow\",\"sma_slow\",\"sma_slow\",\"sma_slow\",\"sma_slow\",\"sma_slow\",\"sma_slow\",\"sma_slow\",\"sma_slow\",\"sma_slow\",\"sma_slow\",\"sma_slow\",\"sma_slow\",\"sma_slow\",\"sma_slow\",\"sma_slow\",\"sma_slow\",\"sma_slow\",\"sma_slow\",\"sma_slow\",\"sma_slow\",\"sma_slow\",\"sma_slow\",\"sma_slow\",\"sma_slow\",\"sma_slow\",\"sma_slow\",\"sma_slow\",\"sma_slow\",\"sma_slow\",\"sma_slow\",\"sma_slow\",\"sma_slow\",\"sma_slow\",\"sma_slow\",\"sma_slow\",\"sma_slow\",\"sma_slow\",\"sma_slow\",\"sma_slow\",\"sma_slow\",\"sma_slow\",\"sma_slow\",\"sma_slow\",\"sma_slow\",\"sma_slow\",\"sma_slow\",\"sma_slow\",\"sma_slow\",\"sma_slow\",\"sma_slow\",\"sma_slow\",\"sma_slow\",\"sma_slow\",\"sma_slow\",\"sma_slow\",\"sma_slow\",\"sma_slow\",\"sma_slow\",\"sma_slow\",\"sma_slow\",\"sma_slow\",\"sma_slow\",\"sma_slow\",\"sma_slow\",\"sma_slow\",\"sma_slow\",\"sma_slow\",\"sma_slow\",\"sma_slow\",\"sma_slow\",\"sma_slow\",\"sma_slow\",\"sma_slow\",\"sma_slow\",\"sma_slow\",\"sma_slow\",\"sma_slow\",\"sma_slow\",\"sma_slow\",\"sma_slow\",\"sma_slow\",\"sma_slow\",\"sma_slow\",\"sma_slow\",\"sma_slow\",\"sma_slow\",\"sma_slow\",\"sma_slow\",\"sma_slow\",\"sma_slow\",\"sma_slow\",\"sma_slow\",\"sma_slow\",\"sma_slow\",\"sma_slow\",\"sma_slow\",\"sma_slow\",\"sma_slow\",\"sma_slow\",\"sma_slow\",\"sma_slow\",\"sma_slow\",\"sma_slow\"],\"datetime\":{\"__ndarray__\":\"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\",\"dtype\":\"float64\",\"order\":\"little\",\"shape\":[897]},\"value\":{\"__ndarray__\":\"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\",\"dtype\":\"float64\",\"order\":\"little\",\"shape\":[897]}},\"selected\":{\"id\":\"1093\"},\"selection_policy\":{\"id\":\"1111\"}},\"id\":\"1092\",\"type\":\"ColumnDataSource\"},{\"attributes\":{\"angle\":{\"value\":3.141592653589793},\"fill_alpha\":{\"value\":0.2},\"fill_color\":{\"value\":\"orange\"},\"hatch_alpha\":{\"value\":0.2},\"hatch_color\":{\"value\":\"orange\"},\"line_alpha\":{\"value\":0.2},\"line_color\":{\"value\":\"orange\"},\"marker\":{\"value\":\"triangle\"},\"size\":{\"value\":14.142135623730951},\"x\":{\"field\":\"datetime\"},\"y\":{\"field\":\"close\"}},\"id\":\"1324\",\"type\":\"Scatter\"},{\"attributes\":{\"children\":[{\"id\":\"1003\"},{\"id\":\"1011\"},{\"id\":\"1598\"}],\"margin\":[0,0,0,0],\"name\":\"Row01880\",\"tags\":[\"embedded\"]},\"id\":\"1002\",\"type\":\"Row\"},{\"attributes\":{\"coordinates\":null,\"data_source\":{\"id\":\"1310\"},\"glyph\":{\"id\":\"1313\"},\"group\":null,\"hover_glyph\":null,\"muted_glyph\":{\"id\":\"1315\"},\"nonselection_glyph\":{\"id\":\"1314\"},\"selection_glyph\":{\"id\":\"1318\"},\"view\":{\"id\":\"1317\"}},\"id\":\"1316\",\"type\":\"GlyphRenderer\"},{\"attributes\":{\"margin\":[5,5,5,5],\"name\":\"HSpacer01884\",\"sizing_mode\":\"stretch_width\"},\"id\":\"1003\",\"type\":\"Spacer\"},{\"attributes\":{\"fill_alpha\":{\"value\":0.2},\"fill_color\":{\"value\":\"purple\"},\"hatch_alpha\":{\"value\":0.2},\"hatch_color\":{\"value\":\"purple\"},\"line_alpha\":{\"value\":0.2},\"line_color\":{\"value\":\"purple\"},\"marker\":{\"value\":\"triangle\"},\"size\":{\"value\":14.142135623730951},\"x\":{\"field\":\"datetime\"},\"y\":{\"field\":\"close\"}},\"id\":\"1315\",\"type\":\"Scatter\"},{\"attributes\":{\"data\":{\"Variable\":[\"sma_fast\",\"sma_fast\",\"sma_fast\",\"sma_fast\",\"sma_fast\",\"sma_fast\",\"sma_fast\",\"sma_fast\",\"sma_fast\",\"sma_fast\",\"sma_fast\",\"sma_fast\",\"sma_fast\",\"sma_fast\",\"sma_fast\",\"sma_fast\",\"sma_fast\",\"sma_fast\",\"sma_fast\",\"sma_fast\",\"sma_fast\",\"sma_fast\",\"sma_fast\",\"sma_fast\",\"sma_fast\",\"sma_fast\",\"sma_fast\",\"sma_fast\",\"sma_fast\",\"sma_fast\",\"sma_fast\",\"sma_fast\",\"sma_fast\",\"sma_fast\",\"sma_fast\",\"sma_fast\",\"sma_fast\",\"sma_fast\",\"sma_fast\",\"sma_fast\",\"sma_fast\",\"sma_fast\",\"sma_fast\",\"sma_fast\",\"sma_fast\",\"sma_fast\",\"sma_fast\",\"sma_fast\",\"sma_fast\",\"sma_fast\",\"sma_fast\",\"sma_fast\",\"sma_fast\",\"sma_fast\",\"sma_fast\",\"sma_fast\",\"sma_fast\",\"sma_fast\",\"sma_fast\",\"sma_fast\",\"sma_fast\",\"sma_fast\",\"sma_fast\",\"sma_fast\",\"sma_fast\",\"sma_fast\",\"sma_fast\",\"sma_fast\",\"sma_fast\",\"sma_fast\",\"sma_fast\",\"sma_fast\",\"sma_fast\",\"sma_fast\",\"sma_fast\",\"sma_fast\",\"sma_fast\",\"sma_fast\",\"sma_fast\",\"sma_fast\",\"sma_fast\",\"sma_fast\",\"sma_fast\",\"sma_fast\",\"sma_fast\",\"sma_fast\",\"sma_fast\",\"sma_fast\",\"sma_fast\",\"sma_fast\",\"sma_fast\",\"sma_fast\",\"sma_fast\",\"sma_fast\",\"sma_fast\",\"sma_fast\",\"sma_fast\",\"sma_fast\",\"sma_fast\",\"sma_fast\",\"sma_fast\",\"sma_fast\",\"sma_fast\",\"sma_fast\",\"sma_fast\",\"sma_fast\",\"sma_fast\",\"sma_fast\",\"sma_fast\",\"sma_fast\",\"sma_fast\",\"sma_fast\",\"sma_fast\",\"sma_fast\",\"sma_fast\",\"sma_fast\",\"sma_fast\",\"sma_fast\",\"sma_fast\",\"sma_fast\",\"sma_fast\",\"sma_fast\",\"sma_fast\",\"sma_fast\",\"sma_fast\",\"sma_fast\",\"sma_fast\",\"sma_fast\",\"sma_fast\",\"sma_fast\",\"sma_fast\",\"sma_fast\",\"sma_fast\",\"sma_fast\",\"sma_fast\",\"sma_fast\",\"sma_fast\",\"sma_fast\",\"sma_fast\",\"sma_fast\",\"sma_fast\",\"sma_fast\",\"sma_fast\",\"sma_fast\",\"sma_fast\",\"sma_fast\",\"sma_fast\",\"sma_fast\",\"sma_fast\",\"sma_fast\",\"sma_fast\",\"sma_fast\",\"sma_fast\",\"sma_fast\",\"sma_fast\",\"sma_fast\",\"sma_fast\",\"sma_fast\",\"sma_fast\",\"sma_fast\",\"sma_fast\",\"sma_fast\",\"sma_fast\",\"sma_fast\",\"sma_fast\",\"sma_fast\",\"sma_fast\",\"sma_fast\",\"sma_fast\",\"sma_fast\",\"sma_fast\",\"sma_fast\",\"sma_fast\",\"sma_fast\",\"sma_fast\",\"sma_fast\",\"sma_fast\",\"sma_fast\",\"sma_fast\",\"sma_fast\",\"sma_fast\",\"sma_fast\",\"sma_fast\",\"sma_fast\",\"sma_fast\",\"sma_fast\",\"sma_fast\",\"sma_fast\",\"sma_fast\",\"sma_fast\",\"sma_fast\",\"sma_fast\",\"sma_fast\",\"sma_fast\",\"sma_fast\",\"sma_fast\",\"sma_fast\",\"sma_fast\",\"sma_fast\",\"sma_fast\",\"sma_fast\",\"sma_fast\",\"sma_fast\",\"sma_fast\",\"sma_fast\",\"sma_fast\",\"sma_fast\",\"sma_fast\",\"sma_fast\",\"sma_fast\",\"sma_fast\",\"sma_fast\",\"sma_fast\",\"sma_fast\",\"sma_fast\",\"sma_fast\",\"sma_fast\",\"sma_fast\",\"sma_fast\",\"sma_fast\",\"sma_fast\",\"sma_fast\",\"sma_fast\",\"sma_fast\",\"sma_fast\",\"sma_fast\",\"sma_fast\",\"sma_fast\",\"sma_fast\",\"sma_fast\",\"sma_fast\",\"sma_fast\",\"sma_fast\",\"sma_fast\",\"sma_fast\",\"sma_fast\",\"sma_fast\",\"sma_fast\",\"sma_fast\",\"sma_fast\",\"sma_fast\",\"sma_fast\",\"sma_fast\",\"sma_fast\",\"sma_fast\",\"sma_fast\",\"sma_fast\",\"sma_fast\",\"sma_fast\",\"sma_fast\",\"sma_fast\",\"sma_fast\",\"sma_fast\",\"sma_fast\",\"sma_fast\",\"sma_fast\",\"sma_fast\",\"sma_fast\",\"sma_fast\",\"sma_fast\",\"sma_fast\",\"sma_fast\",\"sma_fast\",\"sma_fast\",\"sma_fast\",\"sma_fast\",\"sma_fast\",\"sma_fast\",\"sma_fast\",\"sma_fast\",\"sma_fast\",\"sma_fast\",\"sma_fast\",\"sma_fast\",\"sma_fast\",\"sma_fast\",\"sma_fast\",\"sma_fast\",\"sma_fast\",\"sma_fast\",\"sma_fast\",\"sma_fast\",\"sma_fast\",\"sma_fast\",\"sma_fast\",\"sma_fast\",\"sma_fast\",\"sma_fast\",\"sma_fast\",\"sma_fast\",\"sma_fast\",\"sma_fast\",\"sma_fast\",\"sma_fast\",\"sma_fast\",\"sma_fast\",\"sma_fast\",\"sma_fast\",\"sma_fast\",\"sma_fast\",\"sma_fast\",\"sma_fast\",\"sma_fast\",\"sma_fast\",\"sma_fast\",\"sma_fast\",\"sma_fast\",\"sma_fast\",\"sma_fast\",\"sma_fast\",\"sma_fast\",\"sma_fast\",\"sma_fast\",\"sma_fast\",\"sma_fast\",\"sma_fast\",\"sma_fast\",\"sma_fast\",\"sma_fast\",\"sma_fast\",\"sma_fast\",\"sma_fast\",\"sma_fast\",\"sma_fast\",\"sma_fast\",\"sma_fast\",\"sma_fast\",\"sma_fast\",\"sma_fast\",\"sma_fast\",\"sma_fast\",\"sma_fast\",\"sma_fast\",\"sma_fast\",\"sma_fast\",\"sma_fast\",\"sma_fast\",\"sma_fast\",\"sma_fast\",\"sma_fast\",\"sma_fast\",\"sma_fast\",\"sma_fast\",\"sma_fast\",\"sma_fast\",\"sma_fast\",\"sma_fast\",\"sma_fast\",\"sma_fast\",\"sma_fast\",\"sma_fast\",\"sma_fast\",\"sma_fast\",\"sma_fast\",\"sma_fast\",\"sma_fast\",\"sma_fast\",\"sma_fast\",\"sma_fast\",\"sma_fast\",\"sma_fast\",\"sma_fast\",\"sma_fast\",\"sma_fast\",\"sma_fast\",\"sma_fast\",\"sma_fast\",\"sma_fast\",\"sma_fast\",\"sma_fast\",\"sma_fast\",\"sma_fast\",\"sma_fast\",\"sma_fast\",\"sma_fast\",\"sma_fast\",\"sma_fast\",\"sma_fast\",\"sma_fast\",\"sma_fast\",\"sma_fast\",\"sma_fast\",\"sma_fast\",\"sma_fast\",\"sma_fast\",\"sma_fast\",\"sma_fast\",\"sma_fast\",\"sma_fast\",\"sma_fast\",\"sma_fast\",\"sma_fast\",\"sma_fast\",\"sma_fast\",\"sma_fast\",\"sma_fast\",\"sma_fast\",\"sma_fast\",\"sma_fast\",\"sma_fast\",\"sma_fast\",\"sma_fast\",\"sma_fast\",\"sma_fast\",\"sma_fast\",\"sma_fast\",\"sma_fast\",\"sma_fast\",\"sma_fast\",\"sma_fast\",\"sma_fast\",\"sma_fast\",\"sma_fast\",\"sma_fast\",\"sma_fast\",\"sma_fast\",\"sma_fast\",\"sma_fast\",\"sma_fast\",\"sma_fast\",\"sma_fast\",\"sma_fast\",\"sma_fast\",\"sma_fast\",\"sma_fast\",\"sma_fast\",\"sma_fast\",\"sma_fast\",\"sma_fast\",\"sma_fast\",\"sma_fast\",\"sma_fast\",\"sma_fast\",\"sma_fast\",\"sma_fast\",\"sma_fast\",\"sma_fast\",\"sma_fast\",\"sma_fast\",\"sma_fast\",\"sma_fast\",\"sma_fast\",\"sma_fast\",\"sma_fast\",\"sma_fast\",\"sma_fast\",\"sma_fast\",\"sma_fast\",\"sma_fast\",\"sma_fast\",\"sma_fast\",\"sma_fast\",\"sma_fast\",\"sma_fast\",\"sma_fast\",\"sma_fast\",\"sma_fast\",\"sma_fast\",\"sma_fast\",\"sma_fast\",\"sma_fast\",\"sma_fast\",\"sma_fast\",\"sma_fast\",\"sma_fast\",\"sma_fast\",\"sma_fast\",\"sma_fast\",\"sma_fast\",\"sma_fast\",\"sma_fast\",\"sma_fast\",\"sma_fast\",\"sma_fast\",\"sma_fast\",\"sma_fast\",\"sma_fast\",\"sma_fast\",\"sma_fast\",\"sma_fast\",\"sma_fast\",\"sma_fast\",\"sma_fast\",\"sma_fast\",\"sma_fast\",\"sma_fast\",\"sma_fast\",\"sma_fast\",\"sma_fast\",\"sma_fast\",\"sma_fast\",\"sma_fast\",\"sma_fast\",\"sma_fast\",\"sma_fast\",\"sma_fast\",\"sma_fast\",\"sma_fast\",\"sma_fast\",\"sma_fast\",\"sma_fast\",\"sma_fast\",\"sma_fast\",\"sma_fast\",\"sma_fast\",\"sma_fast\",\"sma_fast\",\"sma_fast\",\"sma_fast\",\"sma_fast\",\"sma_fast\",\"sma_fast\",\"sma_fast\",\"sma_fast\",\"sma_fast\",\"sma_fast\",\"sma_fast\",\"sma_fast\",\"sma_fast\",\"sma_fast\",\"sma_fast\",\"sma_fast\",\"sma_fast\",\"sma_fast\",\"sma_fast\",\"sma_fast\",\"sma_fast\",\"sma_fast\",\"sma_fast\",\"sma_fast\",\"sma_fast\",\"sma_fast\",\"sma_fast\",\"sma_fast\",\"sma_fast\",\"sma_fast\",\"sma_fast\",\"sma_fast\",\"sma_fast\",\"sma_fast\",\"sma_fast\",\"sma_fast\",\"sma_fast\",\"sma_fast\",\"sma_fast\",\"sma_fast\",\"sma_fast\",\"sma_fast\",\"sma_fast\",\"sma_fast\",\"sma_fast\",\"sma_fast\",\"sma_fast\",\"sma_fast\",\"sma_fast\",\"sma_fast\",\"sma_fast\",\"sma_fast\",\"sma_fast\",\"sma_fast\",\"sma_fast\",\"sma_fast\",\"sma_fast\",\"sma_fast\",\"sma_fast\",\"sma_fast\",\"sma_fast\",\"sma_fast\",\"sma_fast\",\"sma_fast\",\"sma_fast\",\"sma_fast\",\"sma_fast\",\"sma_fast\",\"sma_fast\",\"sma_fast\",\"sma_fast\",\"sma_fast\",\"sma_fast\",\"sma_fast\",\"sma_fast\",\"sma_fast\",\"sma_fast\",\"sma_fast\",\"sma_fast\",\"sma_fast\",\"sma_fast\",\"sma_fast\",\"sma_fast\",\"sma_fast\",\"sma_fast\",\"sma_fast\",\"sma_fast\",\"sma_fast\",\"sma_fast\",\"sma_fast\",\"sma_fast\",\"sma_fast\",\"sma_fast\",\"sma_fast\",\"sma_fast\",\"sma_fast\",\"sma_fast\",\"sma_fast\",\"sma_fast\",\"sma_fast\",\"sma_fast\",\"sma_fast\",\"sma_fast\",\"sma_fast\",\"sma_fast\",\"sma_fast\",\"sma_fast\",\"sma_fast\",\"sma_fast\",\"sma_fast\",\"sma_fast\",\"sma_fast\",\"sma_fast\",\"sma_fast\",\"sma_fast\",\"sma_fast\",\"sma_fast\",\"sma_fast\",\"sma_fast\",\"sma_fast\",\"sma_fast\",\"sma_fast\",\"sma_fast\",\"sma_fast\",\"sma_fast\",\"sma_fast\",\"sma_fast\",\"sma_fast\",\"sma_fast\",\"sma_fast\",\"sma_fast\",\"sma_fast\",\"sma_fast\",\"sma_fast\",\"sma_fast\",\"sma_fast\",\"sma_fast\",\"sma_fast\",\"sma_fast\",\"sma_fast\",\"sma_fast\",\"sma_fast\",\"sma_fast\",\"sma_fast\",\"sma_fast\",\"sma_fast\",\"sma_fast\",\"sma_fast\",\"sma_fast\",\"sma_fast\",\"sma_fast\",\"sma_fast\",\"sma_fast\",\"sma_fast\",\"sma_fast\",\"sma_fast\",\"sma_fast\",\"sma_fast\",\"sma_fast\",\"sma_fast\",\"sma_fast\",\"sma_fast\",\"sma_fast\",\"sma_fast\",\"sma_fast\",\"sma_fast\",\"sma_fast\",\"sma_fast\",\"sma_fast\",\"sma_fast\",\"sma_fast\",\"sma_fast\",\"sma_fast\",\"sma_fast\",\"sma_fast\",\"sma_fast\",\"sma_fast\",\"sma_fast\",\"sma_fast\",\"sma_fast\",\"sma_fast\",\"sma_fast\",\"sma_fast\",\"sma_fast\",\"sma_fast\",\"sma_fast\",\"sma_fast\",\"sma_fast\",\"sma_fast\",\"sma_fast\",\"sma_fast\",\"sma_fast\",\"sma_fast\",\"sma_fast\",\"sma_fast\",\"sma_fast\",\"sma_fast\",\"sma_fast\",\"sma_fast\",\"sma_fast\",\"sma_fast\",\"sma_fast\",\"sma_fast\",\"sma_fast\",\"sma_fast\",\"sma_fast\",\"sma_fast\",\"sma_fast\",\"sma_fast\",\"sma_fast\",\"sma_fast\",\"sma_fast\",\"sma_fast\",\"sma_fast\",\"sma_fast\",\"sma_fast\",\"sma_fast\",\"sma_fast\",\"sma_fast\",\"sma_fast\",\"sma_fast\",\"sma_fast\",\"sma_fast\",\"sma_fast\",\"sma_fast\",\"sma_fast\",\"sma_fast\",\"sma_fast\",\"sma_fast\",\"sma_fast\",\"sma_fast\",\"sma_fast\",\"sma_fast\",\"sma_fast\",\"sma_fast\",\"sma_fast\",\"sma_fast\",\"sma_fast\",\"sma_fast\",\"sma_fast\",\"sma_fast\",\"sma_fast\",\"sma_fast\",\"sma_fast\",\"sma_fast\",\"sma_fast\",\"sma_fast\",\"sma_fast\",\"sma_fast\",\"sma_fast\",\"sma_fast\",\"sma_fast\",\"sma_fast\",\"sma_fast\",\"sma_fast\",\"sma_fast\",\"sma_fast\",\"sma_fast\",\"sma_fast\",\"sma_fast\",\"sma_fast\",\"sma_fast\",\"sma_fast\",\"sma_fast\",\"sma_fast\",\"sma_fast\",\"sma_fast\",\"sma_fast\",\"sma_fast\",\"sma_fast\",\"sma_fast\",\"sma_fast\",\"sma_fast\",\"sma_fast\",\"sma_fast\",\"sma_fast\",\"sma_fast\",\"sma_fast\",\"sma_fast\",\"sma_fast\",\"sma_fast\",\"sma_fast\",\"sma_fast\",\"sma_fast\",\"sma_fast\",\"sma_fast\",\"sma_fast\",\"sma_fast\",\"sma_fast\",\"sma_fast\",\"sma_fast\",\"sma_fast\",\"sma_fast\",\"sma_fast\",\"sma_fast\",\"sma_fast\",\"sma_fast\",\"sma_fast\",\"sma_fast\",\"sma_fast\",\"sma_fast\",\"sma_fast\",\"sma_fast\",\"sma_fast\",\"sma_fast\",\"sma_fast\",\"sma_fast\",\"sma_fast\",\"sma_fast\",\"sma_fast\",\"sma_fast\",\"sma_fast\",\"sma_fast\",\"sma_fast\",\"sma_fast\",\"sma_fast\",\"sma_fast\",\"sma_fast\",\"sma_fast\",\"sma_fast\",\"sma_fast\",\"sma_fast\",\"sma_fast\",\"sma_fast\",\"sma_fast\",\"sma_fast\",\"sma_fast\",\"sma_fast\",\"sma_fast\",\"sma_fast\",\"sma_fast\",\"sma_fast\",\"sma_fast\",\"sma_fast\",\"sma_fast\",\"sma_fast\",\"sma_fast\",\"sma_fast\",\"sma_fast\",\"sma_fast\",\"sma_fast\",\"sma_fast\",\"sma_fast\",\"sma_fast\",\"sma_fast\",\"sma_fast\",\"sma_fast\",\"sma_fast\",\"sma_fast\",\"sma_fast\",\"sma_fast\",\"sma_fast\",\"sma_fast\",\"sma_fast\",\"sma_fast\",\"sma_fast\",\"sma_fast\",\"sma_fast\",\"sma_fast\",\"sma_fast\",\"sma_fast\",\"sma_fast\",\"sma_fast\",\"sma_fast\",\"sma_fast\",\"sma_fast\",\"sma_fast\",\"sma_fast\",\"sma_fast\",\"sma_fast\",\"sma_fast\",\"sma_fast\",\"sma_fast\",\"sma_fast\",\"sma_fast\",\"sma_fast\",\"sma_fast\",\"sma_fast\",\"sma_fast\",\"sma_fast\",\"sma_fast\",\"sma_fast\",\"sma_fast\",\"sma_fast\",\"sma_fast\",\"sma_fast\",\"sma_fast\",\"sma_fast\",\"sma_fast\",\"sma_fast\",\"sma_fast\"],\"datetime\":{\"__ndarray__\":\"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\",\"dtype\":\"float64\",\"order\":\"little\",\"shape\":[897]},\"value\":{\"__ndarray__\":\"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\",\"dtype\":\"float64\",\"order\":\"little\",\"shape\":[897]}},\"selected\":{\"id\":\"1058\"},\"selection_policy\":{\"id\":\"1074\"}},\"id\":\"1057\",\"type\":\"ColumnDataSource\"},{\"attributes\":{\"end\":73826.52983917751,\"reset_end\":73826.52983917751,\"reset_start\":-1289.8671764226128,\"start\":-1289.8671764226128,\"tags\":[[[\"close\",\"close\",null]]]},\"id\":\"1005\",\"type\":\"Range1d\"},{\"attributes\":{\"fill_color\":{\"value\":\"purple\"},\"hatch_color\":{\"value\":\"purple\"},\"line_color\":{\"value\":\"purple\"},\"marker\":{\"value\":\"triangle\"},\"size\":{\"value\":14.142135623730951},\"x\":{\"field\":\"datetime\"},\"y\":{\"field\":\"close\"}},\"id\":\"1313\",\"type\":\"Scatter\"},{\"attributes\":{\"end\":1638316800000.0,\"reset_end\":1638316800000.0,\"reset_start\":1560902400000.0,\"start\":1560902400000.0,\"tags\":[[[\"datetime\",\"datetime\",null]]]},\"id\":\"1004\",\"type\":\"Range1d\"},{\"attributes\":{\"angle\":{\"value\":3.141592653589793},\"fill_alpha\":{\"value\":0.1},\"fill_color\":{\"value\":\"orange\"},\"hatch_alpha\":{\"value\":0.1},\"hatch_color\":{\"value\":\"orange\"},\"line_alpha\":{\"value\":0.1},\"line_color\":{\"value\":\"orange\"},\"marker\":{\"value\":\"triangle\"},\"size\":{\"value\":14.142135623730951},\"x\":{\"field\":\"datetime\"},\"y\":{\"field\":\"close\"}},\"id\":\"1323\",\"type\":\"Scatter\"},{\"attributes\":{\"coordinates\":null,\"data_source\":{\"id\":\"1092\"},\"glyph\":{\"id\":\"1095\"},\"group\":null,\"hover_glyph\":null,\"muted_glyph\":{\"id\":\"1097\"},\"nonselection_glyph\":{\"id\":\"1096\"},\"selection_glyph\":{\"id\":\"1127\"},\"view\":{\"id\":\"1099\"}},\"id\":\"1098\",\"type\":\"GlyphRenderer\"},{\"attributes\":{\"data\":{\"close\":{\"__ndarray__\":\"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\",\"dtype\":\"float64\",\"order\":\"little\",\"shape\":[897]},\"datetime\":{\"__ndarray__\":\"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\",\"dtype\":\"float64\",\"order\":\"little\",\"shape\":[897]}},\"selected\":{\"id\":\"1049\"},\"selection_policy\":{\"id\":\"1072\"}},\"id\":\"1048\",\"type\":\"ColumnDataSource\"},{\"attributes\":{\"angle\":{\"value\":0},\"fill_alpha\":{\"value\":1.0},\"fill_color\":{\"value\":\"purple\"},\"hatch_alpha\":{\"value\":1.0},\"hatch_color\":{\"value\":\"purple\"},\"hatch_scale\":{\"value\":12.0},\"hatch_weight\":{\"value\":1.0},\"line_alpha\":{\"value\":1.0},\"line_cap\":{\"value\":\"butt\"},\"line_color\":{\"value\":\"purple\"},\"line_dash\":{\"value\":[]},\"line_dash_offset\":{\"value\":0},\"line_join\":{\"value\":\"bevel\"},\"line_width\":{\"value\":1},\"marker\":{\"value\":\"triangle\"},\"size\":{\"value\":14.142135623730951},\"x\":{\"field\":\"datetime\"},\"y\":{\"field\":\"close\"}},\"id\":\"1318\",\"type\":\"Scatter\"},{\"attributes\":{},\"id\":\"1058\",\"type\":\"Selection\"},{\"attributes\":{},\"id\":\"1049\",\"type\":\"Selection\"},{\"attributes\":{\"coordinates\":null,\"data_source\":{\"id\":\"1048\"},\"glyph\":{\"id\":\"1051\"},\"group\":null,\"hover_glyph\":null,\"muted_glyph\":{\"id\":\"1053\"},\"nonselection_glyph\":{\"id\":\"1052\"},\"selection_glyph\":{\"id\":\"1056\"},\"view\":{\"id\":\"1055\"}},\"id\":\"1054\",\"type\":\"GlyphRenderer\"},{\"attributes\":{\"data\":{\"close\":{\"__ndarray__\":\"RW1VcXwOwkC17g8pEBm6QGlcD9H7Y+FA\",\"dtype\":\"float64\",\"order\":\"little\",\"shape\":[3]},\"datetime\":{\"__ndarray__\":\"AABAzVXgdkIAAIDR7xB3QgAAwBIZondC\",\"dtype\":\"float64\",\"order\":\"little\",\"shape\":[3]}},\"selected\":{\"id\":\"1320\"},\"selection_policy\":{\"id\":\"1343\"}},\"id\":\"1319\",\"type\":\"ColumnDataSource\"},{\"attributes\":{},\"id\":\"1046\",\"type\":\"BasicTickFormatter\"},{\"attributes\":{\"callback\":null,\"formatters\":{\"@{datetime}\":\"datetime\"},\"renderers\":[{\"id\":\"1054\"},{\"id\":\"1316\"},{\"id\":\"1325\"}],\"tags\":[\"hv_created\"],\"tooltips\":[[\"datetime\",\"@{datetime}{%F %T}\"],[\"close\",\"@{close}\"]]},\"id\":\"1006\",\"type\":\"HoverTool\"},{\"attributes\":{},\"id\":\"1311\",\"type\":\"Selection\"},{\"attributes\":{},\"id\":\"1047\",\"type\":\"AllLabels\"},{\"attributes\":{},\"id\":\"1016\",\"type\":\"LinearScale\"},{\"attributes\":{\"source\":{\"id\":\"1310\"}},\"id\":\"1317\",\"type\":\"CDSView\"},{\"attributes\":{\"line_alpha\":0.1,\"line_color\":\"lightgray\",\"line_width\":2,\"x\":{\"field\":\"datetime\"},\"y\":{\"field\":\"close\"}},\"id\":\"1052\",\"type\":\"Line\"},{\"attributes\":{\"axis_label\":\"datetime\",\"coordinates\":null,\"formatter\":{\"id\":\"1043\"},\"group\":null,\"major_label_policy\":{\"id\":\"1044\"},\"ticker\":{\"id\":\"1021\"}},\"id\":\"1020\",\"type\":\"DatetimeAxis\"},{\"attributes\":{\"source\":{\"id\":\"1057\"}},\"id\":\"1064\",\"type\":\"CDSView\"},{\"attributes\":{\"callback\":null,\"formatters\":{\"@{datetime}\":\"datetime\"},\"renderers\":[{\"id\":\"1063\"},{\"id\":\"1098\"}],\"tags\":[\"hv_created\"],\"tooltips\":[[\"Variable\",\"@{Variable}\"],[\"datetime\",\"@{datetime}{%F %T}\"],[\"value\",\"@{value}\"]]},\"id\":\"1007\",\"type\":\"HoverTool\"},{\"attributes\":{},\"id\":\"1320\",\"type\":\"Selection\"},{\"attributes\":{\"line_color\":\"#fc4f30\",\"line_width\":2,\"x\":{\"field\":\"datetime\"},\"y\":{\"field\":\"value\"}},\"id\":\"1091\",\"type\":\"Line\"},{\"attributes\":{\"line_alpha\":0.2,\"line_color\":\"#fc4f30\",\"line_width\":2,\"x\":{\"field\":\"datetime\"},\"y\":{\"field\":\"value\"}},\"id\":\"1062\",\"type\":\"Line\"},{\"attributes\":{\"click_policy\":\"mute\",\"coordinates\":null,\"group\":null,\"items\":[{\"id\":\"1090\"},{\"id\":\"1126\"}],\"location\":[0,0]},\"id\":\"1089\",\"type\":\"Legend\"},{\"attributes\":{\"line_alpha\":0.2,\"line_color\":\"lightgray\",\"line_width\":2,\"x\":{\"field\":\"datetime\"},\"y\":{\"field\":\"close\"}},\"id\":\"1053\",\"type\":\"Line\"},{\"attributes\":{\"label\":{\"value\":\"sma_fast\"},\"renderers\":[{\"id\":\"1063\"}]},\"id\":\"1090\",\"type\":\"LegendItem\"},{\"attributes\":{\"below\":[{\"id\":\"1020\"}],\"center\":[{\"id\":\"1023\"},{\"id\":\"1027\"}],\"height\":400,\"left\":[{\"id\":\"1024\"}],\"margin\":[5,5,5,5],\"min_border_bottom\":10,\"min_border_left\":10,\"min_border_right\":10,\"min_border_top\":10,\"renderers\":[{\"id\":\"1054\"},{\"id\":\"1063\"},{\"id\":\"1098\"},{\"id\":\"1316\"},{\"id\":\"1325\"}],\"right\":[{\"id\":\"1089\"}],\"sizing_mode\":\"fixed\",\"title\":{\"id\":\"1012\"},\"toolbar\":{\"id\":\"1034\"},\"width\":1000,\"x_range\":{\"id\":\"1004\"},\"x_scale\":{\"id\":\"1016\"},\"y_range\":{\"id\":\"1005\"},\"y_scale\":{\"id\":\"1018\"}},\"id\":\"1011\",\"subtype\":\"Figure\",\"type\":\"Plot\"},{\"attributes\":{},\"id\":\"1018\",\"type\":\"LinearScale\"},{\"attributes\":{\"source\":{\"id\":\"1048\"}},\"id\":\"1055\",\"type\":\"CDSView\"}],\"root_ids\":[\"1002\"]},\"title\":\"Bokeh Application\",\"version\":\"2.4.1\"}};\n",
       "    var render_items = [{\"docid\":\"39f98758-25ee-4a7d-9285-0d5729521f44\",\"root_ids\":[\"1002\"],\"roots\":{\"1002\":\"8eceda7a-2550-47a4-8713-368777bf3988\"}}];\n",
       "    root.Bokeh.embed.embed_items_notebook(docs_json, render_items);\n",
       "  }\n",
       "  if (root.Bokeh !== undefined && root.Bokeh.Panel !== undefined) {\n",
       "    embed_document(root);\n",
       "  } else {\n",
       "    var attempts = 0;\n",
       "    var timer = setInterval(function(root) {\n",
       "      if (root.Bokeh !== undefined && root.Bokeh.Panel !== undefined) {\n",
       "        clearInterval(timer);\n",
       "        embed_document(root);\n",
       "      } else if (document.readyState == \"complete\") {\n",
       "        attempts++;\n",
       "        if (attempts > 200) {\n",
       "          clearInterval(timer);\n",
       "          console.log(\"Bokeh: ERROR: Unable to run BokehJS code because BokehJS library is missing\");\n",
       "        }\n",
       "      }\n",
       "    }, 25, root)\n",
       "  }\n",
       "})(window);</script>"
      ],
      "text/plain": [
       ":Overlay\n",
       "   .Curve.I          :Curve   [datetime]   (close)\n",
       "   .NdOverlay.I      :NdOverlay   [Variable]\n",
       "      :Curve   [datetime]   (value)\n",
       "   .Scatter.Close.I  :Scatter   [datetime]   (close)\n",
       "   .Scatter.Close.II :Scatter   [datetime]   (close)"
      ]
     },
     "execution_count": 9,
     "metadata": {
      "application/vnd.holoviews_exec.v0+json": {
       "id": "1002"
      }
     },
     "output_type": "execute_result"
    }
   ],
   "source": [
    "# Visualize entry position relative to close price\n",
    "entry = signals_df[signals_df[\"Entry/Exit\"] == 1.0][\"close\"].hvplot.scatter(\n",
    "    color='purple',\n",
    "    marker='^',\n",
    "    size=200,\n",
    "    legend=False,\n",
    "    ylabel='Price in $',\n",
    "    width=1000,\n",
    "    height=400\n",
    ")\n",
    "\n",
    "# Visualize exit position relative to close price\n",
    "exit = signals_df[signals_df[\"Entry/Exit\"] == -1.0][\"close\"].hvplot.scatter(\n",
    "    color='orange',\n",
    "    marker='v',\n",
    "    size=200,\n",
    "    legend=False,\n",
    "    ylabel='Price in $',\n",
    "    width=1000,\n",
    "    height=400\n",
    ")\n",
    "\n",
    "# Visualize close price for the investment\n",
    "security_close = signals_df[[\"close\"]].hvplot(\n",
    "    line_color='lightgray',\n",
    "    ylabel='Price in $',\n",
    "    width=1000,\n",
    "    height=400\n",
    ")\n",
    "\n",
    "# Visualize moving averages\n",
    "moving_avgs = signals_df[[\"sma_fast\", \"sma_slow\"]].hvplot(\n",
    "    ylabel='Price in $',\n",
    "    width=1000,\n",
    "    height=400\n",
    ")\n",
    "\n",
    "# Overlay plots\n",
    "entry_exit_plot = security_close * moving_avgs * entry * exit\n",
    "entry_exit_plot"
   ]
  },
  {
   "cell_type": "markdown",
   "metadata": {},
   "source": [
    "### Generating the Features and Target Sets"
   ]
  },
  {
   "cell_type": "code",
   "execution_count": 10,
   "metadata": {},
   "outputs": [
    {
     "data": {
      "text/html": [
       "<div>\n",
       "<style scoped>\n",
       "    .dataframe tbody tr th:only-of-type {\n",
       "        vertical-align: middle;\n",
       "    }\n",
       "\n",
       "    .dataframe tbody tr th {\n",
       "        vertical-align: top;\n",
       "    }\n",
       "\n",
       "    .dataframe thead th {\n",
       "        text-align: right;\n",
       "    }\n",
       "</style>\n",
       "<table border=\"1\" class=\"dataframe\">\n",
       "  <thead>\n",
       "    <tr style=\"text-align: right;\">\n",
       "      <th></th>\n",
       "      <th>sma_fast</th>\n",
       "      <th>sma_slow</th>\n",
       "    </tr>\n",
       "    <tr>\n",
       "      <th>datetime</th>\n",
       "      <th></th>\n",
       "      <th></th>\n",
       "    </tr>\n",
       "  </thead>\n",
       "  <tbody>\n",
       "    <tr>\n",
       "      <th>2019-06-19 00:00:00+00:00</th>\n",
       "      <td>7713.055810</td>\n",
       "      <td>4969.832575</td>\n",
       "    </tr>\n",
       "    <tr>\n",
       "      <th>2019-06-20 00:00:00+00:00</th>\n",
       "      <td>7795.545075</td>\n",
       "      <td>4996.768986</td>\n",
       "    </tr>\n",
       "    <tr>\n",
       "      <th>2019-06-21 00:00:00+00:00</th>\n",
       "      <td>7888.325162</td>\n",
       "      <td>5028.021115</td>\n",
       "    </tr>\n",
       "    <tr>\n",
       "      <th>2019-06-22 00:00:00+00:00</th>\n",
       "      <td>7986.993194</td>\n",
       "      <td>5061.745101</td>\n",
       "    </tr>\n",
       "    <tr>\n",
       "      <th>2019-06-23 00:00:00+00:00</th>\n",
       "      <td>8087.477265</td>\n",
       "      <td>5097.251982</td>\n",
       "    </tr>\n",
       "  </tbody>\n",
       "</table>\n",
       "</div>"
      ],
      "text/plain": [
       "                              sma_fast     sma_slow\n",
       "datetime                                           \n",
       "2019-06-19 00:00:00+00:00  7713.055810  4969.832575\n",
       "2019-06-20 00:00:00+00:00  7795.545075  4996.768986\n",
       "2019-06-21 00:00:00+00:00  7888.325162  5028.021115\n",
       "2019-06-22 00:00:00+00:00  7986.993194  5061.745101\n",
       "2019-06-23 00:00:00+00:00  8087.477265  5097.251982"
      ]
     },
     "metadata": {},
     "output_type": "display_data"
    },
    {
     "data": {
      "text/html": [
       "<div>\n",
       "<style scoped>\n",
       "    .dataframe tbody tr th:only-of-type {\n",
       "        vertical-align: middle;\n",
       "    }\n",
       "\n",
       "    .dataframe tbody tr th {\n",
       "        vertical-align: top;\n",
       "    }\n",
       "\n",
       "    .dataframe thead th {\n",
       "        text-align: right;\n",
       "    }\n",
       "</style>\n",
       "<table border=\"1\" class=\"dataframe\">\n",
       "  <thead>\n",
       "    <tr style=\"text-align: right;\">\n",
       "      <th></th>\n",
       "      <th>sma_fast</th>\n",
       "      <th>sma_slow</th>\n",
       "    </tr>\n",
       "    <tr>\n",
       "      <th>datetime</th>\n",
       "      <th></th>\n",
       "      <th></th>\n",
       "    </tr>\n",
       "  </thead>\n",
       "  <tbody>\n",
       "    <tr>\n",
       "      <th>2021-11-27 00:00:00+00:00</th>\n",
       "      <td>60733.733652</td>\n",
       "      <td>45983.186780</td>\n",
       "    </tr>\n",
       "    <tr>\n",
       "      <th>2021-11-28 00:00:00+00:00</th>\n",
       "      <td>60779.338331</td>\n",
       "      <td>46023.676402</td>\n",
       "    </tr>\n",
       "    <tr>\n",
       "      <th>2021-11-29 00:00:00+00:00</th>\n",
       "      <td>60840.038071</td>\n",
       "      <td>46064.128275</td>\n",
       "    </tr>\n",
       "    <tr>\n",
       "      <th>2021-11-30 00:00:00+00:00</th>\n",
       "      <td>60830.450791</td>\n",
       "      <td>46099.752736</td>\n",
       "    </tr>\n",
       "    <tr>\n",
       "      <th>2021-12-01 00:00:00+00:00</th>\n",
       "      <td>60854.226253</td>\n",
       "      <td>46152.100952</td>\n",
       "    </tr>\n",
       "  </tbody>\n",
       "</table>\n",
       "</div>"
      ],
      "text/plain": [
       "                               sma_fast      sma_slow\n",
       "datetime                                             \n",
       "2021-11-27 00:00:00+00:00  60733.733652  45983.186780\n",
       "2021-11-28 00:00:00+00:00  60779.338331  46023.676402\n",
       "2021-11-29 00:00:00+00:00  60840.038071  46064.128275\n",
       "2021-11-30 00:00:00+00:00  60830.450791  46099.752736\n",
       "2021-12-01 00:00:00+00:00  60854.226253  46152.100952"
      ]
     },
     "metadata": {},
     "output_type": "display_data"
    }
   ],
   "source": [
    "# Assign a copy of the sma_fast and sma_slow columns to a new DataFrame called X\n",
    "X = signals_df[[\"sma_fast\", \"sma_slow\"]].copy()\n",
    "\n",
    "# Display sample data\n",
    "display(X.head())\n",
    "display(X.tail())"
   ]
  },
  {
   "cell_type": "markdown",
   "metadata": {},
   "source": [
    "#### Create the target set"
   ]
  },
  {
   "cell_type": "code",
   "execution_count": 11,
   "metadata": {},
   "outputs": [],
   "source": [
    "# Create a new column in the signals_df called signal setting its value to zero.\n",
    "signals_df[\"signal\"] = 0.0"
   ]
  },
  {
   "cell_type": "code",
   "execution_count": 12,
   "metadata": {},
   "outputs": [],
   "source": [
    "# Create the signal to buy\n",
    "signals_df.loc[(trading_df[\"actual_returns\"] >= 0), \"signal\"] = 1"
   ]
  },
  {
   "cell_type": "code",
   "execution_count": 13,
   "metadata": {},
   "outputs": [],
   "source": [
    "# Create the signal to sell\n",
    "signals_df.loc[(trading_df[\"actual_returns\"] < 0), \"signal\"] = -1"
   ]
  },
  {
   "cell_type": "code",
   "execution_count": 16,
   "metadata": {},
   "outputs": [],
   "source": [
    "# Copy the new signal column to a new Series called y.\n",
    "y = signals_df[\"signal\"].copy()"
   ]
  },
  {
   "cell_type": "markdown",
   "metadata": {},
   "source": [
    "---\n",
    "\n",
    "### Split the Data Into Training and Testing Datasets"
   ]
  },
  {
   "cell_type": "markdown",
   "metadata": {},
   "source": [
    "#### Creating the Training Datasets"
   ]
  },
  {
   "cell_type": "code",
   "execution_count": 17,
   "metadata": {},
   "outputs": [],
   "source": [
    "# Imports \n",
    "from pandas.tseries.offsets import DateOffset"
   ]
  },
  {
   "cell_type": "code",
   "execution_count": 18,
   "metadata": {},
   "outputs": [
    {
     "name": "stdout",
     "output_type": "stream",
     "text": [
      "2019-06-19 00:00:00+00:00\n"
     ]
    }
   ],
   "source": [
    "# Select the start of the training period\n",
    "training_begin = X.index.min()\n",
    "\n",
    "# Display the training begin date\n",
    "print(training_begin)"
   ]
  },
  {
   "cell_type": "code",
   "execution_count": 31,
   "metadata": {},
   "outputs": [
    {
     "name": "stdout",
     "output_type": "stream",
     "text": [
      "2019-09-19 00:00:00+00:00\n"
     ]
    }
   ],
   "source": [
    "# Select the ending period for the training data with an offset of 3 months\n",
    "training_end = X.index.min() + DateOffset(months=3)\n",
    "\n",
    "# Display the training end date\n",
    "print(training_end)"
   ]
  },
  {
   "cell_type": "code",
   "execution_count": 32,
   "metadata": {},
   "outputs": [
    {
     "data": {
      "text/html": [
       "<div>\n",
       "<style scoped>\n",
       "    .dataframe tbody tr th:only-of-type {\n",
       "        vertical-align: middle;\n",
       "    }\n",
       "\n",
       "    .dataframe tbody tr th {\n",
       "        vertical-align: top;\n",
       "    }\n",
       "\n",
       "    .dataframe thead th {\n",
       "        text-align: right;\n",
       "    }\n",
       "</style>\n",
       "<table border=\"1\" class=\"dataframe\">\n",
       "  <thead>\n",
       "    <tr style=\"text-align: right;\">\n",
       "      <th></th>\n",
       "      <th>sma_fast</th>\n",
       "      <th>sma_slow</th>\n",
       "    </tr>\n",
       "    <tr>\n",
       "      <th>datetime</th>\n",
       "      <th></th>\n",
       "      <th></th>\n",
       "    </tr>\n",
       "  </thead>\n",
       "  <tbody>\n",
       "    <tr>\n",
       "      <th>2019-06-19 00:00:00+00:00</th>\n",
       "      <td>7713.055810</td>\n",
       "      <td>4969.832575</td>\n",
       "    </tr>\n",
       "    <tr>\n",
       "      <th>2019-06-20 00:00:00+00:00</th>\n",
       "      <td>7795.545075</td>\n",
       "      <td>4996.768986</td>\n",
       "    </tr>\n",
       "    <tr>\n",
       "      <th>2019-06-21 00:00:00+00:00</th>\n",
       "      <td>7888.325162</td>\n",
       "      <td>5028.021115</td>\n",
       "    </tr>\n",
       "    <tr>\n",
       "      <th>2019-06-22 00:00:00+00:00</th>\n",
       "      <td>7986.993194</td>\n",
       "      <td>5061.745101</td>\n",
       "    </tr>\n",
       "    <tr>\n",
       "      <th>2019-06-23 00:00:00+00:00</th>\n",
       "      <td>8087.477265</td>\n",
       "      <td>5097.251982</td>\n",
       "    </tr>\n",
       "  </tbody>\n",
       "</table>\n",
       "</div>"
      ],
      "text/plain": [
       "                              sma_fast     sma_slow\n",
       "datetime                                           \n",
       "2019-06-19 00:00:00+00:00  7713.055810  4969.832575\n",
       "2019-06-20 00:00:00+00:00  7795.545075  4996.768986\n",
       "2019-06-21 00:00:00+00:00  7888.325162  5028.021115\n",
       "2019-06-22 00:00:00+00:00  7986.993194  5061.745101\n",
       "2019-06-23 00:00:00+00:00  8087.477265  5097.251982"
      ]
     },
     "execution_count": 32,
     "metadata": {},
     "output_type": "execute_result"
    }
   ],
   "source": [
    "# Generate the X_train and y_train DataFrames\n",
    "X_train = X.loc[training_begin:training_end]\n",
    "y_train = y.loc[training_begin:training_end]\n",
    "\n",
    "# Display sample data\n",
    "X_train.head()"
   ]
  },
  {
   "cell_type": "markdown",
   "metadata": {},
   "source": [
    "#### Creating the Testing Datasets"
   ]
  },
  {
   "cell_type": "code",
   "execution_count": 33,
   "metadata": {},
   "outputs": [
    {
     "data": {
      "text/html": [
       "<div>\n",
       "<style scoped>\n",
       "    .dataframe tbody tr th:only-of-type {\n",
       "        vertical-align: middle;\n",
       "    }\n",
       "\n",
       "    .dataframe tbody tr th {\n",
       "        vertical-align: top;\n",
       "    }\n",
       "\n",
       "    .dataframe thead th {\n",
       "        text-align: right;\n",
       "    }\n",
       "</style>\n",
       "<table border=\"1\" class=\"dataframe\">\n",
       "  <thead>\n",
       "    <tr style=\"text-align: right;\">\n",
       "      <th></th>\n",
       "      <th>sma_fast</th>\n",
       "      <th>sma_slow</th>\n",
       "    </tr>\n",
       "    <tr>\n",
       "      <th>datetime</th>\n",
       "      <th></th>\n",
       "      <th></th>\n",
       "    </tr>\n",
       "  </thead>\n",
       "  <tbody>\n",
       "    <tr>\n",
       "      <th>2019-09-19 00:00:00+00:00</th>\n",
       "      <td>10524.851472</td>\n",
       "      <td>8165.232394</td>\n",
       "    </tr>\n",
       "    <tr>\n",
       "      <th>2019-09-20 00:00:00+00:00</th>\n",
       "      <td>10520.490909</td>\n",
       "      <td>8197.356318</td>\n",
       "    </tr>\n",
       "    <tr>\n",
       "      <th>2019-09-21 00:00:00+00:00</th>\n",
       "      <td>10510.499681</td>\n",
       "      <td>8227.961461</td>\n",
       "    </tr>\n",
       "    <tr>\n",
       "      <th>2019-09-22 00:00:00+00:00</th>\n",
       "      <td>10495.424404</td>\n",
       "      <td>8258.779991</td>\n",
       "    </tr>\n",
       "    <tr>\n",
       "      <th>2019-09-23 00:00:00+00:00</th>\n",
       "      <td>10470.607194</td>\n",
       "      <td>8287.869189</td>\n",
       "    </tr>\n",
       "  </tbody>\n",
       "</table>\n",
       "</div>"
      ],
      "text/plain": [
       "                               sma_fast     sma_slow\n",
       "datetime                                            \n",
       "2019-09-19 00:00:00+00:00  10524.851472  8165.232394\n",
       "2019-09-20 00:00:00+00:00  10520.490909  8197.356318\n",
       "2019-09-21 00:00:00+00:00  10510.499681  8227.961461\n",
       "2019-09-22 00:00:00+00:00  10495.424404  8258.779991\n",
       "2019-09-23 00:00:00+00:00  10470.607194  8287.869189"
      ]
     },
     "execution_count": 33,
     "metadata": {},
     "output_type": "execute_result"
    }
   ],
   "source": [
    "# Generate the X_test and y_test DataFrames\n",
    "X_test = X.loc[training_end:]\n",
    "y_test = y.loc[training_end:]\n",
    "\n",
    "# Display sample data\n",
    "X_test.head()"
   ]
  },
  {
   "cell_type": "markdown",
   "metadata": {},
   "source": [
    "#### Standardizing the Data"
   ]
  },
  {
   "cell_type": "code",
   "execution_count": 34,
   "metadata": {},
   "outputs": [],
   "source": [
    "# Imports\n",
    "from sklearn.preprocessing import StandardScaler"
   ]
  },
  {
   "cell_type": "code",
   "execution_count": 35,
   "metadata": {},
   "outputs": [],
   "source": [
    "# Create a StandardScaler instance\n",
    "scaler = StandardScaler()\n",
    " \n",
    "# Apply the scaler model to fit the X-train data\n",
    "X_scaler = scaler.fit(X_train)\n",
    " \n",
    "# Transform the X_train and X_test DataFrames using the X_scaler\n",
    "X_train_scaled = X_scaler.transform(X_train)\n",
    "X_test_scaled = X_scaler.transform(X_test)"
   ]
  },
  {
   "cell_type": "markdown",
   "metadata": {},
   "source": [
    "---\n",
    "\n",
    "### Incorporate the SVM Machine Learning Into the Trading Strategy"
   ]
  },
  {
   "cell_type": "code",
   "execution_count": 36,
   "metadata": {},
   "outputs": [],
   "source": [
    "# Imports\n",
    "from sklearn import svm\n",
    "from sklearn.metrics import classification_report"
   ]
  },
  {
   "cell_type": "code",
   "execution_count": 37,
   "metadata": {},
   "outputs": [
    {
     "data": {
      "text/plain": [
       "array([1., 1., 1., 1., 1., 1., 1., 1., 1., 1.])"
      ]
     },
     "execution_count": 37,
     "metadata": {},
     "output_type": "execute_result"
    }
   ],
   "source": [
    "# Create the classifier model\n",
    "svm_model = svm.SVC()\n",
    " \n",
    "# Fit the model to the data using X_train_scaled and y_train\n",
    "svm_model = svm_model.fit(X_train_scaled, y_train)\n",
    "\n",
    "# Use the trained model to predict the trading signals for the training data\n",
    "training_signal_predictions = svm_model.predict(X_train_scaled)\n",
    "\n",
    "# Display the sample predictions\n",
    "training_signal_predictions[:10]"
   ]
  },
  {
   "cell_type": "code",
   "execution_count": 38,
   "metadata": {},
   "outputs": [
    {
     "name": "stdout",
     "output_type": "stream",
     "text": [
      "              precision    recall  f1-score   support\n",
      "\n",
      "        -1.0       0.62      0.52      0.56        46\n",
      "         1.0       0.59      0.68      0.63        47\n",
      "\n",
      "    accuracy                           0.60        93\n",
      "   macro avg       0.60      0.60      0.60        93\n",
      "weighted avg       0.60      0.60      0.60        93\n",
      "\n"
     ]
    }
   ],
   "source": [
    "# Evaluate the model using a classification report\n",
    "training_report = classification_report(y_train, training_signal_predictions)\n",
    "print(training_report)"
   ]
  },
  {
   "cell_type": "markdown",
   "metadata": {},
   "source": [
    "---\n",
    "\n",
    "### Backtesting a Machine Learning Trading Algorithm"
   ]
  },
  {
   "cell_type": "code",
   "execution_count": 39,
   "metadata": {},
   "outputs": [],
   "source": [
    "# Use the trained model to predict the trading signals for the testing data.\n",
    "testing_signal_predictions = svm_model.predict(X_test_scaled)"
   ]
  },
  {
   "cell_type": "code",
   "execution_count": 40,
   "metadata": {},
   "outputs": [
    {
     "name": "stdout",
     "output_type": "stream",
     "text": [
      "              precision    recall  f1-score   support\n",
      "\n",
      "        -1.0       0.53      0.14      0.22       381\n",
      "         1.0       0.53      0.89      0.67       424\n",
      "\n",
      "    accuracy                           0.53       805\n",
      "   macro avg       0.53      0.51      0.44       805\n",
      "weighted avg       0.53      0.53      0.45       805\n",
      "\n"
     ]
    }
   ],
   "source": [
    "# Evaluate the model's ability to predict the trading signal for the testing data\n",
    "svm_testing_report = classification_report(y_test, testing_signal_predictions)\n",
    "print(svm_testing_report)"
   ]
  },
  {
   "cell_type": "code",
   "execution_count": 41,
   "metadata": {},
   "outputs": [
    {
     "data": {
      "text/html": [
       "<div>\n",
       "<style scoped>\n",
       "    .dataframe tbody tr th:only-of-type {\n",
       "        vertical-align: middle;\n",
       "    }\n",
       "\n",
       "    .dataframe tbody tr th {\n",
       "        vertical-align: top;\n",
       "    }\n",
       "\n",
       "    .dataframe thead th {\n",
       "        text-align: right;\n",
       "    }\n",
       "</style>\n",
       "<table border=\"1\" class=\"dataframe\">\n",
       "  <thead>\n",
       "    <tr style=\"text-align: right;\">\n",
       "      <th></th>\n",
       "      <th>predicted_signal</th>\n",
       "      <th>actual_returns</th>\n",
       "      <th>trading_algorithm_returns</th>\n",
       "    </tr>\n",
       "    <tr>\n",
       "      <th>datetime</th>\n",
       "      <th></th>\n",
       "      <th></th>\n",
       "      <th></th>\n",
       "    </tr>\n",
       "  </thead>\n",
       "  <tbody>\n",
       "    <tr>\n",
       "      <th>2019-09-19 00:00:00+00:00</th>\n",
       "      <td>-1.0</td>\n",
       "      <td>0.006684</td>\n",
       "      <td>-0.006684</td>\n",
       "    </tr>\n",
       "    <tr>\n",
       "      <th>2019-09-20 00:00:00+00:00</th>\n",
       "      <td>-1.0</td>\n",
       "      <td>-0.008257</td>\n",
       "      <td>0.008257</td>\n",
       "    </tr>\n",
       "    <tr>\n",
       "      <th>2019-09-21 00:00:00+00:00</th>\n",
       "      <td>-1.0</td>\n",
       "      <td>-0.015904</td>\n",
       "      <td>0.015904</td>\n",
       "    </tr>\n",
       "    <tr>\n",
       "      <th>2019-09-22 00:00:00+00:00</th>\n",
       "      <td>-1.0</td>\n",
       "      <td>0.004815</td>\n",
       "      <td>-0.004815</td>\n",
       "    </tr>\n",
       "    <tr>\n",
       "      <th>2019-09-23 00:00:00+00:00</th>\n",
       "      <td>-1.0</td>\n",
       "      <td>-0.033635</td>\n",
       "      <td>0.033635</td>\n",
       "    </tr>\n",
       "  </tbody>\n",
       "</table>\n",
       "</div>"
      ],
      "text/plain": [
       "                           predicted_signal  actual_returns  \\\n",
       "datetime                                                      \n",
       "2019-09-19 00:00:00+00:00              -1.0        0.006684   \n",
       "2019-09-20 00:00:00+00:00              -1.0       -0.008257   \n",
       "2019-09-21 00:00:00+00:00              -1.0       -0.015904   \n",
       "2019-09-22 00:00:00+00:00              -1.0        0.004815   \n",
       "2019-09-23 00:00:00+00:00              -1.0       -0.033635   \n",
       "\n",
       "                           trading_algorithm_returns  \n",
       "datetime                                              \n",
       "2019-09-19 00:00:00+00:00                  -0.006684  \n",
       "2019-09-20 00:00:00+00:00                   0.008257  \n",
       "2019-09-21 00:00:00+00:00                   0.015904  \n",
       "2019-09-22 00:00:00+00:00                  -0.004815  \n",
       "2019-09-23 00:00:00+00:00                   0.033635  "
      ]
     },
     "metadata": {},
     "output_type": "display_data"
    },
    {
     "data": {
      "text/html": [
       "<div>\n",
       "<style scoped>\n",
       "    .dataframe tbody tr th:only-of-type {\n",
       "        vertical-align: middle;\n",
       "    }\n",
       "\n",
       "    .dataframe tbody tr th {\n",
       "        vertical-align: top;\n",
       "    }\n",
       "\n",
       "    .dataframe thead th {\n",
       "        text-align: right;\n",
       "    }\n",
       "</style>\n",
       "<table border=\"1\" class=\"dataframe\">\n",
       "  <thead>\n",
       "    <tr style=\"text-align: right;\">\n",
       "      <th></th>\n",
       "      <th>predicted_signal</th>\n",
       "      <th>actual_returns</th>\n",
       "      <th>trading_algorithm_returns</th>\n",
       "    </tr>\n",
       "    <tr>\n",
       "      <th>datetime</th>\n",
       "      <th></th>\n",
       "      <th></th>\n",
       "      <th></th>\n",
       "    </tr>\n",
       "  </thead>\n",
       "  <tbody>\n",
       "    <tr>\n",
       "      <th>2021-11-27 00:00:00+00:00</th>\n",
       "      <td>1.0</td>\n",
       "      <td>0.023247</td>\n",
       "      <td>0.023247</td>\n",
       "    </tr>\n",
       "    <tr>\n",
       "      <th>2021-11-28 00:00:00+00:00</th>\n",
       "      <td>1.0</td>\n",
       "      <td>0.044393</td>\n",
       "      <td>0.044393</td>\n",
       "    </tr>\n",
       "    <tr>\n",
       "      <th>2021-11-29 00:00:00+00:00</th>\n",
       "      <td>1.0</td>\n",
       "      <td>0.009749</td>\n",
       "      <td>0.009749</td>\n",
       "    </tr>\n",
       "    <tr>\n",
       "      <th>2021-11-30 00:00:00+00:00</th>\n",
       "      <td>1.0</td>\n",
       "      <td>-0.013859</td>\n",
       "      <td>-0.013859</td>\n",
       "    </tr>\n",
       "    <tr>\n",
       "      <th>2021-12-01 00:00:00+00:00</th>\n",
       "      <td>1.0</td>\n",
       "      <td>0.003937</td>\n",
       "      <td>0.003937</td>\n",
       "    </tr>\n",
       "  </tbody>\n",
       "</table>\n",
       "</div>"
      ],
      "text/plain": [
       "                           predicted_signal  actual_returns  \\\n",
       "datetime                                                      \n",
       "2021-11-27 00:00:00+00:00               1.0        0.023247   \n",
       "2021-11-28 00:00:00+00:00               1.0        0.044393   \n",
       "2021-11-29 00:00:00+00:00               1.0        0.009749   \n",
       "2021-11-30 00:00:00+00:00               1.0       -0.013859   \n",
       "2021-12-01 00:00:00+00:00               1.0        0.003937   \n",
       "\n",
       "                           trading_algorithm_returns  \n",
       "datetime                                              \n",
       "2021-11-27 00:00:00+00:00                   0.023247  \n",
       "2021-11-28 00:00:00+00:00                   0.044393  \n",
       "2021-11-29 00:00:00+00:00                   0.009749  \n",
       "2021-11-30 00:00:00+00:00                  -0.013859  \n",
       "2021-12-01 00:00:00+00:00                   0.003937  "
      ]
     },
     "metadata": {},
     "output_type": "display_data"
    }
   ],
   "source": [
    "# Create a new empty predictions DataFrame using code provided below.\n",
    "predictions_df = pd.DataFrame(index=X_test.index)\n",
    "predictions_df[\"predicted_signal\"] = testing_signal_predictions\n",
    "predictions_df[\"actual_returns\"] = signals_df[\"actual_returns\"]\n",
    "predictions_df[\"trading_algorithm_returns\"] = predictions_df[\"actual_returns\"] * predictions_df[\"predicted_signal\"]\n",
    "display(predictions_df.head())\n",
    "display(predictions_df.tail())"
   ]
  },
  {
   "cell_type": "code",
   "execution_count": 42,
   "metadata": {},
   "outputs": [
    {
     "data": {
      "text/plain": [
       "<AxesSubplot:xlabel='datetime'>"
      ]
     },
     "execution_count": 42,
     "metadata": {},
     "output_type": "execute_result"
    },
    {
     "data": {
      "image/png": "[encoded data removed]",
      "text/plain": [
       "<Figure size 432x288 with 1 Axes>"
      ]
     },
     "metadata": {
      "needs_background": "light"
     },
     "output_type": "display_data"
    }
   ],
   "source": [
    "# Calculate and plot the cumulative returns for the `actual_returns` and the `trading_algorithm_returns`\n",
    "(1 + predictions_df[[\"actual_returns\", \"trading_algorithm_returns\"]]).cumprod().plot()"
   ]
  },
  {
   "cell_type": "markdown",
   "metadata": {},
   "source": [
    "---\n",
    "\n",
    "# Add a New Machine Learning Model"
   ]
  },
  {
   "cell_type": "markdown",
   "metadata": {},
   "source": [
    "## Import the `LogisticRegression` model from scikit-learn.\n"
   ]
  },
  {
   "cell_type": "code",
   "execution_count": 43,
   "metadata": {},
   "outputs": [],
   "source": [
    "# Import LogisticRegression from sklearn\n",
    "from sklearn.linear_model import LogisticRegression"
   ]
  },
  {
   "cell_type": "code",
   "execution_count": 44,
   "metadata": {},
   "outputs": [],
   "source": [
    "# Create an instance of the LogisticRegression model\n",
    "logistic_regression_model = LogisticRegression()"
   ]
  },
  {
   "cell_type": "markdown",
   "metadata": {},
   "source": [
    "## Using the same training data that the SVM model used (`X_train_scaled` and `y_train`), fit the `LogisticRegression` model."
   ]
  },
  {
   "cell_type": "code",
   "execution_count": 45,
   "metadata": {},
   "outputs": [
    {
     "data": {
      "text/plain": [
       "LogisticRegression()"
      ]
     },
     "execution_count": 45,
     "metadata": {},
     "output_type": "execute_result"
    }
   ],
   "source": [
    "# Fit the LogisticRegression model\n",
    "logistic_regression_model.fit(X_train_scaled, y_train)"
   ]
  },
  {
   "cell_type": "markdown",
   "metadata": {},
   "source": [
    "## Use the trained model to predict the trading signals for the training data. Use the `classification_report` module to evaluate the model."
   ]
  },
  {
   "cell_type": "code",
   "execution_count": 46,
   "metadata": {},
   "outputs": [
    {
     "data": {
      "text/plain": [
       "array([ 1.,  1.,  1.,  1.,  1.,  1.,  1.,  1.,  1.,  1.,  1.,  1.,  1.,\n",
       "        1.,  1.,  1.,  1.,  1.,  1.,  1.,  1.,  1.,  1.,  1.,  1.,  1.,\n",
       "        1.,  1.,  1.,  1.,  1.,  1.,  1.,  1.,  1.,  1.,  1.,  1.,  1.,\n",
       "        1., -1., -1., -1., -1., -1., -1., -1., -1., -1., -1., -1., -1.,\n",
       "       -1., -1., -1., -1., -1., -1., -1., -1., -1., -1., -1., -1., -1.,\n",
       "       -1., -1., -1., -1., -1., -1., -1., -1., -1., -1., -1., -1., -1.,\n",
       "       -1., -1., -1., -1., -1., -1., -1., -1., -1., -1., -1., -1., -1.,\n",
       "       -1., -1.])"
      ]
     },
     "execution_count": 46,
     "metadata": {},
     "output_type": "execute_result"
    }
   ],
   "source": [
    "# Use the trained LogisticRegression model to predict the trading signals for the training data\n",
    "lr_training_signal_predictions = logistic_regression_model.predict(X_train_scaled)\n",
    "\n",
    "# Display the predictions\n",
    "lr_training_signal_predictions"
   ]
  },
  {
   "cell_type": "code",
   "execution_count": 47,
   "metadata": {},
   "outputs": [
    {
     "name": "stdout",
     "output_type": "stream",
     "text": [
      "              precision    recall  f1-score   support\n",
      "\n",
      "        -1.0       0.53      0.61      0.57        46\n",
      "         1.0       0.55      0.47      0.51        47\n",
      "\n",
      "    accuracy                           0.54        93\n",
      "   macro avg       0.54      0.54      0.54        93\n",
      "weighted avg       0.54      0.54      0.54        93\n",
      "\n"
     ]
    }
   ],
   "source": [
    "# Generate a classification report using the training data and the logistic regression model's predications\n",
    "lr_training_report = classification_report(y_train, lr_training_signal_predictions)\n",
    "\n",
    "# Review the classification report\n",
    "print(lr_training_report)"
   ]
  },
  {
   "cell_type": "markdown",
   "metadata": {},
   "source": [
    "## Backtest the `LogisticRegression` model using the testing data to evaluate its performance."
   ]
  },
  {
   "cell_type": "code",
   "execution_count": 48,
   "metadata": {},
   "outputs": [],
   "source": [
    "# Use the trained model to predict the trading signals for the testing data.\n",
    "lr_testing_signal_predictions = logistic_regression_model.predict(X_test_scaled)"
   ]
  },
  {
   "cell_type": "code",
   "execution_count": 49,
   "metadata": {},
   "outputs": [
    {
     "name": "stdout",
     "output_type": "stream",
     "text": [
      "              precision    recall  f1-score   support\n",
      "\n",
      "        -1.0       0.48      0.91      0.62       381\n",
      "         1.0       0.55      0.10      0.17       424\n",
      "\n",
      "    accuracy                           0.48       805\n",
      "   macro avg       0.51      0.50      0.40       805\n",
      "weighted avg       0.51      0.48      0.38       805\n",
      "\n"
     ]
    }
   ],
   "source": [
    "# Generate a classification report using the testing data and the logistic regression model's predictions\n",
    "lr_testing_report = classification_report(y_test, lr_testing_signal_predictions)\n",
    "\n",
    "# Review the testing classification report\n",
    "print(lr_testing_report)"
   ]
  },
  {
   "cell_type": "markdown",
   "metadata": {},
   "source": [
    "## Compare the performance of the logistic regression and SVM models using the classification reports generated with the testing data. "
   ]
  },
  {
   "cell_type": "code",
   "execution_count": 50,
   "metadata": {},
   "outputs": [
    {
     "name": "stdout",
     "output_type": "stream",
     "text": [
      "Logistic Regression Classification Report\n",
      "              precision    recall  f1-score   support\n",
      "\n",
      "        -1.0       0.48      0.91      0.62       381\n",
      "         1.0       0.55      0.10      0.17       424\n",
      "\n",
      "    accuracy                           0.48       805\n",
      "   macro avg       0.51      0.50      0.40       805\n",
      "weighted avg       0.51      0.48      0.38       805\n",
      "\n"
     ]
    }
   ],
   "source": [
    "# Print the classification report for the Logistic Regression model using the test data\n",
    "print(\"Logistic Regression Classification Report\")\n",
    "print(lr_testing_report)"
   ]
  },
  {
   "cell_type": "code",
   "execution_count": 51,
   "metadata": {},
   "outputs": [
    {
     "name": "stdout",
     "output_type": "stream",
     "text": [
      "SVM Classification Report\n",
      "              precision    recall  f1-score   support\n",
      "\n",
      "        -1.0       0.53      0.14      0.22       381\n",
      "         1.0       0.53      0.89      0.67       424\n",
      "\n",
      "    accuracy                           0.53       805\n",
      "   macro avg       0.53      0.51      0.44       805\n",
      "weighted avg       0.53      0.53      0.45       805\n",
      "\n"
     ]
    }
   ],
   "source": [
    "# Print the classification report for the SVM model using the test data\n",
    "print(\"SVM Classification Report\")\n",
    "print(svm_testing_report)"
   ]
  },
  {
   "cell_type": "markdown",
   "metadata": {},
   "source": [
    "### Answer the following question:"
   ]
  },
  {
   "cell_type": "markdown",
   "metadata": {},
   "source": [
    "**Question:** Did the `LogisticRegression` perform better than the `SVM`?\n",
    "\n",
    "**Answer:** No! The SVM model performs a bit better than the logistic regression model since it has a higher accuracy score (53% to 48%)."
   ]
  },
  {
   "cell_type": "code",
   "execution_count": null,
   "metadata": {},
   "outputs": [],
   "source": []
  }
 ],
 "metadata": {
  "kernelspec": {
   "display_name": "Python 3 (ipykernel)",
   "language": "python",
   "name": "python3"
  },
  "language_info": {
   "codemirror_mode": {
    "name": "ipython",
    "version": 3
   },
   "file_extension": ".py",
   "mimetype": "text/x-python",
   "name": "python",
   "nbconvert_exporter": "python",
   "pygments_lexer": "ipython3",
   "version": "3.7.11"
  }
 },
 "nbformat": 4,
 "nbformat_minor": 4
}
