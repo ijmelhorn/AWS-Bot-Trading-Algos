{
 "cells": [
  {
   "cell_type": "markdown",
   "metadata": {},
   "source": [
    "# Ethereum Machine Learning Golden Cross Algorithmic Trading\n",
    "\n",
    "## Background\n",
    "\n",
    "In this workbook, we've trained support vector machine (SVM) model to make trading predictions, backtested the results, and then evaluated its performance compared to that of a logistic regression model for ETH.\n",
    "\n",
    "## References\n",
    "\n",
    "* [SKLearn SVM - SVC Classifier](https://scikit-learn.org/stable/modules/generated/sklearn.svm.SVC.html)\n",
    "\n",
    "* [SKLearn LogisticRegression](https://scikit-learn.org/stable/modules/generated/sklearn.linear_model.LogisticRegression.html)\n",
    "\n",
    "---"
   ]
  },
  {
   "cell_type": "code",
   "execution_count": 37,
   "metadata": {},
   "outputs": [],
   "source": [
    "# Imports\n",
    "import pandas as pd\n",
    "import numpy as np\n",
    "import hvplot.pandas\n",
    "from pathlib import Path\n",
    "import san"
   ]
  },
  {
   "cell_type": "markdown",
   "metadata": {},
   "source": [
    "### Read the CSV file into Pandas DataFrame"
   ]
  },
  {
   "cell_type": "code",
   "execution_count": 2,
   "metadata": {},
   "outputs": [
    {
     "data": {
      "text/html": [
       "<div>\n",
       "<style scoped>\n",
       "    .dataframe tbody tr th:only-of-type {\n",
       "        vertical-align: middle;\n",
       "    }\n",
       "\n",
       "    .dataframe tbody tr th {\n",
       "        vertical-align: top;\n",
       "    }\n",
       "\n",
       "    .dataframe thead th {\n",
       "        text-align: right;\n",
       "    }\n",
       "</style>\n",
       "<table border=\"1\" class=\"dataframe\">\n",
       "  <thead>\n",
       "    <tr style=\"text-align: right;\">\n",
       "      <th></th>\n",
       "      <th>open</th>\n",
       "      <th>close</th>\n",
       "      <th>high</th>\n",
       "      <th>low</th>\n",
       "      <th>volume</th>\n",
       "      <th>marketcap</th>\n",
       "    </tr>\n",
       "    <tr>\n",
       "      <th>datetime</th>\n",
       "      <th></th>\n",
       "      <th></th>\n",
       "      <th></th>\n",
       "      <th></th>\n",
       "      <th></th>\n",
       "      <th></th>\n",
       "    </tr>\n",
       "  </thead>\n",
       "  <tbody>\n",
       "    <tr>\n",
       "      <th>2018-12-01 00:00:00+00:00</th>\n",
       "      <td>113.397762</td>\n",
       "      <td>118.635559</td>\n",
       "      <td>120.841454</td>\n",
       "      <td>111.541072</td>\n",
       "      <td>2.131476e+09</td>\n",
       "      <td>1.228412e+10</td>\n",
       "    </tr>\n",
       "    <tr>\n",
       "      <th>2018-12-02 00:00:00+00:00</th>\n",
       "      <td>118.268151</td>\n",
       "      <td>116.388899</td>\n",
       "      <td>120.562047</td>\n",
       "      <td>116.092041</td>\n",
       "      <td>1.856199e+09</td>\n",
       "      <td>1.205377e+10</td>\n",
       "    </tr>\n",
       "    <tr>\n",
       "      <th>2018-12-03 00:00:00+00:00</th>\n",
       "      <td>116.398687</td>\n",
       "      <td>108.925018</td>\n",
       "      <td>116.619068</td>\n",
       "      <td>107.312815</td>\n",
       "      <td>1.772756e+09</td>\n",
       "      <td>1.128291e+10</td>\n",
       "    </tr>\n",
       "    <tr>\n",
       "      <th>2018-12-04 00:00:00+00:00</th>\n",
       "      <td>108.756033</td>\n",
       "      <td>110.214190</td>\n",
       "      <td>113.142914</td>\n",
       "      <td>107.402721</td>\n",
       "      <td>1.748116e+09</td>\n",
       "      <td>1.141862e+10</td>\n",
       "    </tr>\n",
       "    <tr>\n",
       "      <th>2018-12-05 00:00:00+00:00</th>\n",
       "      <td>110.335518</td>\n",
       "      <td>102.475556</td>\n",
       "      <td>110.641389</td>\n",
       "      <td>102.475556</td>\n",
       "      <td>1.990158e+09</td>\n",
       "      <td>1.061888e+10</td>\n",
       "    </tr>\n",
       "  </tbody>\n",
       "</table>\n",
       "</div>"
      ],
      "text/plain": [
       "                                 open       close        high         low  \\\n",
       "datetime                                                                    \n",
       "2018-12-01 00:00:00+00:00  113.397762  118.635559  120.841454  111.541072   \n",
       "2018-12-02 00:00:00+00:00  118.268151  116.388899  120.562047  116.092041   \n",
       "2018-12-03 00:00:00+00:00  116.398687  108.925018  116.619068  107.312815   \n",
       "2018-12-04 00:00:00+00:00  108.756033  110.214190  113.142914  107.402721   \n",
       "2018-12-05 00:00:00+00:00  110.335518  102.475556  110.641389  102.475556   \n",
       "\n",
       "                                 volume     marketcap  \n",
       "datetime                                               \n",
       "2018-12-01 00:00:00+00:00  2.131476e+09  1.228412e+10  \n",
       "2018-12-02 00:00:00+00:00  1.856199e+09  1.205377e+10  \n",
       "2018-12-03 00:00:00+00:00  1.772756e+09  1.128291e+10  \n",
       "2018-12-04 00:00:00+00:00  1.748116e+09  1.141862e+10  \n",
       "2018-12-05 00:00:00+00:00  1.990158e+09  1.061888e+10  "
      ]
     },
     "execution_count": 2,
     "metadata": {},
     "output_type": "execute_result"
    }
   ],
   "source": [
    "# Pull the OHLCV dataset from Santiment into a Pandas Dataframe\n",
    "trading_df = san.get(\n",
    "    \"ohlcv/ethereum\",\n",
    "    from_date=\"2018-12-01\",\n",
    "    to_date=\"2021-12-01\",\n",
    "    interval=\"1d\"\n",
    ")\n",
    "\n",
    "trading_df.columns = ['open', 'close', 'high', 'low', 'volume', 'marketcap']\n",
    "\n",
    "# Review the DataFrame\n",
    "trading_df.head()"
   ]
  },
  {
   "cell_type": "markdown",
   "metadata": {},
   "source": [
    "### Add a daily return values column to the DataFrame"
   ]
  },
  {
   "cell_type": "code",
   "execution_count": 3,
   "metadata": {},
   "outputs": [
    {
     "data": {
      "text/html": [
       "<div>\n",
       "<style scoped>\n",
       "    .dataframe tbody tr th:only-of-type {\n",
       "        vertical-align: middle;\n",
       "    }\n",
       "\n",
       "    .dataframe tbody tr th {\n",
       "        vertical-align: top;\n",
       "    }\n",
       "\n",
       "    .dataframe thead th {\n",
       "        text-align: right;\n",
       "    }\n",
       "</style>\n",
       "<table border=\"1\" class=\"dataframe\">\n",
       "  <thead>\n",
       "    <tr style=\"text-align: right;\">\n",
       "      <th></th>\n",
       "      <th>open</th>\n",
       "      <th>close</th>\n",
       "      <th>high</th>\n",
       "      <th>low</th>\n",
       "      <th>volume</th>\n",
       "      <th>marketcap</th>\n",
       "      <th>actual_returns</th>\n",
       "    </tr>\n",
       "    <tr>\n",
       "      <th>datetime</th>\n",
       "      <th></th>\n",
       "      <th></th>\n",
       "      <th></th>\n",
       "      <th></th>\n",
       "      <th></th>\n",
       "      <th></th>\n",
       "      <th></th>\n",
       "    </tr>\n",
       "  </thead>\n",
       "  <tbody>\n",
       "    <tr>\n",
       "      <th>2018-12-02 00:00:00+00:00</th>\n",
       "      <td>118.268151</td>\n",
       "      <td>116.388899</td>\n",
       "      <td>120.562047</td>\n",
       "      <td>116.092041</td>\n",
       "      <td>1.856199e+09</td>\n",
       "      <td>1.205377e+10</td>\n",
       "      <td>-0.018937</td>\n",
       "    </tr>\n",
       "    <tr>\n",
       "      <th>2018-12-03 00:00:00+00:00</th>\n",
       "      <td>116.398687</td>\n",
       "      <td>108.925018</td>\n",
       "      <td>116.619068</td>\n",
       "      <td>107.312815</td>\n",
       "      <td>1.772756e+09</td>\n",
       "      <td>1.128291e+10</td>\n",
       "      <td>-0.064129</td>\n",
       "    </tr>\n",
       "    <tr>\n",
       "      <th>2018-12-04 00:00:00+00:00</th>\n",
       "      <td>108.756033</td>\n",
       "      <td>110.214190</td>\n",
       "      <td>113.142914</td>\n",
       "      <td>107.402721</td>\n",
       "      <td>1.748116e+09</td>\n",
       "      <td>1.141862e+10</td>\n",
       "      <td>0.011835</td>\n",
       "    </tr>\n",
       "    <tr>\n",
       "      <th>2018-12-05 00:00:00+00:00</th>\n",
       "      <td>110.335518</td>\n",
       "      <td>102.475556</td>\n",
       "      <td>110.641389</td>\n",
       "      <td>102.475556</td>\n",
       "      <td>1.990158e+09</td>\n",
       "      <td>1.061888e+10</td>\n",
       "      <td>-0.070214</td>\n",
       "    </tr>\n",
       "    <tr>\n",
       "      <th>2018-12-06 00:00:00+00:00</th>\n",
       "      <td>102.422572</td>\n",
       "      <td>91.804131</td>\n",
       "      <td>104.103496</td>\n",
       "      <td>91.761056</td>\n",
       "      <td>2.311803e+09</td>\n",
       "      <td>9.514882e+09</td>\n",
       "      <td>-0.104136</td>\n",
       "    </tr>\n",
       "  </tbody>\n",
       "</table>\n",
       "</div>"
      ],
      "text/plain": [
       "                                 open       close        high         low  \\\n",
       "datetime                                                                    \n",
       "2018-12-02 00:00:00+00:00  118.268151  116.388899  120.562047  116.092041   \n",
       "2018-12-03 00:00:00+00:00  116.398687  108.925018  116.619068  107.312815   \n",
       "2018-12-04 00:00:00+00:00  108.756033  110.214190  113.142914  107.402721   \n",
       "2018-12-05 00:00:00+00:00  110.335518  102.475556  110.641389  102.475556   \n",
       "2018-12-06 00:00:00+00:00  102.422572   91.804131  104.103496   91.761056   \n",
       "\n",
       "                                 volume     marketcap  actual_returns  \n",
       "datetime                                                               \n",
       "2018-12-02 00:00:00+00:00  1.856199e+09  1.205377e+10       -0.018937  \n",
       "2018-12-03 00:00:00+00:00  1.772756e+09  1.128291e+10       -0.064129  \n",
       "2018-12-04 00:00:00+00:00  1.748116e+09  1.141862e+10        0.011835  \n",
       "2018-12-05 00:00:00+00:00  1.990158e+09  1.061888e+10       -0.070214  \n",
       "2018-12-06 00:00:00+00:00  2.311803e+09  9.514882e+09       -0.104136  "
      ]
     },
     "metadata": {},
     "output_type": "display_data"
    },
    {
     "data": {
      "text/html": [
       "<div>\n",
       "<style scoped>\n",
       "    .dataframe tbody tr th:only-of-type {\n",
       "        vertical-align: middle;\n",
       "    }\n",
       "\n",
       "    .dataframe tbody tr th {\n",
       "        vertical-align: top;\n",
       "    }\n",
       "\n",
       "    .dataframe thead th {\n",
       "        text-align: right;\n",
       "    }\n",
       "</style>\n",
       "<table border=\"1\" class=\"dataframe\">\n",
       "  <thead>\n",
       "    <tr style=\"text-align: right;\">\n",
       "      <th></th>\n",
       "      <th>open</th>\n",
       "      <th>close</th>\n",
       "      <th>high</th>\n",
       "      <th>low</th>\n",
       "      <th>volume</th>\n",
       "      <th>marketcap</th>\n",
       "      <th>actual_returns</th>\n",
       "    </tr>\n",
       "    <tr>\n",
       "      <th>datetime</th>\n",
       "      <th></th>\n",
       "      <th></th>\n",
       "      <th></th>\n",
       "      <th></th>\n",
       "      <th></th>\n",
       "      <th></th>\n",
       "      <th></th>\n",
       "    </tr>\n",
       "  </thead>\n",
       "  <tbody>\n",
       "    <tr>\n",
       "      <th>2021-11-27 00:00:00+00:00</th>\n",
       "      <td>4051.504075</td>\n",
       "      <td>4096.912088</td>\n",
       "      <td>4183.617228</td>\n",
       "      <td>4039.785363</td>\n",
       "      <td>1.651569e+10</td>\n",
       "      <td>4.855480e+11</td>\n",
       "      <td>0.016374</td>\n",
       "    </tr>\n",
       "    <tr>\n",
       "      <th>2021-11-28 00:00:00+00:00</th>\n",
       "      <td>4101.648807</td>\n",
       "      <td>4294.453696</td>\n",
       "      <td>4296.864380</td>\n",
       "      <td>3995.281552</td>\n",
       "      <td>1.595313e+10</td>\n",
       "      <td>5.090167e+11</td>\n",
       "      <td>0.048217</td>\n",
       "    </tr>\n",
       "    <tr>\n",
       "      <th>2021-11-29 00:00:00+00:00</th>\n",
       "      <td>4296.946820</td>\n",
       "      <td>4445.105008</td>\n",
       "      <td>4458.878297</td>\n",
       "      <td>4288.870364</td>\n",
       "      <td>1.908648e+10</td>\n",
       "      <td>5.269313e+11</td>\n",
       "      <td>0.035080</td>\n",
       "    </tr>\n",
       "    <tr>\n",
       "      <th>2021-11-30 00:00:00+00:00</th>\n",
       "      <td>4442.159127</td>\n",
       "      <td>4631.478795</td>\n",
       "      <td>4735.379577</td>\n",
       "      <td>4359.853336</td>\n",
       "      <td>2.862635e+10</td>\n",
       "      <td>5.490858e+11</td>\n",
       "      <td>0.041928</td>\n",
       "    </tr>\n",
       "    <tr>\n",
       "      <th>2021-12-01 00:00:00+00:00</th>\n",
       "      <td>4623.679444</td>\n",
       "      <td>4586.990131</td>\n",
       "      <td>4777.826422</td>\n",
       "      <td>4530.272580</td>\n",
       "      <td>2.763483e+10</td>\n",
       "      <td>5.438712e+11</td>\n",
       "      <td>-0.009606</td>\n",
       "    </tr>\n",
       "  </tbody>\n",
       "</table>\n",
       "</div>"
      ],
      "text/plain": [
       "                                  open        close         high          low  \\\n",
       "datetime                                                                        \n",
       "2021-11-27 00:00:00+00:00  4051.504075  4096.912088  4183.617228  4039.785363   \n",
       "2021-11-28 00:00:00+00:00  4101.648807  4294.453696  4296.864380  3995.281552   \n",
       "2021-11-29 00:00:00+00:00  4296.946820  4445.105008  4458.878297  4288.870364   \n",
       "2021-11-30 00:00:00+00:00  4442.159127  4631.478795  4735.379577  4359.853336   \n",
       "2021-12-01 00:00:00+00:00  4623.679444  4586.990131  4777.826422  4530.272580   \n",
       "\n",
       "                                 volume     marketcap  actual_returns  \n",
       "datetime                                                               \n",
       "2021-11-27 00:00:00+00:00  1.651569e+10  4.855480e+11        0.016374  \n",
       "2021-11-28 00:00:00+00:00  1.595313e+10  5.090167e+11        0.048217  \n",
       "2021-11-29 00:00:00+00:00  1.908648e+10  5.269313e+11        0.035080  \n",
       "2021-11-30 00:00:00+00:00  2.862635e+10  5.490858e+11        0.041928  \n",
       "2021-12-01 00:00:00+00:00  2.763483e+10  5.438712e+11       -0.009606  "
      ]
     },
     "metadata": {},
     "output_type": "display_data"
    }
   ],
   "source": [
    "# Calculate the daily returns using the closing prices and the pct_change function\n",
    "trading_df[\"actual_returns\"] = trading_df[\"close\"].pct_change()\n",
    "\n",
    "# Drop all NaN values from the DataFrame\n",
    "trading_df = trading_df.dropna()\n",
    "\n",
    "# Review the DataFrame\n",
    "display(trading_df.head())\n",
    "display(trading_df.tail())"
   ]
  },
  {
   "cell_type": "markdown",
   "metadata": {},
   "source": [
    "---\n",
    "\n",
    "### Visualize Entries and Exits"
   ]
  },
  {
   "cell_type": "code",
   "execution_count": 4,
   "metadata": {},
   "outputs": [],
   "source": [
    "# Import the finta Python library and the TA module\n",
    "from finta import TA"
   ]
  },
  {
   "cell_type": "code",
   "execution_count": 5,
   "metadata": {},
   "outputs": [],
   "source": [
    "# Create a signals_df DataFrame\n",
    "signals_df = trading_df.copy()\n",
    "\n",
    "# Set the short window and long windows\n",
    "short_window = 50\n",
    "long_window = 200\n",
    "\n",
    "# Add the SMA technical indicators for the short and long windows\n",
    "signals_df[\"sma_fast\"] = TA.SMA(signals_df, short_window)\n",
    "signals_df[\"sma_slow\"] = TA.SMA(signals_df, long_window)"
   ]
  },
  {
   "cell_type": "code",
   "execution_count": 6,
   "metadata": {},
   "outputs": [
    {
     "data": {
      "text/html": [
       "<div>\n",
       "<style scoped>\n",
       "    .dataframe tbody tr th:only-of-type {\n",
       "        vertical-align: middle;\n",
       "    }\n",
       "\n",
       "    .dataframe tbody tr th {\n",
       "        vertical-align: top;\n",
       "    }\n",
       "\n",
       "    .dataframe thead th {\n",
       "        text-align: right;\n",
       "    }\n",
       "</style>\n",
       "<table border=\"1\" class=\"dataframe\">\n",
       "  <thead>\n",
       "    <tr style=\"text-align: right;\">\n",
       "      <th></th>\n",
       "      <th>open</th>\n",
       "      <th>close</th>\n",
       "      <th>high</th>\n",
       "      <th>low</th>\n",
       "      <th>volume</th>\n",
       "      <th>marketcap</th>\n",
       "      <th>actual_returns</th>\n",
       "      <th>sma_fast</th>\n",
       "      <th>sma_slow</th>\n",
       "    </tr>\n",
       "    <tr>\n",
       "      <th>datetime</th>\n",
       "      <th></th>\n",
       "      <th></th>\n",
       "      <th></th>\n",
       "      <th></th>\n",
       "      <th></th>\n",
       "      <th></th>\n",
       "      <th></th>\n",
       "      <th></th>\n",
       "      <th></th>\n",
       "    </tr>\n",
       "  </thead>\n",
       "  <tbody>\n",
       "    <tr>\n",
       "      <th>2019-06-19 00:00:00+00:00</th>\n",
       "      <td>265.071659</td>\n",
       "      <td>269.431798</td>\n",
       "      <td>270.309516</td>\n",
       "      <td>264.817435</td>\n",
       "      <td>5.516511e+09</td>\n",
       "      <td>2.871078e+10</td>\n",
       "      <td>0.016525</td>\n",
       "      <td>234.051936</td>\n",
       "      <td>158.616174</td>\n",
       "    </tr>\n",
       "    <tr>\n",
       "      <th>2019-06-20 00:00:00+00:00</th>\n",
       "      <td>268.840289</td>\n",
       "      <td>271.695017</td>\n",
       "      <td>274.008043</td>\n",
       "      <td>265.628857</td>\n",
       "      <td>6.408981e+09</td>\n",
       "      <td>2.895566e+10</td>\n",
       "      <td>0.008400</td>\n",
       "      <td>236.269469</td>\n",
       "      <td>159.392705</td>\n",
       "    </tr>\n",
       "    <tr>\n",
       "      <th>2019-06-21 00:00:00+00:00</th>\n",
       "      <td>272.057850</td>\n",
       "      <td>294.910280</td>\n",
       "      <td>295.303302</td>\n",
       "      <td>272.057850</td>\n",
       "      <td>9.331694e+09</td>\n",
       "      <td>3.143377e+10</td>\n",
       "      <td>0.085446</td>\n",
       "      <td>238.926172</td>\n",
       "      <td>160.322631</td>\n",
       "    </tr>\n",
       "    <tr>\n",
       "      <th>2019-06-22 00:00:00+00:00</th>\n",
       "      <td>295.908297</td>\n",
       "      <td>309.380305</td>\n",
       "      <td>315.189720</td>\n",
       "      <td>294.728230</td>\n",
       "      <td>1.061373e+10</td>\n",
       "      <td>3.298034e+10</td>\n",
       "      <td>0.049066</td>\n",
       "      <td>241.754730</td>\n",
       "      <td>161.318462</td>\n",
       "    </tr>\n",
       "    <tr>\n",
       "      <th>2019-06-23 00:00:00+00:00</th>\n",
       "      <td>309.900854</td>\n",
       "      <td>307.827784</td>\n",
       "      <td>318.436039</td>\n",
       "      <td>305.764594</td>\n",
       "      <td>8.161062e+09</td>\n",
       "      <td>3.281904e+10</td>\n",
       "      <td>-0.005018</td>\n",
       "      <td>244.630754</td>\n",
       "      <td>162.345223</td>\n",
       "    </tr>\n",
       "  </tbody>\n",
       "</table>\n",
       "</div>"
      ],
      "text/plain": [
       "                                 open       close        high         low  \\\n",
       "datetime                                                                    \n",
       "2019-06-19 00:00:00+00:00  265.071659  269.431798  270.309516  264.817435   \n",
       "2019-06-20 00:00:00+00:00  268.840289  271.695017  274.008043  265.628857   \n",
       "2019-06-21 00:00:00+00:00  272.057850  294.910280  295.303302  272.057850   \n",
       "2019-06-22 00:00:00+00:00  295.908297  309.380305  315.189720  294.728230   \n",
       "2019-06-23 00:00:00+00:00  309.900854  307.827784  318.436039  305.764594   \n",
       "\n",
       "                                 volume     marketcap  actual_returns  \\\n",
       "datetime                                                                \n",
       "2019-06-19 00:00:00+00:00  5.516511e+09  2.871078e+10        0.016525   \n",
       "2019-06-20 00:00:00+00:00  6.408981e+09  2.895566e+10        0.008400   \n",
       "2019-06-21 00:00:00+00:00  9.331694e+09  3.143377e+10        0.085446   \n",
       "2019-06-22 00:00:00+00:00  1.061373e+10  3.298034e+10        0.049066   \n",
       "2019-06-23 00:00:00+00:00  8.161062e+09  3.281904e+10       -0.005018   \n",
       "\n",
       "                             sma_fast    sma_slow  \n",
       "datetime                                           \n",
       "2019-06-19 00:00:00+00:00  234.051936  158.616174  \n",
       "2019-06-20 00:00:00+00:00  236.269469  159.392705  \n",
       "2019-06-21 00:00:00+00:00  238.926172  160.322631  \n",
       "2019-06-22 00:00:00+00:00  241.754730  161.318462  \n",
       "2019-06-23 00:00:00+00:00  244.630754  162.345223  "
      ]
     },
     "execution_count": 6,
     "metadata": {},
     "output_type": "execute_result"
    }
   ],
   "source": [
    "# Drop the NaNs using dropna()\n",
    "signals_df = signals_df.dropna()\n",
    "signals_df.head()"
   ]
  },
  {
   "cell_type": "code",
   "execution_count": 7,
   "metadata": {},
   "outputs": [
    {
     "data": {
      "text/html": [
       "<div>\n",
       "<style scoped>\n",
       "    .dataframe tbody tr th:only-of-type {\n",
       "        vertical-align: middle;\n",
       "    }\n",
       "\n",
       "    .dataframe tbody tr th {\n",
       "        vertical-align: top;\n",
       "    }\n",
       "\n",
       "    .dataframe thead th {\n",
       "        text-align: right;\n",
       "    }\n",
       "</style>\n",
       "<table border=\"1\" class=\"dataframe\">\n",
       "  <thead>\n",
       "    <tr style=\"text-align: right;\">\n",
       "      <th></th>\n",
       "      <th>open</th>\n",
       "      <th>close</th>\n",
       "      <th>high</th>\n",
       "      <th>low</th>\n",
       "      <th>volume</th>\n",
       "      <th>marketcap</th>\n",
       "      <th>actual_returns</th>\n",
       "      <th>sma_fast</th>\n",
       "      <th>sma_slow</th>\n",
       "      <th>Signal</th>\n",
       "      <th>Entry/Exit</th>\n",
       "    </tr>\n",
       "    <tr>\n",
       "      <th>datetime</th>\n",
       "      <th></th>\n",
       "      <th></th>\n",
       "      <th></th>\n",
       "      <th></th>\n",
       "      <th></th>\n",
       "      <th></th>\n",
       "      <th></th>\n",
       "      <th></th>\n",
       "      <th></th>\n",
       "      <th></th>\n",
       "      <th></th>\n",
       "    </tr>\n",
       "  </thead>\n",
       "  <tbody>\n",
       "    <tr>\n",
       "      <th>2019-09-22 00:00:00+00:00</th>\n",
       "      <td>215.484225</td>\n",
       "      <td>211.713204</td>\n",
       "      <td>215.729612</td>\n",
       "      <td>207.644927</td>\n",
       "      <td>7.816170e+09</td>\n",
       "      <td>2.283386e+10</td>\n",
       "      <td>-0.017646</td>\n",
       "      <td>194.174721</td>\n",
       "      <td>207.747646</td>\n",
       "      <td>0.0</td>\n",
       "      <td>0.0</td>\n",
       "    </tr>\n",
       "    <tr>\n",
       "      <th>2019-09-23 00:00:00+00:00</th>\n",
       "      <td>211.689371</td>\n",
       "      <td>201.921313</td>\n",
       "      <td>211.689371</td>\n",
       "      <td>201.921313</td>\n",
       "      <td>7.494673e+09</td>\n",
       "      <td>2.178053e+10</td>\n",
       "      <td>-0.046251</td>\n",
       "      <td>193.759753</td>\n",
       "      <td>208.067080</td>\n",
       "      <td>0.0</td>\n",
       "      <td>0.0</td>\n",
       "    </tr>\n",
       "    <tr>\n",
       "      <th>2019-09-24 00:00:00+00:00</th>\n",
       "      <td>201.859383</td>\n",
       "      <td>168.110736</td>\n",
       "      <td>203.441421</td>\n",
       "      <td>162.727788</td>\n",
       "      <td>1.175774e+10</td>\n",
       "      <td>1.813575e+10</td>\n",
       "      <td>-0.167444</td>\n",
       "      <td>192.437056</td>\n",
       "      <td>208.231998</td>\n",
       "      <td>0.0</td>\n",
       "      <td>0.0</td>\n",
       "    </tr>\n",
       "    <tr>\n",
       "      <th>2019-09-25 00:00:00+00:00</th>\n",
       "      <td>167.771599</td>\n",
       "      <td>170.892695</td>\n",
       "      <td>174.375719</td>\n",
       "      <td>164.972395</td>\n",
       "      <td>9.766632e+09</td>\n",
       "      <td>1.843819e+10</td>\n",
       "      <td>0.016548</td>\n",
       "      <td>191.334497</td>\n",
       "      <td>208.396635</td>\n",
       "      <td>0.0</td>\n",
       "      <td>0.0</td>\n",
       "    </tr>\n",
       "    <tr>\n",
       "      <th>2019-09-26 00:00:00+00:00</th>\n",
       "      <td>170.799770</td>\n",
       "      <td>166.727124</td>\n",
       "      <td>171.692644</td>\n",
       "      <td>157.130331</td>\n",
       "      <td>7.848286e+09</td>\n",
       "      <td>1.799100e+10</td>\n",
       "      <td>-0.024375</td>\n",
       "      <td>190.141219</td>\n",
       "      <td>208.546477</td>\n",
       "      <td>0.0</td>\n",
       "      <td>0.0</td>\n",
       "    </tr>\n",
       "    <tr>\n",
       "      <th>2019-09-27 00:00:00+00:00</th>\n",
       "      <td>166.628710</td>\n",
       "      <td>174.710993</td>\n",
       "      <td>175.235886</td>\n",
       "      <td>163.209499</td>\n",
       "      <td>7.909314e+09</td>\n",
       "      <td>1.885486e+10</td>\n",
       "      <td>0.047886</td>\n",
       "      <td>189.216602</td>\n",
       "      <td>208.750791</td>\n",
       "      <td>0.0</td>\n",
       "      <td>0.0</td>\n",
       "    </tr>\n",
       "    <tr>\n",
       "      <th>2019-09-28 00:00:00+00:00</th>\n",
       "      <td>174.734716</td>\n",
       "      <td>174.572892</td>\n",
       "      <td>175.778730</td>\n",
       "      <td>170.858550</td>\n",
       "      <td>6.895423e+09</td>\n",
       "      <td>1.884231e+10</td>\n",
       "      <td>-0.000790</td>\n",
       "      <td>188.497456</td>\n",
       "      <td>208.951441</td>\n",
       "      <td>0.0</td>\n",
       "      <td>0.0</td>\n",
       "    </tr>\n",
       "    <tr>\n",
       "      <th>2019-09-29 00:00:00+00:00</th>\n",
       "      <td>174.878457</td>\n",
       "      <td>170.461353</td>\n",
       "      <td>175.134153</td>\n",
       "      <td>166.997689</td>\n",
       "      <td>6.494580e+09</td>\n",
       "      <td>1.840085e+10</td>\n",
       "      <td>-0.023552</td>\n",
       "      <td>187.772013</td>\n",
       "      <td>209.137433</td>\n",
       "      <td>0.0</td>\n",
       "      <td>0.0</td>\n",
       "    </tr>\n",
       "    <tr>\n",
       "      <th>2019-09-30 00:00:00+00:00</th>\n",
       "      <td>170.738306</td>\n",
       "      <td>179.872201</td>\n",
       "      <td>179.872201</td>\n",
       "      <td>167.099584</td>\n",
       "      <td>7.552915e+09</td>\n",
       "      <td>1.941915e+10</td>\n",
       "      <td>0.055208</td>\n",
       "      <td>187.047599</td>\n",
       "      <td>209.368236</td>\n",
       "      <td>0.0</td>\n",
       "      <td>0.0</td>\n",
       "    </tr>\n",
       "    <tr>\n",
       "      <th>2019-10-01 00:00:00+00:00</th>\n",
       "      <td>180.960610</td>\n",
       "      <td>177.340420</td>\n",
       "      <td>185.010941</td>\n",
       "      <td>175.947803</td>\n",
       "      <td>7.676276e+09</td>\n",
       "      <td>1.914822e+10</td>\n",
       "      <td>-0.014075</td>\n",
       "      <td>186.368646</td>\n",
       "      <td>209.566479</td>\n",
       "      <td>0.0</td>\n",
       "      <td>0.0</td>\n",
       "    </tr>\n",
       "  </tbody>\n",
       "</table>\n",
       "</div>"
      ],
      "text/plain": [
       "                                 open       close        high         low  \\\n",
       "datetime                                                                    \n",
       "2019-09-22 00:00:00+00:00  215.484225  211.713204  215.729612  207.644927   \n",
       "2019-09-23 00:00:00+00:00  211.689371  201.921313  211.689371  201.921313   \n",
       "2019-09-24 00:00:00+00:00  201.859383  168.110736  203.441421  162.727788   \n",
       "2019-09-25 00:00:00+00:00  167.771599  170.892695  174.375719  164.972395   \n",
       "2019-09-26 00:00:00+00:00  170.799770  166.727124  171.692644  157.130331   \n",
       "2019-09-27 00:00:00+00:00  166.628710  174.710993  175.235886  163.209499   \n",
       "2019-09-28 00:00:00+00:00  174.734716  174.572892  175.778730  170.858550   \n",
       "2019-09-29 00:00:00+00:00  174.878457  170.461353  175.134153  166.997689   \n",
       "2019-09-30 00:00:00+00:00  170.738306  179.872201  179.872201  167.099584   \n",
       "2019-10-01 00:00:00+00:00  180.960610  177.340420  185.010941  175.947803   \n",
       "\n",
       "                                 volume     marketcap  actual_returns  \\\n",
       "datetime                                                                \n",
       "2019-09-22 00:00:00+00:00  7.816170e+09  2.283386e+10       -0.017646   \n",
       "2019-09-23 00:00:00+00:00  7.494673e+09  2.178053e+10       -0.046251   \n",
       "2019-09-24 00:00:00+00:00  1.175774e+10  1.813575e+10       -0.167444   \n",
       "2019-09-25 00:00:00+00:00  9.766632e+09  1.843819e+10        0.016548   \n",
       "2019-09-26 00:00:00+00:00  7.848286e+09  1.799100e+10       -0.024375   \n",
       "2019-09-27 00:00:00+00:00  7.909314e+09  1.885486e+10        0.047886   \n",
       "2019-09-28 00:00:00+00:00  6.895423e+09  1.884231e+10       -0.000790   \n",
       "2019-09-29 00:00:00+00:00  6.494580e+09  1.840085e+10       -0.023552   \n",
       "2019-09-30 00:00:00+00:00  7.552915e+09  1.941915e+10        0.055208   \n",
       "2019-10-01 00:00:00+00:00  7.676276e+09  1.914822e+10       -0.014075   \n",
       "\n",
       "                             sma_fast    sma_slow  Signal  Entry/Exit  \n",
       "datetime                                                               \n",
       "2019-09-22 00:00:00+00:00  194.174721  207.747646     0.0         0.0  \n",
       "2019-09-23 00:00:00+00:00  193.759753  208.067080     0.0         0.0  \n",
       "2019-09-24 00:00:00+00:00  192.437056  208.231998     0.0         0.0  \n",
       "2019-09-25 00:00:00+00:00  191.334497  208.396635     0.0         0.0  \n",
       "2019-09-26 00:00:00+00:00  190.141219  208.546477     0.0         0.0  \n",
       "2019-09-27 00:00:00+00:00  189.216602  208.750791     0.0         0.0  \n",
       "2019-09-28 00:00:00+00:00  188.497456  208.951441     0.0         0.0  \n",
       "2019-09-29 00:00:00+00:00  187.772013  209.137433     0.0         0.0  \n",
       "2019-09-30 00:00:00+00:00  187.047599  209.368236     0.0         0.0  \n",
       "2019-10-01 00:00:00+00:00  186.368646  209.566479     0.0         0.0  "
      ]
     },
     "execution_count": 7,
     "metadata": {},
     "output_type": "execute_result"
    }
   ],
   "source": [
    "# Set the Signal column\n",
    "signals_df[\"Signal\"] = 0.0\n",
    "\n",
    "# Generate the trading signal 1 or 0,\n",
    "# where 1 is when the Short window is greater than (or crosses over) the Long Window\n",
    "# where 0 is when the Short window is under the Long window\n",
    "signals_df[\"Signal\"][short_window:] = np.where(\n",
    "    signals_df[\"sma_fast\"][short_window:] > signals_df[\"sma_slow\"][short_window:], 1.0, 0.0\n",
    ")\n",
    "\n",
    "# Calculate the points in time at which a position should be taken, 1 or -1\n",
    "signals_df[\"Entry/Exit\"] = signals_df[\"Signal\"].diff()\n",
    "\n",
    "# Review the DataFrame\n",
    "signals_df.iloc[95:105, :]"
   ]
  },
  {
   "cell_type": "code",
   "execution_count": 8,
   "metadata": {},
   "outputs": [
    {
     "data": {},
     "metadata": {},
     "output_type": "display_data"
    },
    {
     "data": {
      "application/vnd.holoviews_exec.v0+json": "",
      "text/html": [
       "<div id='1002'>\n",
       "\n",
       "\n",
       "\n",
       "\n",
       "\n",
       "  <div class=\"bk-root\" id=\"c10971f9-91cf-4a2e-afaf-4586054e765a\" data-root-id=\"1002\"></div>\n",
       "</div>\n",
       "<script type=\"application/javascript\">(function(root) {\n",
       "  function embed_document(root) {\n",
       "    var docs_json = {\"0aebb306-20c0-4c66-ad37-ff40a8ba2375\":{\"defs\":[{\"extends\":null,\"module\":null,\"name\":\"ReactiveHTML1\",\"overrides\":[],\"properties\":[]},{\"extends\":null,\"module\":null,\"name\":\"FlexBox1\",\"overrides\":[],\"properties\":[{\"default\":\"flex-start\",\"kind\":null,\"name\":\"align_content\"},{\"default\":\"flex-start\",\"kind\":null,\"name\":\"align_items\"},{\"default\":\"row\",\"kind\":null,\"name\":\"flex_direction\"},{\"default\":\"wrap\",\"kind\":null,\"name\":\"flex_wrap\"},{\"default\":\"flex-start\",\"kind\":null,\"name\":\"justify_content\"}]},{\"extends\":null,\"module\":null,\"name\":\"TemplateActions1\",\"overrides\":[],\"properties\":[{\"default\":0,\"kind\":null,\"name\":\"open_modal\"},{\"default\":0,\"kind\":null,\"name\":\"close_modal\"}]},{\"extends\":null,\"module\":null,\"name\":\"MaterialTemplateActions1\",\"overrides\":[],\"properties\":[{\"default\":0,\"kind\":null,\"name\":\"open_modal\"},{\"default\":0,\"kind\":null,\"name\":\"close_modal\"}]}],\"roots\":{\"references\":[{\"attributes\":{\"fill_alpha\":{\"value\":0.1},\"fill_color\":{\"value\":\"purple\"},\"hatch_alpha\":{\"value\":0.1},\"hatch_color\":{\"value\":\"purple\"},\"line_alpha\":{\"value\":0.1},\"line_color\":{\"value\":\"purple\"},\"marker\":{\"value\":\"triangle\"},\"size\":{\"value\":14.142135623730951},\"x\":{\"field\":\"datetime\"},\"y\":{\"field\":\"close\"}},\"id\":\"1314\",\"type\":\"Scatter\"},{\"attributes\":{},\"id\":\"1093\",\"type\":\"Selection\"},{\"attributes\":{\"coordinates\":null,\"group\":null,\"text_color\":\"black\",\"text_font_size\":\"12pt\"},\"id\":\"1012\",\"type\":\"Title\"},{\"attributes\":{\"line_alpha\":0.1,\"line_color\":\"#e5ae38\",\"line_width\":2,\"x\":{\"field\":\"datetime\"},\"y\":{\"field\":\"value\"}},\"id\":\"1096\",\"type\":\"Line\"},{\"attributes\":{\"line_color\":\"lightgray\",\"line_width\":2,\"x\":{\"field\":\"datetime\"},\"y\":{\"field\":\"close\"}},\"id\":\"1056\",\"type\":\"Line\"},{\"attributes\":{\"line_color\":\"#e5ae38\",\"line_width\":2,\"x\":{\"field\":\"datetime\"},\"y\":{\"field\":\"value\"}},\"id\":\"1095\",\"type\":\"Line\"},{\"attributes\":{\"angle\":{\"value\":3.141592653589793},\"fill_alpha\":{\"value\":0.1},\"fill_color\":{\"value\":\"orange\"},\"hatch_alpha\":{\"value\":0.1},\"hatch_color\":{\"value\":\"orange\"},\"line_alpha\":{\"value\":0.1},\"line_color\":{\"value\":\"orange\"},\"marker\":{\"value\":\"triangle\"},\"size\":{\"value\":14.142135623730951},\"x\":{\"field\":\"datetime\"},\"y\":{\"field\":\"close\"}},\"id\":\"1323\",\"type\":\"Scatter\"},{\"attributes\":{\"angle\":{\"value\":0},\"fill_alpha\":{\"value\":1.0},\"fill_color\":{\"value\":\"purple\"},\"hatch_alpha\":{\"value\":1.0},\"hatch_color\":{\"value\":\"purple\"},\"hatch_scale\":{\"value\":12.0},\"hatch_weight\":{\"value\":1.0},\"line_alpha\":{\"value\":1.0},\"line_cap\":{\"value\":\"butt\"},\"line_color\":{\"value\":\"purple\"},\"line_dash\":{\"value\":[]},\"line_dash_offset\":{\"value\":0},\"line_join\":{\"value\":\"bevel\"},\"line_width\":{\"value\":1},\"marker\":{\"value\":\"triangle\"},\"size\":{\"value\":14.142135623730951},\"x\":{\"field\":\"datetime\"},\"y\":{\"field\":\"close\"}},\"id\":\"1318\",\"type\":\"Scatter\"},{\"attributes\":{},\"id\":\"1016\",\"type\":\"LinearScale\"},{\"attributes\":{\"coordinates\":null,\"data_source\":{\"id\":\"1319\"},\"glyph\":{\"id\":\"1322\"},\"group\":null,\"hover_glyph\":null,\"muted_glyph\":{\"id\":\"1324\"},\"nonselection_glyph\":{\"id\":\"1323\"},\"selection_glyph\":{\"id\":\"1327\"},\"view\":{\"id\":\"1326\"}},\"id\":\"1325\",\"type\":\"GlyphRenderer\"},{\"attributes\":{\"line_alpha\":0.2,\"line_color\":\"#e5ae38\",\"line_width\":2,\"x\":{\"field\":\"datetime\"},\"y\":{\"field\":\"value\"}},\"id\":\"1097\",\"type\":\"Line\"},{\"attributes\":{},\"id\":\"1018\",\"type\":\"LinearScale\"},{\"attributes\":{\"label\":{\"value\":\"sma_slow\"},\"renderers\":[{\"id\":\"1098\"}]},\"id\":\"1126\",\"type\":\"LegendItem\"},{\"attributes\":{\"source\":{\"id\":\"1092\"}},\"id\":\"1099\",\"type\":\"CDSView\"},{\"attributes\":{\"coordinates\":null,\"data_source\":{\"id\":\"1310\"},\"glyph\":{\"id\":\"1313\"},\"group\":null,\"hover_glyph\":null,\"muted_glyph\":{\"id\":\"1315\"},\"nonselection_glyph\":{\"id\":\"1314\"},\"selection_glyph\":{\"id\":\"1318\"},\"view\":{\"id\":\"1317\"}},\"id\":\"1316\",\"type\":\"GlyphRenderer\"},{\"attributes\":{\"source\":{\"id\":\"1319\"}},\"id\":\"1326\",\"type\":\"CDSView\"},{\"attributes\":{\"num_minor_ticks\":5,\"tickers\":[{\"id\":\"1077\"},{\"id\":\"1078\"},{\"id\":\"1079\"},{\"id\":\"1080\"},{\"id\":\"1081\"},{\"id\":\"1082\"},{\"id\":\"1083\"},{\"id\":\"1084\"},{\"id\":\"1085\"},{\"id\":\"1086\"},{\"id\":\"1087\"},{\"id\":\"1088\"}]},\"id\":\"1021\",\"type\":\"DatetimeTicker\"},{\"attributes\":{},\"id\":\"1111\",\"type\":\"UnionRenderers\"},{\"attributes\":{},\"id\":\"1044\",\"type\":\"AllLabels\"},{\"attributes\":{\"axis_label\":\"datetime\",\"coordinates\":null,\"formatter\":{\"id\":\"1043\"},\"group\":null,\"major_label_policy\":{\"id\":\"1044\"},\"ticker\":{\"id\":\"1021\"}},\"id\":\"1020\",\"type\":\"DatetimeAxis\"},{\"attributes\":{\"line_color\":\"#e5ae38\",\"line_width\":2,\"x\":{\"field\":\"datetime\"},\"y\":{\"field\":\"value\"}},\"id\":\"1127\",\"type\":\"Line\"},{\"attributes\":{\"axis\":{\"id\":\"1020\"},\"coordinates\":null,\"grid_line_color\":null,\"group\":null,\"ticker\":null},\"id\":\"1023\",\"type\":\"Grid\"},{\"attributes\":{\"axis_label\":\"Price in $\",\"coordinates\":null,\"formatter\":{\"id\":\"1046\"},\"group\":null,\"major_label_policy\":{\"id\":\"1047\"},\"ticker\":{\"id\":\"1025\"}},\"id\":\"1024\",\"type\":\"LinearAxis\"},{\"attributes\":{\"axis\":{\"id\":\"1024\"},\"coordinates\":null,\"dimension\":1,\"grid_line_color\":null,\"group\":null,\"ticker\":null},\"id\":\"1027\",\"type\":\"Grid\"},{\"attributes\":{\"source\":{\"id\":\"1310\"}},\"id\":\"1317\",\"type\":\"CDSView\"},{\"attributes\":{\"fill_alpha\":{\"value\":0.2},\"fill_color\":{\"value\":\"purple\"},\"hatch_alpha\":{\"value\":0.2},\"hatch_color\":{\"value\":\"purple\"},\"line_alpha\":{\"value\":0.2},\"line_color\":{\"value\":\"purple\"},\"marker\":{\"value\":\"triangle\"},\"size\":{\"value\":14.142135623730951},\"x\":{\"field\":\"datetime\"},\"y\":{\"field\":\"close\"}},\"id\":\"1315\",\"type\":\"Scatter\"},{\"attributes\":{\"angle\":{\"value\":3.141592653589793},\"fill_alpha\":{\"value\":0.2},\"fill_color\":{\"value\":\"orange\"},\"hatch_alpha\":{\"value\":0.2},\"hatch_color\":{\"value\":\"orange\"},\"line_alpha\":{\"value\":0.2},\"line_color\":{\"value\":\"orange\"},\"marker\":{\"value\":\"triangle\"},\"size\":{\"value\":14.142135623730951},\"x\":{\"field\":\"datetime\"},\"y\":{\"field\":\"close\"}},\"id\":\"1324\",\"type\":\"Scatter\"},{\"attributes\":{},\"id\":\"1030\",\"type\":\"WheelZoomTool\"},{\"attributes\":{\"data\":{\"close\":{\"__ndarray__\":\"8Wjys/LGZUBfGH6q6cZjQGQyXY1OZKRA\",\"dtype\":\"float64\",\"order\":\"little\",\"shape\":[3]},\"datetime\":{\"__ndarray__\":\"AAAAiOvPdkIAAECTaBZ3QgAAwI9CsHdC\",\"dtype\":\"float64\",\"order\":\"little\",\"shape\":[3]}},\"selected\":{\"id\":\"1320\"},\"selection_policy\":{\"id\":\"1343\"}},\"id\":\"1319\",\"type\":\"ColumnDataSource\"},{\"attributes\":{},\"id\":\"1029\",\"type\":\"PanTool\"},{\"attributes\":{\"coordinates\":null,\"data_source\":{\"id\":\"1057\"},\"glyph\":{\"id\":\"1060\"},\"group\":null,\"hover_glyph\":null,\"muted_glyph\":{\"id\":\"1062\"},\"nonselection_glyph\":{\"id\":\"1061\"},\"selection_glyph\":{\"id\":\"1091\"},\"view\":{\"id\":\"1064\"}},\"id\":\"1063\",\"type\":\"GlyphRenderer\"},{\"attributes\":{},\"id\":\"1025\",\"type\":\"BasicTicker\"},{\"attributes\":{},\"id\":\"1320\",\"type\":\"Selection\"},{\"attributes\":{},\"id\":\"1028\",\"type\":\"SaveTool\"},{\"attributes\":{\"mantissas\":[1,2,5],\"max_interval\":500.0,\"num_minor_ticks\":0},\"id\":\"1077\",\"type\":\"AdaptiveTicker\"},{\"attributes\":{\"overlay\":{\"id\":\"1033\"}},\"id\":\"1031\",\"type\":\"BoxZoomTool\"},{\"attributes\":{\"base\":60,\"mantissas\":[1,2,5,10,15,20,30],\"max_interval\":1800000.0,\"min_interval\":1000.0,\"num_minor_ticks\":0},\"id\":\"1078\",\"type\":\"AdaptiveTicker\"},{\"attributes\":{},\"id\":\"1032\",\"type\":\"ResetTool\"},{\"attributes\":{},\"id\":\"1074\",\"type\":\"UnionRenderers\"},{\"attributes\":{\"days\":[1,2,3,4,5,6,7,8,9,10,11,12,13,14,15,16,17,18,19,20,21,22,23,24,25,26,27,28,29,30,31]},\"id\":\"1080\",\"type\":\"DaysTicker\"},{\"attributes\":{\"data\":{\"Variable\":[\"sma_slow\",\"sma_slow\",\"sma_slow\",\"sma_slow\",\"sma_slow\",\"sma_slow\",\"sma_slow\",\"sma_slow\",\"sma_slow\",\"sma_slow\",\"sma_slow\",\"sma_slow\",\"sma_slow\",\"sma_slow\",\"sma_slow\",\"sma_slow\",\"sma_slow\",\"sma_slow\",\"sma_slow\",\"sma_slow\",\"sma_slow\",\"sma_slow\",\"sma_slow\",\"sma_slow\",\"sma_slow\",\"sma_slow\",\"sma_slow\",\"sma_slow\",\"sma_slow\",\"sma_slow\",\"sma_slow\",\"sma_slow\",\"sma_slow\",\"sma_slow\",\"sma_slow\",\"sma_slow\",\"sma_slow\",\"sma_slow\",\"sma_slow\",\"sma_slow\",\"sma_slow\",\"sma_slow\",\"sma_slow\",\"sma_slow\",\"sma_slow\",\"sma_slow\",\"sma_slow\",\"sma_slow\",\"sma_slow\",\"sma_slow\",\"sma_slow\",\"sma_slow\",\"sma_slow\",\"sma_slow\",\"sma_slow\",\"sma_slow\",\"sma_slow\",\"sma_slow\",\"sma_slow\",\"sma_slow\",\"sma_slow\",\"sma_slow\",\"sma_slow\",\"sma_slow\",\"sma_slow\",\"sma_slow\",\"sma_slow\",\"sma_slow\",\"sma_slow\",\"sma_slow\",\"sma_slow\",\"sma_slow\",\"sma_slow\",\"sma_slow\",\"sma_slow\",\"sma_slow\",\"sma_slow\",\"sma_slow\",\"sma_slow\",\"sma_slow\",\"sma_slow\",\"sma_slow\",\"sma_slow\",\"sma_slow\",\"sma_slow\",\"sma_slow\",\"sma_slow\",\"sma_slow\",\"sma_slow\",\"sma_slow\",\"sma_slow\",\"sma_slow\",\"sma_slow\",\"sma_slow\",\"sma_slow\",\"sma_slow\",\"sma_slow\",\"sma_slow\",\"sma_slow\",\"sma_slow\",\"sma_slow\",\"sma_slow\",\"sma_slow\",\"sma_slow\",\"sma_slow\",\"sma_slow\",\"sma_slow\",\"sma_slow\",\"sma_slow\",\"sma_slow\",\"sma_slow\",\"sma_slow\",\"sma_slow\",\"sma_slow\",\"sma_slow\",\"sma_slow\",\"sma_slow\",\"sma_slow\",\"sma_slow\",\"sma_slow\",\"sma_slow\",\"sma_slow\",\"sma_slow\",\"sma_slow\",\"sma_slow\",\"sma_slow\",\"sma_slow\",\"sma_slow\",\"sma_slow\",\"sma_slow\",\"sma_slow\",\"sma_slow\",\"sma_slow\",\"sma_slow\",\"sma_slow\",\"sma_slow\",\"sma_slow\",\"sma_slow\",\"sma_slow\",\"sma_slow\",\"sma_slow\",\"sma_slow\",\"sma_slow\",\"sma_slow\",\"sma_slow\",\"sma_slow\",\"sma_slow\",\"sma_slow\",\"sma_slow\",\"sma_slow\",\"sma_slow\",\"sma_slow\",\"sma_slow\",\"sma_slow\",\"sma_slow\",\"sma_slow\",\"sma_slow\",\"sma_slow\",\"sma_slow\",\"sma_slow\",\"sma_slow\",\"sma_slow\",\"sma_slow\",\"sma_slow\",\"sma_slow\",\"sma_slow\",\"sma_slow\",\"sma_slow\",\"sma_slow\",\"sma_slow\",\"sma_slow\",\"sma_slow\",\"sma_slow\",\"sma_slow\",\"sma_slow\",\"sma_slow\",\"sma_slow\",\"sma_slow\",\"sma_slow\",\"sma_slow\",\"sma_slow\",\"sma_slow\",\"sma_slow\",\"sma_slow\",\"sma_slow\",\"sma_slow\",\"sma_slow\",\"sma_slow\",\"sma_slow\",\"sma_slow\",\"sma_slow\",\"sma_slow\",\"sma_slow\",\"sma_slow\",\"sma_slow\",\"sma_slow\",\"sma_slow\",\"sma_slow\",\"sma_slow\",\"sma_slow\",\"sma_slow\",\"sma_slow\",\"sma_slow\",\"sma_slow\",\"sma_slow\",\"sma_slow\",\"sma_slow\",\"sma_slow\",\"sma_slow\",\"sma_slow\",\"sma_slow\",\"sma_slow\",\"sma_slow\",\"sma_slow\",\"sma_slow\",\"sma_slow\",\"sma_slow\",\"sma_slow\",\"sma_slow\",\"sma_slow\",\"sma_slow\",\"sma_slow\",\"sma_slow\",\"sma_slow\",\"sma_slow\",\"sma_slow\",\"sma_slow\",\"sma_slow\",\"sma_slow\",\"sma_slow\",\"sma_slow\",\"sma_slow\",\"sma_slow\",\"sma_slow\",\"sma_slow\",\"sma_slow\",\"sma_slow\",\"sma_slow\",\"sma_slow\",\"sma_slow\",\"sma_slow\",\"sma_slow\",\"sma_slow\",\"sma_slow\",\"sma_slow\",\"sma_slow\",\"sma_slow\",\"sma_slow\",\"sma_slow\",\"sma_slow\",\"sma_slow\",\"sma_slow\",\"sma_slow\",\"sma_slow\",\"sma_slow\",\"sma_slow\",\"sma_slow\",\"sma_slow\",\"sma_slow\",\"sma_slow\",\"sma_slow\",\"sma_slow\",\"sma_slow\",\"sma_slow\",\"sma_slow\",\"sma_slow\",\"sma_slow\",\"sma_slow\",\"sma_slow\",\"sma_slow\",\"sma_slow\",\"sma_slow\",\"sma_slow\",\"sma_slow\",\"sma_slow\",\"sma_slow\",\"sma_slow\",\"sma_slow\",\"sma_slow\",\"sma_slow\",\"sma_slow\",\"sma_slow\",\"sma_slow\",\"sma_slow\",\"sma_slow\",\"sma_slow\",\"sma_slow\",\"sma_slow\",\"sma_slow\",\"sma_slow\",\"sma_slow\",\"sma_slow\",\"sma_slow\",\"sma_slow\",\"sma_slow\",\"sma_slow\",\"sma_slow\",\"sma_slow\",\"sma_slow\",\"sma_slow\",\"sma_slow\",\"sma_slow\",\"sma_slow\",\"sma_slow\",\"sma_slow\",\"sma_slow\",\"sma_slow\",\"sma_slow\",\"sma_slow\",\"sma_slow\",\"sma_slow\",\"sma_slow\",\"sma_slow\",\"sma_slow\",\"sma_slow\",\"sma_slow\",\"sma_slow\",\"sma_slow\",\"sma_slow\",\"sma_slow\",\"sma_slow\",\"sma_slow\",\"sma_slow\",\"sma_slow\",\"sma_slow\",\"sma_slow\",\"sma_slow\",\"sma_slow\",\"sma_slow\",\"sma_slow\",\"sma_slow\",\"sma_slow\",\"sma_slow\",\"sma_slow\",\"sma_slow\",\"sma_slow\",\"sma_slow\",\"sma_slow\",\"sma_slow\",\"sma_slow\",\"sma_slow\",\"sma_slow\",\"sma_slow\",\"sma_slow\",\"sma_slow\",\"sma_slow\",\"sma_slow\",\"sma_slow\",\"sma_slow\",\"sma_slow\",\"sma_slow\",\"sma_slow\",\"sma_slow\",\"sma_slow\",\"sma_slow\",\"sma_slow\",\"sma_slow\",\"sma_slow\",\"sma_slow\",\"sma_slow\",\"sma_slow\",\"sma_slow\",\"sma_slow\",\"sma_slow\",\"sma_slow\",\"sma_slow\",\"sma_slow\",\"sma_slow\",\"sma_slow\",\"sma_slow\",\"sma_slow\",\"sma_slow\",\"sma_slow\",\"sma_slow\",\"sma_slow\",\"sma_slow\",\"sma_slow\",\"sma_slow\",\"sma_slow\",\"sma_slow\",\"sma_slow\",\"sma_slow\",\"sma_slow\",\"sma_slow\",\"sma_slow\",\"sma_slow\",\"sma_slow\",\"sma_slow\",\"sma_slow\",\"sma_slow\",\"sma_slow\",\"sma_slow\",\"sma_slow\",\"sma_slow\",\"sma_slow\",\"sma_slow\",\"sma_slow\",\"sma_slow\",\"sma_slow\",\"sma_slow\",\"sma_slow\",\"sma_slow\",\"sma_slow\",\"sma_slow\",\"sma_slow\",\"sma_slow\",\"sma_slow\",\"sma_slow\",\"sma_slow\",\"sma_slow\",\"sma_slow\",\"sma_slow\",\"sma_slow\",\"sma_slow\",\"sma_slow\",\"sma_slow\",\"sma_slow\",\"sma_slow\",\"sma_slow\",\"sma_slow\",\"sma_slow\",\"sma_slow\",\"sma_slow\",\"sma_slow\",\"sma_slow\",\"sma_slow\",\"sma_slow\",\"sma_slow\",\"sma_slow\",\"sma_slow\",\"sma_slow\",\"sma_slow\",\"sma_slow\",\"sma_slow\",\"sma_slow\",\"sma_slow\",\"sma_slow\",\"sma_slow\",\"sma_slow\",\"sma_slow\",\"sma_slow\",\"sma_slow\",\"sma_slow\",\"sma_slow\",\"sma_slow\",\"sma_slow\",\"sma_slow\",\"sma_slow\",\"sma_slow\",\"sma_slow\",\"sma_slow\",\"sma_slow\",\"sma_slow\",\"sma_slow\",\"sma_slow\",\"sma_slow\",\"sma_slow\",\"sma_slow\",\"sma_slow\",\"sma_slow\",\"sma_slow\",\"sma_slow\",\"sma_slow\",\"sma_slow\",\"sma_slow\",\"sma_slow\",\"sma_slow\",\"sma_slow\",\"sma_slow\",\"sma_slow\",\"sma_slow\",\"sma_slow\",\"sma_slow\",\"sma_slow\",\"sma_slow\",\"sma_slow\",\"sma_slow\",\"sma_slow\",\"sma_slow\",\"sma_slow\",\"sma_slow\",\"sma_slow\",\"sma_slow\",\"sma_slow\",\"sma_slow\",\"sma_slow\",\"sma_slow\",\"sma_slow\",\"sma_slow\",\"sma_slow\",\"sma_slow\",\"sma_slow\",\"sma_slow\",\"sma_slow\",\"sma_slow\",\"sma_slow\",\"sma_slow\",\"sma_slow\",\"sma_slow\",\"sma_slow\",\"sma_slow\",\"sma_slow\",\"sma_slow\",\"sma_slow\",\"sma_slow\",\"sma_slow\",\"sma_slow\",\"sma_slow\",\"sma_slow\",\"sma_slow\",\"sma_slow\",\"sma_slow\",\"sma_slow\",\"sma_slow\",\"sma_slow\",\"sma_slow\",\"sma_slow\",\"sma_slow\",\"sma_slow\",\"sma_slow\",\"sma_slow\",\"sma_slow\",\"sma_slow\",\"sma_slow\",\"sma_slow\",\"sma_slow\",\"sma_slow\",\"sma_slow\",\"sma_slow\",\"sma_slow\",\"sma_slow\",\"sma_slow\",\"sma_slow\",\"sma_slow\",\"sma_slow\",\"sma_slow\",\"sma_slow\",\"sma_slow\",\"sma_slow\",\"sma_slow\",\"sma_slow\",\"sma_slow\",\"sma_slow\",\"sma_slow\",\"sma_slow\",\"sma_slow\",\"sma_slow\",\"sma_slow\",\"sma_slow\",\"sma_slow\",\"sma_slow\",\"sma_slow\",\"sma_slow\",\"sma_slow\",\"sma_slow\",\"sma_slow\",\"sma_slow\",\"sma_slow\",\"sma_slow\",\"sma_slow\",\"sma_slow\",\"sma_slow\",\"sma_slow\",\"sma_slow\",\"sma_slow\",\"sma_slow\",\"sma_slow\",\"sma_slow\",\"sma_slow\",\"sma_slow\",\"sma_slow\",\"sma_slow\",\"sma_slow\",\"sma_slow\",\"sma_slow\",\"sma_slow\",\"sma_slow\",\"sma_slow\",\"sma_slow\",\"sma_slow\",\"sma_slow\",\"sma_slow\",\"sma_slow\",\"sma_slow\",\"sma_slow\",\"sma_slow\",\"sma_slow\",\"sma_slow\",\"sma_slow\",\"sma_slow\",\"sma_slow\",\"sma_slow\",\"sma_slow\",\"sma_slow\",\"sma_slow\",\"sma_slow\",\"sma_slow\",\"sma_slow\",\"sma_slow\",\"sma_slow\",\"sma_slow\",\"sma_slow\",\"sma_slow\",\"sma_slow\",\"sma_slow\",\"sma_slow\",\"sma_slow\",\"sma_slow\",\"sma_slow\",\"sma_slow\",\"sma_slow\",\"sma_slow\",\"sma_slow\",\"sma_slow\",\"sma_slow\",\"sma_slow\",\"sma_slow\",\"sma_slow\",\"sma_slow\",\"sma_slow\",\"sma_slow\",\"sma_slow\",\"sma_slow\",\"sma_slow\",\"sma_slow\",\"sma_slow\",\"sma_slow\",\"sma_slow\",\"sma_slow\",\"sma_slow\",\"sma_slow\",\"sma_slow\",\"sma_slow\",\"sma_slow\",\"sma_slow\",\"sma_slow\",\"sma_slow\",\"sma_slow\",\"sma_slow\",\"sma_slow\",\"sma_slow\",\"sma_slow\",\"sma_slow\",\"sma_slow\",\"sma_slow\",\"sma_slow\",\"sma_slow\",\"sma_slow\",\"sma_slow\",\"sma_slow\",\"sma_slow\",\"sma_slow\",\"sma_slow\",\"sma_slow\",\"sma_slow\",\"sma_slow\",\"sma_slow\",\"sma_slow\",\"sma_slow\",\"sma_slow\",\"sma_slow\",\"sma_slow\",\"sma_slow\",\"sma_slow\",\"sma_slow\",\"sma_slow\",\"sma_slow\",\"sma_slow\",\"sma_slow\",\"sma_slow\",\"sma_slow\",\"sma_slow\",\"sma_slow\",\"sma_slow\",\"sma_slow\",\"sma_slow\",\"sma_slow\",\"sma_slow\",\"sma_slow\",\"sma_slow\",\"sma_slow\",\"sma_slow\",\"sma_slow\",\"sma_slow\",\"sma_slow\",\"sma_slow\",\"sma_slow\",\"sma_slow\",\"sma_slow\",\"sma_slow\",\"sma_slow\",\"sma_slow\",\"sma_slow\",\"sma_slow\",\"sma_slow\",\"sma_slow\",\"sma_slow\",\"sma_slow\",\"sma_slow\",\"sma_slow\",\"sma_slow\",\"sma_slow\",\"sma_slow\",\"sma_slow\",\"sma_slow\",\"sma_slow\",\"sma_slow\",\"sma_slow\",\"sma_slow\",\"sma_slow\",\"sma_slow\",\"sma_slow\",\"sma_slow\",\"sma_slow\",\"sma_slow\",\"sma_slow\",\"sma_slow\",\"sma_slow\",\"sma_slow\",\"sma_slow\",\"sma_slow\",\"sma_slow\",\"sma_slow\",\"sma_slow\",\"sma_slow\",\"sma_slow\",\"sma_slow\",\"sma_slow\",\"sma_slow\",\"sma_slow\",\"sma_slow\",\"sma_slow\",\"sma_slow\",\"sma_slow\",\"sma_slow\",\"sma_slow\",\"sma_slow\",\"sma_slow\",\"sma_slow\",\"sma_slow\",\"sma_slow\",\"sma_slow\",\"sma_slow\",\"sma_slow\",\"sma_slow\",\"sma_slow\",\"sma_slow\",\"sma_slow\",\"sma_slow\",\"sma_slow\",\"sma_slow\",\"sma_slow\",\"sma_slow\",\"sma_slow\",\"sma_slow\",\"sma_slow\",\"sma_slow\",\"sma_slow\",\"sma_slow\",\"sma_slow\",\"sma_slow\",\"sma_slow\",\"sma_slow\",\"sma_slow\",\"sma_slow\",\"sma_slow\",\"sma_slow\",\"sma_slow\",\"sma_slow\",\"sma_slow\",\"sma_slow\",\"sma_slow\",\"sma_slow\",\"sma_slow\",\"sma_slow\",\"sma_slow\",\"sma_slow\",\"sma_slow\",\"sma_slow\",\"sma_slow\",\"sma_slow\",\"sma_slow\",\"sma_slow\",\"sma_slow\",\"sma_slow\",\"sma_slow\",\"sma_slow\",\"sma_slow\",\"sma_slow\",\"sma_slow\",\"sma_slow\",\"sma_slow\",\"sma_slow\",\"sma_slow\",\"sma_slow\",\"sma_slow\",\"sma_slow\",\"sma_slow\",\"sma_slow\",\"sma_slow\",\"sma_slow\",\"sma_slow\",\"sma_slow\",\"sma_slow\",\"sma_slow\",\"sma_slow\",\"sma_slow\",\"sma_slow\",\"sma_slow\",\"sma_slow\",\"sma_slow\",\"sma_slow\",\"sma_slow\",\"sma_slow\",\"sma_slow\",\"sma_slow\",\"sma_slow\",\"sma_slow\",\"sma_slow\",\"sma_slow\",\"sma_slow\",\"sma_slow\",\"sma_slow\",\"sma_slow\",\"sma_slow\",\"sma_slow\",\"sma_slow\",\"sma_slow\",\"sma_slow\",\"sma_slow\",\"sma_slow\",\"sma_slow\",\"sma_slow\",\"sma_slow\",\"sma_slow\",\"sma_slow\",\"sma_slow\",\"sma_slow\",\"sma_slow\",\"sma_slow\",\"sma_slow\",\"sma_slow\",\"sma_slow\",\"sma_slow\",\"sma_slow\",\"sma_slow\",\"sma_slow\",\"sma_slow\",\"sma_slow\",\"sma_slow\",\"sma_slow\",\"sma_slow\",\"sma_slow\",\"sma_slow\",\"sma_slow\",\"sma_slow\",\"sma_slow\",\"sma_slow\",\"sma_slow\",\"sma_slow\",\"sma_slow\",\"sma_slow\",\"sma_slow\",\"sma_slow\",\"sma_slow\",\"sma_slow\",\"sma_slow\",\"sma_slow\",\"sma_slow\",\"sma_slow\",\"sma_slow\",\"sma_slow\",\"sma_slow\",\"sma_slow\",\"sma_slow\",\"sma_slow\",\"sma_slow\",\"sma_slow\",\"sma_slow\",\"sma_slow\",\"sma_slow\",\"sma_slow\",\"sma_slow\",\"sma_slow\",\"sma_slow\",\"sma_slow\",\"sma_slow\",\"sma_slow\",\"sma_slow\",\"sma_slow\",\"sma_slow\",\"sma_slow\",\"sma_slow\",\"sma_slow\",\"sma_slow\",\"sma_slow\",\"sma_slow\"],\"datetime\":{\"__ndarray__\":\"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\",\"dtype\":\"float64\",\"order\":\"little\",\"shape\":[897]},\"value\":{\"__ndarray__\":\"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\",\"dtype\":\"float64\",\"order\":\"little\",\"shape\":[897]}},\"selected\":{\"id\":\"1093\"},\"selection_policy\":{\"id\":\"1111\"}},\"id\":\"1092\",\"type\":\"ColumnDataSource\"},{\"attributes\":{\"bottom_units\":\"screen\",\"coordinates\":null,\"fill_alpha\":0.5,\"fill_color\":\"lightgrey\",\"group\":null,\"left_units\":\"screen\",\"level\":\"overlay\",\"line_alpha\":1.0,\"line_color\":\"black\",\"line_dash\":[4,4],\"line_width\":2,\"right_units\":\"screen\",\"syncable\":false,\"top_units\":\"screen\"},\"id\":\"1033\",\"type\":\"BoxAnnotation\"},{\"attributes\":{\"base\":24,\"mantissas\":[1,2,4,6,8,12],\"max_interval\":43200000.0,\"min_interval\":3600000.0,\"num_minor_ticks\":0},\"id\":\"1079\",\"type\":\"AdaptiveTicker\"},{\"attributes\":{\"months\":[0,1,2,3,4,5,6,7,8,9,10,11]},\"id\":\"1084\",\"type\":\"MonthsTicker\"},{\"attributes\":{},\"id\":\"1043\",\"type\":\"DatetimeTickFormatter\"},{\"attributes\":{\"months\":[0,2,4,6,8,10]},\"id\":\"1085\",\"type\":\"MonthsTicker\"},{\"attributes\":{\"days\":[1,4,7,10,13,16,19,22,25,28]},\"id\":\"1081\",\"type\":\"DaysTicker\"},{\"attributes\":{\"days\":[1,15]},\"id\":\"1083\",\"type\":\"DaysTicker\"},{\"attributes\":{\"months\":[0,6]},\"id\":\"1087\",\"type\":\"MonthsTicker\"},{\"attributes\":{\"days\":[1,8,15,22]},\"id\":\"1082\",\"type\":\"DaysTicker\"},{\"attributes\":{},\"id\":\"1088\",\"type\":\"YearsTicker\"},{\"attributes\":{\"months\":[0,4,8]},\"id\":\"1086\",\"type\":\"MonthsTicker\"},{\"attributes\":{\"margin\":[5,5,5,5],\"name\":\"HSpacer01885\",\"sizing_mode\":\"stretch_width\"},\"id\":\"1598\",\"type\":\"Spacer\"},{\"attributes\":{},\"id\":\"1072\",\"type\":\"UnionRenderers\"},{\"attributes\":{\"angle\":{\"value\":3.141592653589793},\"fill_color\":{\"value\":\"orange\"},\"hatch_color\":{\"value\":\"orange\"},\"line_color\":{\"value\":\"orange\"},\"marker\":{\"value\":\"triangle\"},\"size\":{\"value\":14.142135623730951},\"x\":{\"field\":\"datetime\"},\"y\":{\"field\":\"close\"}},\"id\":\"1322\",\"type\":\"Scatter\"},{\"attributes\":{\"data\":{\"close\":{\"__ndarray__\":\"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\",\"dtype\":\"float64\",\"order\":\"little\",\"shape\":[897]},\"datetime\":{\"__ndarray__\":\"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\",\"dtype\":\"float64\",\"order\":\"little\",\"shape\":[897]}},\"selected\":{\"id\":\"1049\"},\"selection_policy\":{\"id\":\"1072\"}},\"id\":\"1048\",\"type\":\"ColumnDataSource\"},{\"attributes\":{\"angle\":{\"value\":3.141592653589793},\"fill_alpha\":{\"value\":1.0},\"fill_color\":{\"value\":\"orange\"},\"hatch_alpha\":{\"value\":1.0},\"hatch_color\":{\"value\":\"orange\"},\"hatch_scale\":{\"value\":12.0},\"hatch_weight\":{\"value\":1.0},\"line_alpha\":{\"value\":1.0},\"line_cap\":{\"value\":\"butt\"},\"line_color\":{\"value\":\"orange\"},\"line_dash\":{\"value\":[]},\"line_dash_offset\":{\"value\":0},\"line_join\":{\"value\":\"bevel\"},\"line_width\":{\"value\":1},\"marker\":{\"value\":\"triangle\"},\"size\":{\"value\":14.142135623730951},\"x\":{\"field\":\"datetime\"},\"y\":{\"field\":\"close\"}},\"id\":\"1327\",\"type\":\"Scatter\"},{\"attributes\":{\"coordinates\":null,\"data_source\":{\"id\":\"1092\"},\"glyph\":{\"id\":\"1095\"},\"group\":null,\"hover_glyph\":null,\"muted_glyph\":{\"id\":\"1097\"},\"nonselection_glyph\":{\"id\":\"1096\"},\"selection_glyph\":{\"id\":\"1127\"},\"view\":{\"id\":\"1099\"}},\"id\":\"1098\",\"type\":\"GlyphRenderer\"},{\"attributes\":{\"tools\":[{\"id\":\"1006\"},{\"id\":\"1007\"},{\"id\":\"1028\"},{\"id\":\"1029\"},{\"id\":\"1030\"},{\"id\":\"1031\"},{\"id\":\"1032\"}]},\"id\":\"1034\",\"type\":\"Toolbar\"},{\"attributes\":{\"fill_color\":{\"value\":\"purple\"},\"hatch_color\":{\"value\":\"purple\"},\"line_color\":{\"value\":\"purple\"},\"marker\":{\"value\":\"triangle\"},\"size\":{\"value\":14.142135623730951},\"x\":{\"field\":\"datetime\"},\"y\":{\"field\":\"close\"}},\"id\":\"1313\",\"type\":\"Scatter\"},{\"attributes\":{\"callback\":null,\"formatters\":{\"@{datetime}\":\"datetime\"},\"renderers\":[{\"id\":\"1063\"},{\"id\":\"1098\"}],\"tags\":[\"hv_created\"],\"tooltips\":[[\"Variable\",\"@{Variable}\"],[\"datetime\",\"@{datetime}{%F %T}\"],[\"value\",\"@{value}\"]]},\"id\":\"1007\",\"type\":\"HoverTool\"},{\"attributes\":{\"data\":{\"close\":{\"__ndarray__\":\"gO2TtSOea0CsUpu0UD5wQK5Wu2Av5mhA9MvFK3eLp0A=\",\"dtype\":\"float64\",\"order\":\"little\",\"shape\":[4]},\"datetime\":{\"__ndarray__\":\"AAAAZ+jGdkIAAAC3tAR3QgAAQEu1IHdCAABA8jCyd0I=\",\"dtype\":\"float64\",\"order\":\"little\",\"shape\":[4]}},\"selected\":{\"id\":\"1311\"},\"selection_policy\":{\"id\":\"1341\"}},\"id\":\"1310\",\"type\":\"ColumnDataSource\"},{\"attributes\":{\"margin\":[5,5,5,5],\"name\":\"HSpacer01884\",\"sizing_mode\":\"stretch_width\"},\"id\":\"1003\",\"type\":\"Spacer\"},{\"attributes\":{\"line_color\":\"#fc4f30\",\"line_width\":2,\"x\":{\"field\":\"datetime\"},\"y\":{\"field\":\"value\"}},\"id\":\"1091\",\"type\":\"Line\"},{\"attributes\":{\"children\":[{\"id\":\"1003\"},{\"id\":\"1011\"},{\"id\":\"1598\"}],\"margin\":[0,0,0,0],\"name\":\"Row01880\",\"tags\":[\"embedded\"]},\"id\":\"1002\",\"type\":\"Row\"},{\"attributes\":{\"line_color\":\"lightgray\",\"line_width\":2,\"x\":{\"field\":\"datetime\"},\"y\":{\"field\":\"close\"}},\"id\":\"1051\",\"type\":\"Line\"},{\"attributes\":{\"end\":5282.23578728728,\"reset_end\":5282.23578728728,\"reset_start\":-359.54229774247995,\"start\":-359.54229774247995,\"tags\":[[[\"close\",\"close\",null]]]},\"id\":\"1005\",\"type\":\"Range1d\"},{\"attributes\":{},\"id\":\"1341\",\"type\":\"UnionRenderers\"},{\"attributes\":{},\"id\":\"1311\",\"type\":\"Selection\"},{\"attributes\":{\"line_alpha\":0.2,\"line_color\":\"lightgray\",\"line_width\":2,\"x\":{\"field\":\"datetime\"},\"y\":{\"field\":\"close\"}},\"id\":\"1053\",\"type\":\"Line\"},{\"attributes\":{\"end\":1638316800000.0,\"reset_end\":1638316800000.0,\"reset_start\":1560902400000.0,\"start\":1560902400000.0,\"tags\":[[[\"datetime\",\"datetime\",null]]]},\"id\":\"1004\",\"type\":\"Range1d\"},{\"attributes\":{\"coordinates\":null,\"data_source\":{\"id\":\"1048\"},\"glyph\":{\"id\":\"1051\"},\"group\":null,\"hover_glyph\":null,\"muted_glyph\":{\"id\":\"1053\"},\"nonselection_glyph\":{\"id\":\"1052\"},\"selection_glyph\":{\"id\":\"1056\"},\"view\":{\"id\":\"1055\"}},\"id\":\"1054\",\"type\":\"GlyphRenderer\"},{\"attributes\":{},\"id\":\"1343\",\"type\":\"UnionRenderers\"},{\"attributes\":{\"below\":[{\"id\":\"1020\"}],\"center\":[{\"id\":\"1023\"},{\"id\":\"1027\"}],\"height\":400,\"left\":[{\"id\":\"1024\"}],\"margin\":[5,5,5,5],\"min_border_bottom\":10,\"min_border_left\":10,\"min_border_right\":10,\"min_border_top\":10,\"renderers\":[{\"id\":\"1054\"},{\"id\":\"1063\"},{\"id\":\"1098\"},{\"id\":\"1316\"},{\"id\":\"1325\"}],\"right\":[{\"id\":\"1089\"}],\"sizing_mode\":\"fixed\",\"title\":{\"id\":\"1012\"},\"toolbar\":{\"id\":\"1034\"},\"width\":1000,\"x_range\":{\"id\":\"1004\"},\"x_scale\":{\"id\":\"1016\"},\"y_range\":{\"id\":\"1005\"},\"y_scale\":{\"id\":\"1018\"}},\"id\":\"1011\",\"subtype\":\"Figure\",\"type\":\"Plot\"},{\"attributes\":{\"source\":{\"id\":\"1057\"}},\"id\":\"1064\",\"type\":\"CDSView\"},{\"attributes\":{\"click_policy\":\"mute\",\"coordinates\":null,\"group\":null,\"items\":[{\"id\":\"1090\"},{\"id\":\"1126\"}],\"location\":[0,0]},\"id\":\"1089\",\"type\":\"Legend\"},{\"attributes\":{\"source\":{\"id\":\"1048\"}},\"id\":\"1055\",\"type\":\"CDSView\"},{\"attributes\":{},\"id\":\"1049\",\"type\":\"Selection\"},{\"attributes\":{\"line_alpha\":0.1,\"line_color\":\"lightgray\",\"line_width\":2,\"x\":{\"field\":\"datetime\"},\"y\":{\"field\":\"close\"}},\"id\":\"1052\",\"type\":\"Line\"},{\"attributes\":{\"line_alpha\":0.2,\"line_color\":\"#fc4f30\",\"line_width\":2,\"x\":{\"field\":\"datetime\"},\"y\":{\"field\":\"value\"}},\"id\":\"1062\",\"type\":\"Line\"},{\"attributes\":{},\"id\":\"1046\",\"type\":\"BasicTickFormatter\"},{\"attributes\":{\"label\":{\"value\":\"sma_fast\"},\"renderers\":[{\"id\":\"1063\"}]},\"id\":\"1090\",\"type\":\"LegendItem\"},{\"attributes\":{\"line_color\":\"#fc4f30\",\"line_width\":2,\"x\":{\"field\":\"datetime\"},\"y\":{\"field\":\"value\"}},\"id\":\"1060\",\"type\":\"Line\"},{\"attributes\":{\"callback\":null,\"formatters\":{\"@{datetime}\":\"datetime\"},\"renderers\":[{\"id\":\"1054\"},{\"id\":\"1316\"},{\"id\":\"1325\"}],\"tags\":[\"hv_created\"],\"tooltips\":[[\"datetime\",\"@{datetime}{%F %T}\"],[\"close\",\"@{close}\"]]},\"id\":\"1006\",\"type\":\"HoverTool\"},{\"attributes\":{},\"id\":\"1047\",\"type\":\"AllLabels\"},{\"attributes\":{\"line_alpha\":0.1,\"line_color\":\"#fc4f30\",\"line_width\":2,\"x\":{\"field\":\"datetime\"},\"y\":{\"field\":\"value\"}},\"id\":\"1061\",\"type\":\"Line\"},{\"attributes\":{},\"id\":\"1058\",\"type\":\"Selection\"},{\"attributes\":{\"data\":{\"Variable\":[\"sma_fast\",\"sma_fast\",\"sma_fast\",\"sma_fast\",\"sma_fast\",\"sma_fast\",\"sma_fast\",\"sma_fast\",\"sma_fast\",\"sma_fast\",\"sma_fast\",\"sma_fast\",\"sma_fast\",\"sma_fast\",\"sma_fast\",\"sma_fast\",\"sma_fast\",\"sma_fast\",\"sma_fast\",\"sma_fast\",\"sma_fast\",\"sma_fast\",\"sma_fast\",\"sma_fast\",\"sma_fast\",\"sma_fast\",\"sma_fast\",\"sma_fast\",\"sma_fast\",\"sma_fast\",\"sma_fast\",\"sma_fast\",\"sma_fast\",\"sma_fast\",\"sma_fast\",\"sma_fast\",\"sma_fast\",\"sma_fast\",\"sma_fast\",\"sma_fast\",\"sma_fast\",\"sma_fast\",\"sma_fast\",\"sma_fast\",\"sma_fast\",\"sma_fast\",\"sma_fast\",\"sma_fast\",\"sma_fast\",\"sma_fast\",\"sma_fast\",\"sma_fast\",\"sma_fast\",\"sma_fast\",\"sma_fast\",\"sma_fast\",\"sma_fast\",\"sma_fast\",\"sma_fast\",\"sma_fast\",\"sma_fast\",\"sma_fast\",\"sma_fast\",\"sma_fast\",\"sma_fast\",\"sma_fast\",\"sma_fast\",\"sma_fast\",\"sma_fast\",\"sma_fast\",\"sma_fast\",\"sma_fast\",\"sma_fast\",\"sma_fast\",\"sma_fast\",\"sma_fast\",\"sma_fast\",\"sma_fast\",\"sma_fast\",\"sma_fast\",\"sma_fast\",\"sma_fast\",\"sma_fast\",\"sma_fast\",\"sma_fast\",\"sma_fast\",\"sma_fast\",\"sma_fast\",\"sma_fast\",\"sma_fast\",\"sma_fast\",\"sma_fast\",\"sma_fast\",\"sma_fast\",\"sma_fast\",\"sma_fast\",\"sma_fast\",\"sma_fast\",\"sma_fast\",\"sma_fast\",\"sma_fast\",\"sma_fast\",\"sma_fast\",\"sma_fast\",\"sma_fast\",\"sma_fast\",\"sma_fast\",\"sma_fast\",\"sma_fast\",\"sma_fast\",\"sma_fast\",\"sma_fast\",\"sma_fast\",\"sma_fast\",\"sma_fast\",\"sma_fast\",\"sma_fast\",\"sma_fast\",\"sma_fast\",\"sma_fast\",\"sma_fast\",\"sma_fast\",\"sma_fast\",\"sma_fast\",\"sma_fast\",\"sma_fast\",\"sma_fast\",\"sma_fast\",\"sma_fast\",\"sma_fast\",\"sma_fast\",\"sma_fast\",\"sma_fast\",\"sma_fast\",\"sma_fast\",\"sma_fast\",\"sma_fast\",\"sma_fast\",\"sma_fast\",\"sma_fast\",\"sma_fast\",\"sma_fast\",\"sma_fast\",\"sma_fast\",\"sma_fast\",\"sma_fast\",\"sma_fast\",\"sma_fast\",\"sma_fast\",\"sma_fast\",\"sma_fast\",\"sma_fast\",\"sma_fast\",\"sma_fast\",\"sma_fast\",\"sma_fast\",\"sma_fast\",\"sma_fast\",\"sma_fast\",\"sma_fast\",\"sma_fast\",\"sma_fast\",\"sma_fast\",\"sma_fast\",\"sma_fast\",\"sma_fast\",\"sma_fast\",\"sma_fast\",\"sma_fast\",\"sma_fast\",\"sma_fast\",\"sma_fast\",\"sma_fast\",\"sma_fast\",\"sma_fast\",\"sma_fast\",\"sma_fast\",\"sma_fast\",\"sma_fast\",\"sma_fast\",\"sma_fast\",\"sma_fast\",\"sma_fast\",\"sma_fast\",\"sma_fast\",\"sma_fast\",\"sma_fast\",\"sma_fast\",\"sma_fast\",\"sma_fast\",\"sma_fast\",\"sma_fast\",\"sma_fast\",\"sma_fast\",\"sma_fast\",\"sma_fast\",\"sma_fast\",\"sma_fast\",\"sma_fast\",\"sma_fast\",\"sma_fast\",\"sma_fast\",\"sma_fast\",\"sma_fast\",\"sma_fast\",\"sma_fast\",\"sma_fast\",\"sma_fast\",\"sma_fast\",\"sma_fast\",\"sma_fast\",\"sma_fast\",\"sma_fast\",\"sma_fast\",\"sma_fast\",\"sma_fast\",\"sma_fast\",\"sma_fast\",\"sma_fast\",\"sma_fast\",\"sma_fast\",\"sma_fast\",\"sma_fast\",\"sma_fast\",\"sma_fast\",\"sma_fast\",\"sma_fast\",\"sma_fast\",\"sma_fast\",\"sma_fast\",\"sma_fast\",\"sma_fast\",\"sma_fast\",\"sma_fast\",\"sma_fast\",\"sma_fast\",\"sma_fast\",\"sma_fast\",\"sma_fast\",\"sma_fast\",\"sma_fast\",\"sma_fast\",\"sma_fast\",\"sma_fast\",\"sma_fast\",\"sma_fast\",\"sma_fast\",\"sma_fast\",\"sma_fast\",\"sma_fast\",\"sma_fast\",\"sma_fast\",\"sma_fast\",\"sma_fast\",\"sma_fast\",\"sma_fast\",\"sma_fast\",\"sma_fast\",\"sma_fast\",\"sma_fast\",\"sma_fast\",\"sma_fast\",\"sma_fast\",\"sma_fast\",\"sma_fast\",\"sma_fast\",\"sma_fast\",\"sma_fast\",\"sma_fast\",\"sma_fast\",\"sma_fast\",\"sma_fast\",\"sma_fast\",\"sma_fast\",\"sma_fast\",\"sma_fast\",\"sma_fast\",\"sma_fast\",\"sma_fast\",\"sma_fast\",\"sma_fast\",\"sma_fast\",\"sma_fast\",\"sma_fast\",\"sma_fast\",\"sma_fast\",\"sma_fast\",\"sma_fast\",\"sma_fast\",\"sma_fast\",\"sma_fast\",\"sma_fast\",\"sma_fast\",\"sma_fast\",\"sma_fast\",\"sma_fast\",\"sma_fast\",\"sma_fast\",\"sma_fast\",\"sma_fast\",\"sma_fast\",\"sma_fast\",\"sma_fast\",\"sma_fast\",\"sma_fast\",\"sma_fast\",\"sma_fast\",\"sma_fast\",\"sma_fast\",\"sma_fast\",\"sma_fast\",\"sma_fast\",\"sma_fast\",\"sma_fast\",\"sma_fast\",\"sma_fast\",\"sma_fast\",\"sma_fast\",\"sma_fast\",\"sma_fast\",\"sma_fast\",\"sma_fast\",\"sma_fast\",\"sma_fast\",\"sma_fast\",\"sma_fast\",\"sma_fast\",\"sma_fast\",\"sma_fast\",\"sma_fast\",\"sma_fast\",\"sma_fast\",\"sma_fast\",\"sma_fast\",\"sma_fast\",\"sma_fast\",\"sma_fast\",\"sma_fast\",\"sma_fast\",\"sma_fast\",\"sma_fast\",\"sma_fast\",\"sma_fast\",\"sma_fast\",\"sma_fast\",\"sma_fast\",\"sma_fast\",\"sma_fast\",\"sma_fast\",\"sma_fast\",\"sma_fast\",\"sma_fast\",\"sma_fast\",\"sma_fast\",\"sma_fast\",\"sma_fast\",\"sma_fast\",\"sma_fast\",\"sma_fast\",\"sma_fast\",\"sma_fast\",\"sma_fast\",\"sma_fast\",\"sma_fast\",\"sma_fast\",\"sma_fast\",\"sma_fast\",\"sma_fast\",\"sma_fast\",\"sma_fast\",\"sma_fast\",\"sma_fast\",\"sma_fast\",\"sma_fast\",\"sma_fast\",\"sma_fast\",\"sma_fast\",\"sma_fast\",\"sma_fast\",\"sma_fast\",\"sma_fast\",\"sma_fast\",\"sma_fast\",\"sma_fast\",\"sma_fast\",\"sma_fast\",\"sma_fast\",\"sma_fast\",\"sma_fast\",\"sma_fast\",\"sma_fast\",\"sma_fast\",\"sma_fast\",\"sma_fast\",\"sma_fast\",\"sma_fast\",\"sma_fast\",\"sma_fast\",\"sma_fast\",\"sma_fast\",\"sma_fast\",\"sma_fast\",\"sma_fast\",\"sma_fast\",\"sma_fast\",\"sma_fast\",\"sma_fast\",\"sma_fast\",\"sma_fast\",\"sma_fast\",\"sma_fast\",\"sma_fast\",\"sma_fast\",\"sma_fast\",\"sma_fast\",\"sma_fast\",\"sma_fast\",\"sma_fast\",\"sma_fast\",\"sma_fast\",\"sma_fast\",\"sma_fast\",\"sma_fast\",\"sma_fast\",\"sma_fast\",\"sma_fast\",\"sma_fast\",\"sma_fast\",\"sma_fast\",\"sma_fast\",\"sma_fast\",\"sma_fast\",\"sma_fast\",\"sma_fast\",\"sma_fast\",\"sma_fast\",\"sma_fast\",\"sma_fast\",\"sma_fast\",\"sma_fast\",\"sma_fast\",\"sma_fast\",\"sma_fast\",\"sma_fast\",\"sma_fast\",\"sma_fast\",\"sma_fast\",\"sma_fast\",\"sma_fast\",\"sma_fast\",\"sma_fast\",\"sma_fast\",\"sma_fast\",\"sma_fast\",\"sma_fast\",\"sma_fast\",\"sma_fast\",\"sma_fast\",\"sma_fast\",\"sma_fast\",\"sma_fast\",\"sma_fast\",\"sma_fast\",\"sma_fast\",\"sma_fast\",\"sma_fast\",\"sma_fast\",\"sma_fast\",\"sma_fast\",\"sma_fast\",\"sma_fast\",\"sma_fast\",\"sma_fast\",\"sma_fast\",\"sma_fast\",\"sma_fast\",\"sma_fast\",\"sma_fast\",\"sma_fast\",\"sma_fast\",\"sma_fast\",\"sma_fast\",\"sma_fast\",\"sma_fast\",\"sma_fast\",\"sma_fast\",\"sma_fast\",\"sma_fast\",\"sma_fast\",\"sma_fast\",\"sma_fast\",\"sma_fast\",\"sma_fast\",\"sma_fast\",\"sma_fast\",\"sma_fast\",\"sma_fast\",\"sma_fast\",\"sma_fast\",\"sma_fast\",\"sma_fast\",\"sma_fast\",\"sma_fast\",\"sma_fast\",\"sma_fast\",\"sma_fast\",\"sma_fast\",\"sma_fast\",\"sma_fast\",\"sma_fast\",\"sma_fast\",\"sma_fast\",\"sma_fast\",\"sma_fast\",\"sma_fast\",\"sma_fast\",\"sma_fast\",\"sma_fast\",\"sma_fast\",\"sma_fast\",\"sma_fast\",\"sma_fast\",\"sma_fast\",\"sma_fast\",\"sma_fast\",\"sma_fast\",\"sma_fast\",\"sma_fast\",\"sma_fast\",\"sma_fast\",\"sma_fast\",\"sma_fast\",\"sma_fast\",\"sma_fast\",\"sma_fast\",\"sma_fast\",\"sma_fast\",\"sma_fast\",\"sma_fast\",\"sma_fast\",\"sma_fast\",\"sma_fast\",\"sma_fast\",\"sma_fast\",\"sma_fast\",\"sma_fast\",\"sma_fast\",\"sma_fast\",\"sma_fast\",\"sma_fast\",\"sma_fast\",\"sma_fast\",\"sma_fast\",\"sma_fast\",\"sma_fast\",\"sma_fast\",\"sma_fast\",\"sma_fast\",\"sma_fast\",\"sma_fast\",\"sma_fast\",\"sma_fast\",\"sma_fast\",\"sma_fast\",\"sma_fast\",\"sma_fast\",\"sma_fast\",\"sma_fast\",\"sma_fast\",\"sma_fast\",\"sma_fast\",\"sma_fast\",\"sma_fast\",\"sma_fast\",\"sma_fast\",\"sma_fast\",\"sma_fast\",\"sma_fast\",\"sma_fast\",\"sma_fast\",\"sma_fast\",\"sma_fast\",\"sma_fast\",\"sma_fast\",\"sma_fast\",\"sma_fast\",\"sma_fast\",\"sma_fast\",\"sma_fast\",\"sma_fast\",\"sma_fast\",\"sma_fast\",\"sma_fast\",\"sma_fast\",\"sma_fast\",\"sma_fast\",\"sma_fast\",\"sma_fast\",\"sma_fast\",\"sma_fast\",\"sma_fast\",\"sma_fast\",\"sma_fast\",\"sma_fast\",\"sma_fast\",\"sma_fast\",\"sma_fast\",\"sma_fast\",\"sma_fast\",\"sma_fast\",\"sma_fast\",\"sma_fast\",\"sma_fast\",\"sma_fast\",\"sma_fast\",\"sma_fast\",\"sma_fast\",\"sma_fast\",\"sma_fast\",\"sma_fast\",\"sma_fast\",\"sma_fast\",\"sma_fast\",\"sma_fast\",\"sma_fast\",\"sma_fast\",\"sma_fast\",\"sma_fast\",\"sma_fast\",\"sma_fast\",\"sma_fast\",\"sma_fast\",\"sma_fast\",\"sma_fast\",\"sma_fast\",\"sma_fast\",\"sma_fast\",\"sma_fast\",\"sma_fast\",\"sma_fast\",\"sma_fast\",\"sma_fast\",\"sma_fast\",\"sma_fast\",\"sma_fast\",\"sma_fast\",\"sma_fast\",\"sma_fast\",\"sma_fast\",\"sma_fast\",\"sma_fast\",\"sma_fast\",\"sma_fast\",\"sma_fast\",\"sma_fast\",\"sma_fast\",\"sma_fast\",\"sma_fast\",\"sma_fast\",\"sma_fast\",\"sma_fast\",\"sma_fast\",\"sma_fast\",\"sma_fast\",\"sma_fast\",\"sma_fast\",\"sma_fast\",\"sma_fast\",\"sma_fast\",\"sma_fast\",\"sma_fast\",\"sma_fast\",\"sma_fast\",\"sma_fast\",\"sma_fast\",\"sma_fast\",\"sma_fast\",\"sma_fast\",\"sma_fast\",\"sma_fast\",\"sma_fast\",\"sma_fast\",\"sma_fast\",\"sma_fast\",\"sma_fast\",\"sma_fast\",\"sma_fast\",\"sma_fast\",\"sma_fast\",\"sma_fast\",\"sma_fast\",\"sma_fast\",\"sma_fast\",\"sma_fast\",\"sma_fast\",\"sma_fast\",\"sma_fast\",\"sma_fast\",\"sma_fast\",\"sma_fast\",\"sma_fast\",\"sma_fast\",\"sma_fast\",\"sma_fast\",\"sma_fast\",\"sma_fast\",\"sma_fast\",\"sma_fast\",\"sma_fast\",\"sma_fast\",\"sma_fast\",\"sma_fast\",\"sma_fast\",\"sma_fast\",\"sma_fast\",\"sma_fast\",\"sma_fast\",\"sma_fast\",\"sma_fast\",\"sma_fast\",\"sma_fast\",\"sma_fast\",\"sma_fast\",\"sma_fast\",\"sma_fast\",\"sma_fast\",\"sma_fast\",\"sma_fast\",\"sma_fast\",\"sma_fast\",\"sma_fast\",\"sma_fast\",\"sma_fast\",\"sma_fast\",\"sma_fast\",\"sma_fast\",\"sma_fast\",\"sma_fast\",\"sma_fast\",\"sma_fast\",\"sma_fast\",\"sma_fast\",\"sma_fast\",\"sma_fast\",\"sma_fast\",\"sma_fast\",\"sma_fast\",\"sma_fast\",\"sma_fast\",\"sma_fast\",\"sma_fast\",\"sma_fast\",\"sma_fast\",\"sma_fast\",\"sma_fast\",\"sma_fast\",\"sma_fast\",\"sma_fast\",\"sma_fast\",\"sma_fast\",\"sma_fast\",\"sma_fast\",\"sma_fast\",\"sma_fast\",\"sma_fast\",\"sma_fast\",\"sma_fast\",\"sma_fast\",\"sma_fast\",\"sma_fast\",\"sma_fast\",\"sma_fast\",\"sma_fast\",\"sma_fast\",\"sma_fast\",\"sma_fast\",\"sma_fast\",\"sma_fast\",\"sma_fast\",\"sma_fast\",\"sma_fast\",\"sma_fast\",\"sma_fast\",\"sma_fast\",\"sma_fast\",\"sma_fast\",\"sma_fast\",\"sma_fast\",\"sma_fast\",\"sma_fast\",\"sma_fast\",\"sma_fast\",\"sma_fast\",\"sma_fast\",\"sma_fast\",\"sma_fast\",\"sma_fast\",\"sma_fast\",\"sma_fast\",\"sma_fast\",\"sma_fast\",\"sma_fast\",\"sma_fast\",\"sma_fast\",\"sma_fast\",\"sma_fast\",\"sma_fast\",\"sma_fast\",\"sma_fast\",\"sma_fast\",\"sma_fast\",\"sma_fast\",\"sma_fast\",\"sma_fast\",\"sma_fast\",\"sma_fast\",\"sma_fast\",\"sma_fast\",\"sma_fast\",\"sma_fast\",\"sma_fast\",\"sma_fast\",\"sma_fast\",\"sma_fast\",\"sma_fast\",\"sma_fast\",\"sma_fast\",\"sma_fast\",\"sma_fast\",\"sma_fast\",\"sma_fast\",\"sma_fast\",\"sma_fast\",\"sma_fast\",\"sma_fast\",\"sma_fast\",\"sma_fast\",\"sma_fast\",\"sma_fast\",\"sma_fast\",\"sma_fast\",\"sma_fast\",\"sma_fast\",\"sma_fast\",\"sma_fast\",\"sma_fast\",\"sma_fast\",\"sma_fast\",\"sma_fast\",\"sma_fast\",\"sma_fast\",\"sma_fast\",\"sma_fast\",\"sma_fast\",\"sma_fast\",\"sma_fast\",\"sma_fast\",\"sma_fast\",\"sma_fast\",\"sma_fast\",\"sma_fast\",\"sma_fast\",\"sma_fast\",\"sma_fast\",\"sma_fast\",\"sma_fast\",\"sma_fast\",\"sma_fast\",\"sma_fast\",\"sma_fast\",\"sma_fast\",\"sma_fast\",\"sma_fast\",\"sma_fast\",\"sma_fast\",\"sma_fast\",\"sma_fast\",\"sma_fast\",\"sma_fast\",\"sma_fast\",\"sma_fast\",\"sma_fast\",\"sma_fast\",\"sma_fast\",\"sma_fast\",\"sma_fast\",\"sma_fast\",\"sma_fast\",\"sma_fast\",\"sma_fast\",\"sma_fast\",\"sma_fast\",\"sma_fast\",\"sma_fast\",\"sma_fast\",\"sma_fast\",\"sma_fast\"],\"datetime\":{\"__ndarray__\":\"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\",\"dtype\":\"float64\",\"order\":\"little\",\"shape\":[897]},\"value\":{\"__ndarray__\":\"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\",\"dtype\":\"float64\",\"order\":\"little\",\"shape\":[897]}},\"selected\":{\"id\":\"1058\"},\"selection_policy\":{\"id\":\"1074\"}},\"id\":\"1057\",\"type\":\"ColumnDataSource\"}],\"root_ids\":[\"1002\"]},\"title\":\"Bokeh Application\",\"version\":\"2.4.1\"}};\n",
       "    var render_items = [{\"docid\":\"0aebb306-20c0-4c66-ad37-ff40a8ba2375\",\"root_ids\":[\"1002\"],\"roots\":{\"1002\":\"c10971f9-91cf-4a2e-afaf-4586054e765a\"}}];\n",
       "    root.Bokeh.embed.embed_items_notebook(docs_json, render_items);\n",
       "  }\n",
       "  if (root.Bokeh !== undefined && root.Bokeh.Panel !== undefined) {\n",
       "    embed_document(root);\n",
       "  } else {\n",
       "    var attempts = 0;\n",
       "    var timer = setInterval(function(root) {\n",
       "      if (root.Bokeh !== undefined && root.Bokeh.Panel !== undefined) {\n",
       "        clearInterval(timer);\n",
       "        embed_document(root);\n",
       "      } else if (document.readyState == \"complete\") {\n",
       "        attempts++;\n",
       "        if (attempts > 200) {\n",
       "          clearInterval(timer);\n",
       "          console.log(\"Bokeh: ERROR: Unable to run BokehJS code because BokehJS library is missing\");\n",
       "        }\n",
       "      }\n",
       "    }, 25, root)\n",
       "  }\n",
       "})(window);</script>"
      ],
      "text/plain": [
       ":Overlay\n",
       "   .Curve.I          :Curve   [datetime]   (close)\n",
       "   .NdOverlay.I      :NdOverlay   [Variable]\n",
       "      :Curve   [datetime]   (value)\n",
       "   .Scatter.Close.I  :Scatter   [datetime]   (close)\n",
       "   .Scatter.Close.II :Scatter   [datetime]   (close)"
      ]
     },
     "execution_count": 8,
     "metadata": {
      "application/vnd.holoviews_exec.v0+json": {
       "id": "1002"
      }
     },
     "output_type": "execute_result"
    }
   ],
   "source": [
    "# Visualize entry position relative to close price\n",
    "entry = signals_df[signals_df[\"Entry/Exit\"] == 1.0][\"close\"].hvplot.scatter(\n",
    "    color='purple',\n",
    "    marker='^',\n",
    "    size=200,\n",
    "    legend=False,\n",
    "    ylabel='Price in $',\n",
    "    width=1000,\n",
    "    height=400\n",
    ")\n",
    "\n",
    "# Visualize exit position relative to close price\n",
    "exit = signals_df[signals_df[\"Entry/Exit\"] == -1.0][\"close\"].hvplot.scatter(\n",
    "    color='orange',\n",
    "    marker='v',\n",
    "    size=200,\n",
    "    legend=False,\n",
    "    ylabel='Price in $',\n",
    "    width=1000,\n",
    "    height=400\n",
    ")\n",
    "\n",
    "# Visualize close price for the investment\n",
    "security_close = signals_df[[\"close\"]].hvplot(\n",
    "    line_color='lightgray',\n",
    "    ylabel='Price in $',\n",
    "    width=1000,\n",
    "    height=400\n",
    ")\n",
    "\n",
    "# Visualize moving averages\n",
    "moving_avgs = signals_df[[\"sma_fast\", \"sma_slow\"]].hvplot(\n",
    "    ylabel='Price in $',\n",
    "    width=1000,\n",
    "    height=400\n",
    ")\n",
    "\n",
    "# Overlay plots\n",
    "entry_exit_plot = security_close * moving_avgs * entry * exit\n",
    "entry_exit_plot"
   ]
  },
  {
   "cell_type": "markdown",
   "metadata": {},
   "source": [
    "### Generating the Features and Target Sets"
   ]
  },
  {
   "cell_type": "code",
   "execution_count": 9,
   "metadata": {},
   "outputs": [
    {
     "data": {
      "text/html": [
       "<div>\n",
       "<style scoped>\n",
       "    .dataframe tbody tr th:only-of-type {\n",
       "        vertical-align: middle;\n",
       "    }\n",
       "\n",
       "    .dataframe tbody tr th {\n",
       "        vertical-align: top;\n",
       "    }\n",
       "\n",
       "    .dataframe thead th {\n",
       "        text-align: right;\n",
       "    }\n",
       "</style>\n",
       "<table border=\"1\" class=\"dataframe\">\n",
       "  <thead>\n",
       "    <tr style=\"text-align: right;\">\n",
       "      <th></th>\n",
       "      <th>sma_fast</th>\n",
       "      <th>sma_slow</th>\n",
       "    </tr>\n",
       "    <tr>\n",
       "      <th>datetime</th>\n",
       "      <th></th>\n",
       "      <th></th>\n",
       "    </tr>\n",
       "  </thead>\n",
       "  <tbody>\n",
       "    <tr>\n",
       "      <th>2019-06-19 00:00:00+00:00</th>\n",
       "      <td>234.051936</td>\n",
       "      <td>158.616174</td>\n",
       "    </tr>\n",
       "    <tr>\n",
       "      <th>2019-06-20 00:00:00+00:00</th>\n",
       "      <td>236.269469</td>\n",
       "      <td>159.392705</td>\n",
       "    </tr>\n",
       "    <tr>\n",
       "      <th>2019-06-21 00:00:00+00:00</th>\n",
       "      <td>238.926172</td>\n",
       "      <td>160.322631</td>\n",
       "    </tr>\n",
       "    <tr>\n",
       "      <th>2019-06-22 00:00:00+00:00</th>\n",
       "      <td>241.754730</td>\n",
       "      <td>161.318462</td>\n",
       "    </tr>\n",
       "    <tr>\n",
       "      <th>2019-06-23 00:00:00+00:00</th>\n",
       "      <td>244.630754</td>\n",
       "      <td>162.345223</td>\n",
       "    </tr>\n",
       "  </tbody>\n",
       "</table>\n",
       "</div>"
      ],
      "text/plain": [
       "                             sma_fast    sma_slow\n",
       "datetime                                         \n",
       "2019-06-19 00:00:00+00:00  234.051936  158.616174\n",
       "2019-06-20 00:00:00+00:00  236.269469  159.392705\n",
       "2019-06-21 00:00:00+00:00  238.926172  160.322631\n",
       "2019-06-22 00:00:00+00:00  241.754730  161.318462\n",
       "2019-06-23 00:00:00+00:00  244.630754  162.345223"
      ]
     },
     "metadata": {},
     "output_type": "display_data"
    },
    {
     "data": {
      "text/html": [
       "<div>\n",
       "<style scoped>\n",
       "    .dataframe tbody tr th:only-of-type {\n",
       "        vertical-align: middle;\n",
       "    }\n",
       "\n",
       "    .dataframe tbody tr th {\n",
       "        vertical-align: top;\n",
       "    }\n",
       "\n",
       "    .dataframe thead th {\n",
       "        text-align: right;\n",
       "    }\n",
       "</style>\n",
       "<table border=\"1\" class=\"dataframe\">\n",
       "  <thead>\n",
       "    <tr style=\"text-align: right;\">\n",
       "      <th></th>\n",
       "      <th>sma_fast</th>\n",
       "      <th>sma_slow</th>\n",
       "    </tr>\n",
       "    <tr>\n",
       "      <th>datetime</th>\n",
       "      <th></th>\n",
       "      <th></th>\n",
       "    </tr>\n",
       "  </thead>\n",
       "  <tbody>\n",
       "    <tr>\n",
       "      <th>2021-11-27 00:00:00+00:00</th>\n",
       "      <td>4211.379447</td>\n",
       "      <td>3144.467955</td>\n",
       "    </tr>\n",
       "    <tr>\n",
       "      <th>2021-11-28 00:00:00+00:00</th>\n",
       "      <td>4225.754184</td>\n",
       "      <td>3147.010981</td>\n",
       "    </tr>\n",
       "    <tr>\n",
       "      <th>2021-11-29 00:00:00+00:00</th>\n",
       "      <td>4246.139227</td>\n",
       "      <td>3150.660763</td>\n",
       "    </tr>\n",
       "    <tr>\n",
       "      <th>2021-11-30 00:00:00+00:00</th>\n",
       "      <td>4267.861722</td>\n",
       "      <td>3153.422870</td>\n",
       "    </tr>\n",
       "    <tr>\n",
       "      <th>2021-12-01 00:00:00+00:00</th>\n",
       "      <td>4289.750059</td>\n",
       "      <td>3158.167211</td>\n",
       "    </tr>\n",
       "  </tbody>\n",
       "</table>\n",
       "</div>"
      ],
      "text/plain": [
       "                              sma_fast     sma_slow\n",
       "datetime                                           \n",
       "2021-11-27 00:00:00+00:00  4211.379447  3144.467955\n",
       "2021-11-28 00:00:00+00:00  4225.754184  3147.010981\n",
       "2021-11-29 00:00:00+00:00  4246.139227  3150.660763\n",
       "2021-11-30 00:00:00+00:00  4267.861722  3153.422870\n",
       "2021-12-01 00:00:00+00:00  4289.750059  3158.167211"
      ]
     },
     "metadata": {},
     "output_type": "display_data"
    }
   ],
   "source": [
    "# Assign a copy of the sma_fast and sma_slow columns to a new DataFrame called X\n",
    "X = signals_df[[\"sma_fast\", \"sma_slow\"]].copy()\n",
    "\n",
    "# Display sample data\n",
    "display(X.head())\n",
    "display(X.tail())"
   ]
  },
  {
   "cell_type": "markdown",
   "metadata": {},
   "source": [
    "#### Create the target set"
   ]
  },
  {
   "cell_type": "code",
   "execution_count": 10,
   "metadata": {},
   "outputs": [],
   "source": [
    "# Create a new column in the signals_df called signal setting its value to zero.\n",
    "signals_df[\"signal\"] = 0.0"
   ]
  },
  {
   "cell_type": "code",
   "execution_count": 11,
   "metadata": {},
   "outputs": [],
   "source": [
    "# Create the signal to buy\n",
    "signals_df.loc[(trading_df[\"actual_returns\"] >= 0), \"signal\"] = 1"
   ]
  },
  {
   "cell_type": "code",
   "execution_count": 12,
   "metadata": {},
   "outputs": [],
   "source": [
    "# Create the signal to sell\n",
    "signals_df.loc[(trading_df[\"actual_returns\"] < 0), \"signal\"] = -1"
   ]
  },
  {
   "cell_type": "code",
   "execution_count": 13,
   "metadata": {},
   "outputs": [],
   "source": [
    "# Copy the new signal column to a new Series called y.\n",
    "y = signals_df[\"signal\"].copy()"
   ]
  },
  {
   "cell_type": "markdown",
   "metadata": {},
   "source": [
    "---\n",
    "\n",
    "### Split the Data Into Training and Testing Datasets"
   ]
  },
  {
   "cell_type": "markdown",
   "metadata": {},
   "source": [
    "#### Creating the Training Datasets"
   ]
  },
  {
   "cell_type": "code",
   "execution_count": 14,
   "metadata": {},
   "outputs": [],
   "source": [
    "# Imports \n",
    "from pandas.tseries.offsets import DateOffset"
   ]
  },
  {
   "cell_type": "code",
   "execution_count": 15,
   "metadata": {},
   "outputs": [
    {
     "name": "stdout",
     "output_type": "stream",
     "text": [
      "2019-06-19 00:00:00+00:00\n"
     ]
    }
   ],
   "source": [
    "# Select the start of the training period\n",
    "training_begin = X.index.min()\n",
    "\n",
    "# Display the training begin date\n",
    "print(training_begin)"
   ]
  },
  {
   "cell_type": "code",
   "execution_count": 16,
   "metadata": {},
   "outputs": [
    {
     "name": "stdout",
     "output_type": "stream",
     "text": [
      "2019-09-19 00:00:00+00:00\n"
     ]
    }
   ],
   "source": [
    "# Select the ending period for the training data with an offset of 3 months\n",
    "training_end = X.index.min() + DateOffset(months=3)\n",
    "\n",
    "# Display the training end date\n",
    "print(training_end)"
   ]
  },
  {
   "cell_type": "code",
   "execution_count": 17,
   "metadata": {},
   "outputs": [
    {
     "data": {
      "text/html": [
       "<div>\n",
       "<style scoped>\n",
       "    .dataframe tbody tr th:only-of-type {\n",
       "        vertical-align: middle;\n",
       "    }\n",
       "\n",
       "    .dataframe tbody tr th {\n",
       "        vertical-align: top;\n",
       "    }\n",
       "\n",
       "    .dataframe thead th {\n",
       "        text-align: right;\n",
       "    }\n",
       "</style>\n",
       "<table border=\"1\" class=\"dataframe\">\n",
       "  <thead>\n",
       "    <tr style=\"text-align: right;\">\n",
       "      <th></th>\n",
       "      <th>sma_fast</th>\n",
       "      <th>sma_slow</th>\n",
       "    </tr>\n",
       "    <tr>\n",
       "      <th>datetime</th>\n",
       "      <th></th>\n",
       "      <th></th>\n",
       "    </tr>\n",
       "  </thead>\n",
       "  <tbody>\n",
       "    <tr>\n",
       "      <th>2019-06-19 00:00:00+00:00</th>\n",
       "      <td>234.051936</td>\n",
       "      <td>158.616174</td>\n",
       "    </tr>\n",
       "    <tr>\n",
       "      <th>2019-06-20 00:00:00+00:00</th>\n",
       "      <td>236.269469</td>\n",
       "      <td>159.392705</td>\n",
       "    </tr>\n",
       "    <tr>\n",
       "      <th>2019-06-21 00:00:00+00:00</th>\n",
       "      <td>238.926172</td>\n",
       "      <td>160.322631</td>\n",
       "    </tr>\n",
       "    <tr>\n",
       "      <th>2019-06-22 00:00:00+00:00</th>\n",
       "      <td>241.754730</td>\n",
       "      <td>161.318462</td>\n",
       "    </tr>\n",
       "    <tr>\n",
       "      <th>2019-06-23 00:00:00+00:00</th>\n",
       "      <td>244.630754</td>\n",
       "      <td>162.345223</td>\n",
       "    </tr>\n",
       "  </tbody>\n",
       "</table>\n",
       "</div>"
      ],
      "text/plain": [
       "                             sma_fast    sma_slow\n",
       "datetime                                         \n",
       "2019-06-19 00:00:00+00:00  234.051936  158.616174\n",
       "2019-06-20 00:00:00+00:00  236.269469  159.392705\n",
       "2019-06-21 00:00:00+00:00  238.926172  160.322631\n",
       "2019-06-22 00:00:00+00:00  241.754730  161.318462\n",
       "2019-06-23 00:00:00+00:00  244.630754  162.345223"
      ]
     },
     "execution_count": 17,
     "metadata": {},
     "output_type": "execute_result"
    }
   ],
   "source": [
    "# Generate the X_train and y_train DataFrames\n",
    "X_train = X.loc[training_begin:training_end]\n",
    "y_train = y.loc[training_begin:training_end]\n",
    "\n",
    "# Display sample data\n",
    "X_train.head()"
   ]
  },
  {
   "cell_type": "markdown",
   "metadata": {},
   "source": [
    "#### Creating the Testing Datasets"
   ]
  },
  {
   "cell_type": "code",
   "execution_count": 18,
   "metadata": {},
   "outputs": [
    {
     "data": {
      "text/html": [
       "<div>\n",
       "<style scoped>\n",
       "    .dataframe tbody tr th:only-of-type {\n",
       "        vertical-align: middle;\n",
       "    }\n",
       "\n",
       "    .dataframe tbody tr th {\n",
       "        vertical-align: top;\n",
       "    }\n",
       "\n",
       "    .dataframe thead th {\n",
       "        text-align: right;\n",
       "    }\n",
       "</style>\n",
       "<table border=\"1\" class=\"dataframe\">\n",
       "  <thead>\n",
       "    <tr style=\"text-align: right;\">\n",
       "      <th></th>\n",
       "      <th>sma_fast</th>\n",
       "      <th>sma_slow</th>\n",
       "    </tr>\n",
       "    <tr>\n",
       "      <th>datetime</th>\n",
       "      <th></th>\n",
       "      <th></th>\n",
       "    </tr>\n",
       "  </thead>\n",
       "  <tbody>\n",
       "    <tr>\n",
       "      <th>2019-09-19 00:00:00+00:00</th>\n",
       "      <td>194.433018</td>\n",
       "      <td>206.540982</td>\n",
       "    </tr>\n",
       "    <tr>\n",
       "      <th>2019-09-20 00:00:00+00:00</th>\n",
       "      <td>194.437851</td>\n",
       "      <td>206.994934</td>\n",
       "    </tr>\n",
       "    <tr>\n",
       "      <th>2019-09-21 00:00:00+00:00</th>\n",
       "      <td>194.390264</td>\n",
       "      <td>207.383026</td>\n",
       "    </tr>\n",
       "    <tr>\n",
       "      <th>2019-09-22 00:00:00+00:00</th>\n",
       "      <td>194.174721</td>\n",
       "      <td>207.747646</td>\n",
       "    </tr>\n",
       "    <tr>\n",
       "      <th>2019-09-23 00:00:00+00:00</th>\n",
       "      <td>193.759753</td>\n",
       "      <td>208.067080</td>\n",
       "    </tr>\n",
       "  </tbody>\n",
       "</table>\n",
       "</div>"
      ],
      "text/plain": [
       "                             sma_fast    sma_slow\n",
       "datetime                                         \n",
       "2019-09-19 00:00:00+00:00  194.433018  206.540982\n",
       "2019-09-20 00:00:00+00:00  194.437851  206.994934\n",
       "2019-09-21 00:00:00+00:00  194.390264  207.383026\n",
       "2019-09-22 00:00:00+00:00  194.174721  207.747646\n",
       "2019-09-23 00:00:00+00:00  193.759753  208.067080"
      ]
     },
     "execution_count": 18,
     "metadata": {},
     "output_type": "execute_result"
    }
   ],
   "source": [
    "# Generate the X_test and y_test DataFrames\n",
    "X_test = X.loc[training_end:]\n",
    "y_test = y.loc[training_end:]\n",
    "\n",
    "# Display sample data\n",
    "X_test.head()"
   ]
  },
  {
   "cell_type": "markdown",
   "metadata": {},
   "source": [
    "#### Standardizing the Data"
   ]
  },
  {
   "cell_type": "code",
   "execution_count": 19,
   "metadata": {},
   "outputs": [],
   "source": [
    "# Imports\n",
    "from sklearn.preprocessing import StandardScaler"
   ]
  },
  {
   "cell_type": "code",
   "execution_count": 20,
   "metadata": {},
   "outputs": [],
   "source": [
    "# Create a StandardScaler instance\n",
    "scaler = StandardScaler()\n",
    " \n",
    "# Apply the scaler model to fit the X-train data\n",
    "X_scaler = scaler.fit(X_train)\n",
    " \n",
    "# Transform the X_train and X_test DataFrames using the X_scaler\n",
    "X_train_scaled = X_scaler.transform(X_train)\n",
    "X_test_scaled = X_scaler.transform(X_test)"
   ]
  },
  {
   "cell_type": "markdown",
   "metadata": {},
   "source": [
    "---\n",
    "\n",
    "### Incorporate the SVM Machine Learning Into the Trading Strategy"
   ]
  },
  {
   "cell_type": "code",
   "execution_count": 21,
   "metadata": {},
   "outputs": [],
   "source": [
    "# Imports\n",
    "from sklearn import svm\n",
    "from sklearn.metrics import classification_report"
   ]
  },
  {
   "cell_type": "code",
   "execution_count": 22,
   "metadata": {},
   "outputs": [
    {
     "data": {
      "text/plain": [
       "array([1., 1., 1., 1., 1., 1., 1., 1., 1., 1.])"
      ]
     },
     "execution_count": 22,
     "metadata": {},
     "output_type": "execute_result"
    }
   ],
   "source": [
    "# Create the classifier model\n",
    "svm_model = svm.SVC()\n",
    " \n",
    "# Fit the model to the data using X_train_scaled and y_train\n",
    "svm_model = svm_model.fit(X_train_scaled, y_train)\n",
    "\n",
    "# Use the trained model to predict the trading signals for the training data\n",
    "training_signal_predictions = svm_model.predict(X_train_scaled)\n",
    "\n",
    "# Display the sample predictions\n",
    "training_signal_predictions[:10]"
   ]
  },
  {
   "cell_type": "code",
   "execution_count": 23,
   "metadata": {},
   "outputs": [
    {
     "name": "stdout",
     "output_type": "stream",
     "text": [
      "              precision    recall  f1-score   support\n",
      "\n",
      "        -1.0       0.58      0.26      0.36        42\n",
      "         1.0       0.58      0.84      0.69        51\n",
      "\n",
      "    accuracy                           0.58        93\n",
      "   macro avg       0.58      0.55      0.52        93\n",
      "weighted avg       0.58      0.58      0.54        93\n",
      "\n"
     ]
    }
   ],
   "source": [
    "# Evaluate the model using a classification report\n",
    "training_report = classification_report(y_train, training_signal_predictions)\n",
    "print(training_report)"
   ]
  },
  {
   "cell_type": "markdown",
   "metadata": {},
   "source": [
    "---\n",
    "\n",
    "### Backtesting a Machine Learning Trading Algorithm"
   ]
  },
  {
   "cell_type": "code",
   "execution_count": 24,
   "metadata": {},
   "outputs": [],
   "source": [
    "# Use the trained model to predict the trading signals for the testing data.\n",
    "testing_signal_predictions = svm_model.predict(X_test_scaled)"
   ]
  },
  {
   "cell_type": "code",
   "execution_count": 25,
   "metadata": {},
   "outputs": [
    {
     "name": "stdout",
     "output_type": "stream",
     "text": [
      "              precision    recall  f1-score   support\n",
      "\n",
      "        -1.0       0.47      0.05      0.10       367\n",
      "         1.0       0.54      0.95      0.69       438\n",
      "\n",
      "    accuracy                           0.54       805\n",
      "   macro avg       0.50      0.50      0.39       805\n",
      "weighted avg       0.51      0.54      0.42       805\n",
      "\n"
     ]
    }
   ],
   "source": [
    "# Evaluate the model's ability to predict the trading signal for the testing data\n",
    "svm_testing_report = classification_report(y_test, testing_signal_predictions)\n",
    "print(svm_testing_report)"
   ]
  },
  {
   "cell_type": "code",
   "execution_count": 26,
   "metadata": {},
   "outputs": [
    {
     "data": {
      "text/html": [
       "<div>\n",
       "<style scoped>\n",
       "    .dataframe tbody tr th:only-of-type {\n",
       "        vertical-align: middle;\n",
       "    }\n",
       "\n",
       "    .dataframe tbody tr th {\n",
       "        vertical-align: top;\n",
       "    }\n",
       "\n",
       "    .dataframe thead th {\n",
       "        text-align: right;\n",
       "    }\n",
       "</style>\n",
       "<table border=\"1\" class=\"dataframe\">\n",
       "  <thead>\n",
       "    <tr style=\"text-align: right;\">\n",
       "      <th></th>\n",
       "      <th>predicted_signal</th>\n",
       "      <th>actual_returns</th>\n",
       "      <th>trading_algorithm_returns</th>\n",
       "    </tr>\n",
       "    <tr>\n",
       "      <th>datetime</th>\n",
       "      <th></th>\n",
       "      <th></th>\n",
       "      <th></th>\n",
       "    </tr>\n",
       "  </thead>\n",
       "  <tbody>\n",
       "    <tr>\n",
       "      <th>2019-09-19 00:00:00+00:00</th>\n",
       "      <td>1.0</td>\n",
       "      <td>0.046775</td>\n",
       "      <td>0.046775</td>\n",
       "    </tr>\n",
       "    <tr>\n",
       "      <th>2019-09-20 00:00:00+00:00</th>\n",
       "      <td>1.0</td>\n",
       "      <td>-0.014600</td>\n",
       "      <td>-0.014600</td>\n",
       "    </tr>\n",
       "    <tr>\n",
       "      <th>2019-09-21 00:00:00+00:00</th>\n",
       "      <td>1.0</td>\n",
       "      <td>-0.011620</td>\n",
       "      <td>-0.011620</td>\n",
       "    </tr>\n",
       "    <tr>\n",
       "      <th>2019-09-22 00:00:00+00:00</th>\n",
       "      <td>1.0</td>\n",
       "      <td>-0.017646</td>\n",
       "      <td>-0.017646</td>\n",
       "    </tr>\n",
       "    <tr>\n",
       "      <th>2019-09-23 00:00:00+00:00</th>\n",
       "      <td>1.0</td>\n",
       "      <td>-0.046251</td>\n",
       "      <td>-0.046251</td>\n",
       "    </tr>\n",
       "  </tbody>\n",
       "</table>\n",
       "</div>"
      ],
      "text/plain": [
       "                           predicted_signal  actual_returns  \\\n",
       "datetime                                                      \n",
       "2019-09-19 00:00:00+00:00               1.0        0.046775   \n",
       "2019-09-20 00:00:00+00:00               1.0       -0.014600   \n",
       "2019-09-21 00:00:00+00:00               1.0       -0.011620   \n",
       "2019-09-22 00:00:00+00:00               1.0       -0.017646   \n",
       "2019-09-23 00:00:00+00:00               1.0       -0.046251   \n",
       "\n",
       "                           trading_algorithm_returns  \n",
       "datetime                                              \n",
       "2019-09-19 00:00:00+00:00                   0.046775  \n",
       "2019-09-20 00:00:00+00:00                  -0.014600  \n",
       "2019-09-21 00:00:00+00:00                  -0.011620  \n",
       "2019-09-22 00:00:00+00:00                  -0.017646  \n",
       "2019-09-23 00:00:00+00:00                  -0.046251  "
      ]
     },
     "metadata": {},
     "output_type": "display_data"
    },
    {
     "data": {
      "text/html": [
       "<div>\n",
       "<style scoped>\n",
       "    .dataframe tbody tr th:only-of-type {\n",
       "        vertical-align: middle;\n",
       "    }\n",
       "\n",
       "    .dataframe tbody tr th {\n",
       "        vertical-align: top;\n",
       "    }\n",
       "\n",
       "    .dataframe thead th {\n",
       "        text-align: right;\n",
       "    }\n",
       "</style>\n",
       "<table border=\"1\" class=\"dataframe\">\n",
       "  <thead>\n",
       "    <tr style=\"text-align: right;\">\n",
       "      <th></th>\n",
       "      <th>predicted_signal</th>\n",
       "      <th>actual_returns</th>\n",
       "      <th>trading_algorithm_returns</th>\n",
       "    </tr>\n",
       "    <tr>\n",
       "      <th>datetime</th>\n",
       "      <th></th>\n",
       "      <th></th>\n",
       "      <th></th>\n",
       "    </tr>\n",
       "  </thead>\n",
       "  <tbody>\n",
       "    <tr>\n",
       "      <th>2021-11-27 00:00:00+00:00</th>\n",
       "      <td>1.0</td>\n",
       "      <td>0.016374</td>\n",
       "      <td>0.016374</td>\n",
       "    </tr>\n",
       "    <tr>\n",
       "      <th>2021-11-28 00:00:00+00:00</th>\n",
       "      <td>1.0</td>\n",
       "      <td>0.048217</td>\n",
       "      <td>0.048217</td>\n",
       "    </tr>\n",
       "    <tr>\n",
       "      <th>2021-11-29 00:00:00+00:00</th>\n",
       "      <td>1.0</td>\n",
       "      <td>0.035080</td>\n",
       "      <td>0.035080</td>\n",
       "    </tr>\n",
       "    <tr>\n",
       "      <th>2021-11-30 00:00:00+00:00</th>\n",
       "      <td>1.0</td>\n",
       "      <td>0.041928</td>\n",
       "      <td>0.041928</td>\n",
       "    </tr>\n",
       "    <tr>\n",
       "      <th>2021-12-01 00:00:00+00:00</th>\n",
       "      <td>1.0</td>\n",
       "      <td>-0.009606</td>\n",
       "      <td>-0.009606</td>\n",
       "    </tr>\n",
       "  </tbody>\n",
       "</table>\n",
       "</div>"
      ],
      "text/plain": [
       "                           predicted_signal  actual_returns  \\\n",
       "datetime                                                      \n",
       "2021-11-27 00:00:00+00:00               1.0        0.016374   \n",
       "2021-11-28 00:00:00+00:00               1.0        0.048217   \n",
       "2021-11-29 00:00:00+00:00               1.0        0.035080   \n",
       "2021-11-30 00:00:00+00:00               1.0        0.041928   \n",
       "2021-12-01 00:00:00+00:00               1.0       -0.009606   \n",
       "\n",
       "                           trading_algorithm_returns  \n",
       "datetime                                              \n",
       "2021-11-27 00:00:00+00:00                   0.016374  \n",
       "2021-11-28 00:00:00+00:00                   0.048217  \n",
       "2021-11-29 00:00:00+00:00                   0.035080  \n",
       "2021-11-30 00:00:00+00:00                   0.041928  \n",
       "2021-12-01 00:00:00+00:00                  -0.009606  "
      ]
     },
     "metadata": {},
     "output_type": "display_data"
    }
   ],
   "source": [
    "# Create a new empty predictions DataFrame using code provided below.\n",
    "predictions_df = pd.DataFrame(index=X_test.index)\n",
    "predictions_df[\"predicted_signal\"] = testing_signal_predictions\n",
    "predictions_df[\"actual_returns\"] = signals_df[\"actual_returns\"]\n",
    "predictions_df[\"trading_algorithm_returns\"] = predictions_df[\"actual_returns\"] * predictions_df[\"predicted_signal\"]\n",
    "display(predictions_df.head())\n",
    "display(predictions_df.tail())"
   ]
  },
  {
   "cell_type": "code",
   "execution_count": 27,
   "metadata": {},
   "outputs": [
    {
     "data": {
      "text/plain": [
       "<AxesSubplot:xlabel='datetime'>"
      ]
     },
     "execution_count": 27,
     "metadata": {},
     "output_type": "execute_result"
    },
    {
     "data": {
      "image/png": "[encoded data removed]",
      "text/plain": [
       "<Figure size 432x288 with 1 Axes>"
      ]
     },
     "metadata": {
      "needs_background": "light"
     },
     "output_type": "display_data"
    }
   ],
   "source": [
    "# Calculate and plot the cumulative returns for the `actual_returns` and the `trading_algorithm_returns`\n",
    "(1 + predictions_df[[\"actual_returns\", \"trading_algorithm_returns\"]]).cumprod().plot()"
   ]
  },
  {
   "cell_type": "markdown",
   "metadata": {},
   "source": [
    "---\n",
    "\n",
    "# Add a New Machine Learning Model"
   ]
  },
  {
   "cell_type": "markdown",
   "metadata": {},
   "source": [
    "## Import the `LogisticRegression` model from scikit-learn.\n"
   ]
  },
  {
   "cell_type": "code",
   "execution_count": 28,
   "metadata": {},
   "outputs": [],
   "source": [
    "# Import LogisticRegression from sklearn\n",
    "from sklearn.linear_model import LogisticRegression"
   ]
  },
  {
   "cell_type": "code",
   "execution_count": 29,
   "metadata": {},
   "outputs": [],
   "source": [
    "# Create an instance of the LogisticRegression model\n",
    "logistic_regression_model = LogisticRegression()"
   ]
  },
  {
   "cell_type": "markdown",
   "metadata": {},
   "source": [
    "## Using the same training data that the SVM model used (`X_train_scaled` and `y_train`), fit the `LogisticRegression` model."
   ]
  },
  {
   "cell_type": "code",
   "execution_count": 30,
   "metadata": {},
   "outputs": [
    {
     "data": {
      "text/plain": [
       "LogisticRegression()"
      ]
     },
     "execution_count": 30,
     "metadata": {},
     "output_type": "execute_result"
    }
   ],
   "source": [
    "# Fit the LogisticRegression model\n",
    "logistic_regression_model.fit(X_train_scaled, y_train)"
   ]
  },
  {
   "cell_type": "markdown",
   "metadata": {},
   "source": [
    "## Use the trained model to predict the trading signals for the training data. Use the `classification_report` module to evaluate the model."
   ]
  },
  {
   "cell_type": "code",
   "execution_count": 31,
   "metadata": {},
   "outputs": [
    {
     "data": {
      "text/plain": [
       "array([ 1.,  1.,  1.,  1.,  1.,  1.,  1.,  1.,  1.,  1.,  1.,  1.,  1.,\n",
       "        1.,  1.,  1.,  1.,  1.,  1.,  1.,  1.,  1., -1., -1., -1., -1.,\n",
       "       -1., -1., -1., -1., -1., -1., -1., -1., -1., -1., -1., -1., -1.,\n",
       "       -1., -1., -1., -1., -1., -1., -1., -1., -1., -1., -1., -1., -1.,\n",
       "       -1., -1., -1., -1., -1., -1., -1., -1.,  1.,  1.,  1.,  1.,  1.,\n",
       "        1.,  1.,  1.,  1.,  1.,  1.,  1.,  1.,  1.,  1.,  1.,  1.,  1.,\n",
       "        1.,  1.,  1.,  1.,  1.,  1.,  1.,  1.,  1.,  1.,  1.,  1.,  1.,\n",
       "        1.,  1.])"
      ]
     },
     "execution_count": 31,
     "metadata": {},
     "output_type": "execute_result"
    }
   ],
   "source": [
    "# Use the trained LogisticRegression model to predict the trading signals for the training data\n",
    "lr_training_signal_predictions = logistic_regression_model.predict(X_train_scaled)\n",
    "\n",
    "# Display the predictions\n",
    "lr_training_signal_predictions"
   ]
  },
  {
   "cell_type": "code",
   "execution_count": 32,
   "metadata": {},
   "outputs": [
    {
     "name": "stdout",
     "output_type": "stream",
     "text": [
      "              precision    recall  f1-score   support\n",
      "\n",
      "        -1.0       0.50      0.45      0.48        42\n",
      "         1.0       0.58      0.63      0.60        51\n",
      "\n",
      "    accuracy                           0.55        93\n",
      "   macro avg       0.54      0.54      0.54        93\n",
      "weighted avg       0.54      0.55      0.55        93\n",
      "\n"
     ]
    }
   ],
   "source": [
    "# Generate a classification report using the training data and the logistic regression model's predications\n",
    "lr_training_report = classification_report(y_train, lr_training_signal_predictions)\n",
    "\n",
    "# Review the classification report\n",
    "print(lr_training_report)"
   ]
  },
  {
   "cell_type": "markdown",
   "metadata": {},
   "source": [
    "## Backtest the `LogisticRegression` model using the testing data to evaluate its performance."
   ]
  },
  {
   "cell_type": "code",
   "execution_count": 33,
   "metadata": {},
   "outputs": [],
   "source": [
    "# Use the trained model to predict the trading signals for the testing data.\n",
    "lr_testing_signal_predictions = logistic_regression_model.predict(X_test_scaled)"
   ]
  },
  {
   "cell_type": "code",
   "execution_count": 34,
   "metadata": {},
   "outputs": [
    {
     "name": "stdout",
     "output_type": "stream",
     "text": [
      "              precision    recall  f1-score   support\n",
      "\n",
      "        -1.0       0.43      0.58      0.49       367\n",
      "         1.0       0.49      0.34      0.40       438\n",
      "\n",
      "    accuracy                           0.45       805\n",
      "   macro avg       0.46      0.46      0.45       805\n",
      "weighted avg       0.46      0.45      0.44       805\n",
      "\n"
     ]
    }
   ],
   "source": [
    "# Generate a classification report using the testing data and the logistic regression model's predictions\n",
    "lr_testing_report = classification_report(y_test, lr_testing_signal_predictions)\n",
    "\n",
    "# Review the testing classification report\n",
    "print(lr_testing_report)"
   ]
  },
  {
   "cell_type": "markdown",
   "metadata": {},
   "source": [
    "## Compare the performance of the logistic regression and SVM models using the classification reports generated with the testing data. "
   ]
  },
  {
   "cell_type": "code",
   "execution_count": 35,
   "metadata": {},
   "outputs": [
    {
     "name": "stdout",
     "output_type": "stream",
     "text": [
      "Logistic Regression Classification Report\n",
      "              precision    recall  f1-score   support\n",
      "\n",
      "        -1.0       0.43      0.58      0.49       367\n",
      "         1.0       0.49      0.34      0.40       438\n",
      "\n",
      "    accuracy                           0.45       805\n",
      "   macro avg       0.46      0.46      0.45       805\n",
      "weighted avg       0.46      0.45      0.44       805\n",
      "\n"
     ]
    }
   ],
   "source": [
    "# Print the classification report for the Logistic Regression model using the test data\n",
    "print(\"Logistic Regression Classification Report\")\n",
    "print(lr_testing_report)"
   ]
  },
  {
   "cell_type": "code",
   "execution_count": 36,
   "metadata": {},
   "outputs": [
    {
     "name": "stdout",
     "output_type": "stream",
     "text": [
      "SVM Classification Report\n",
      "              precision    recall  f1-score   support\n",
      "\n",
      "        -1.0       0.47      0.05      0.10       367\n",
      "         1.0       0.54      0.95      0.69       438\n",
      "\n",
      "    accuracy                           0.54       805\n",
      "   macro avg       0.50      0.50      0.39       805\n",
      "weighted avg       0.51      0.54      0.42       805\n",
      "\n"
     ]
    }
   ],
   "source": [
    "# Print the classification report for the SVM model using the test data\n",
    "print(\"SVM Classification Report\")\n",
    "print(svm_testing_report)"
   ]
  },
  {
   "cell_type": "markdown",
   "metadata": {},
   "source": [
    "### Answer the following question:"
   ]
  },
  {
   "cell_type": "markdown",
   "metadata": {},
   "source": [
    "**Question:** Did the `LogisticRegression` perform better than the `SVM`?\n",
    "\n",
    "**Answer:** No! The SVM model performs a bit better than the logistic regression model since it has a higher accuracy score (54% to 45%)."
   ]
  }
 ],
 "metadata": {
  "kernelspec": {
   "display_name": "Python 3 (ipykernel)",
   "language": "python",
   "name": "python3"
  },
  "language_info": {
   "codemirror_mode": {
    "name": "ipython",
    "version": 3
   },
   "file_extension": ".py",
   "mimetype": "text/x-python",
   "name": "python",
   "nbconvert_exporter": "python",
   "pygments_lexer": "ipython3",
   "version": "3.7.11"
  }
 },
 "nbformat": 4,
 "nbformat_minor": 4
}
